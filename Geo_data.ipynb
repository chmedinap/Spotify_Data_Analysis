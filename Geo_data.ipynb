{
 "cells": [
  {
   "cell_type": "markdown",
   "source": [
    "# Geolocation analysis"
   ],
   "metadata": {
    "collapsed": false,
    "pycharm": {
     "name": "#%% md\n"
    }
   }
  },
  {
   "cell_type": "markdown",
   "source": [
    "By now we know that Rush was a very popular band in the 70s and 80s mainly for their short songs, however, their focus was more towards long songs especially in their first albums. As time passed the band dedicated themselves to making not so long songs, but the albums had more and more.\n",
    "\n",
    "Now, what can Spotify tell us about geolocation? In this part I will use Spotify's \"markets\" field to determine if Rush albums are in all countries."
   ],
   "metadata": {
    "collapsed": false,
    "pycharm": {
     "name": "#%% md\n"
    }
   }
  },
  {
   "cell_type": "markdown",
   "source": [
    "    GET /artist/{id}\n",
    "    GET /artist/{id}/albums\n",
    "\n",
    "\n",
    "| Parameter       | Type     | Description                                                                                                      |\n",
    "|:----------------|:---------|:-----------------------------------------------------------------------------------------------------------------|\n",
    "| id (required)   | `string` | Get Spotify catalog information for a single artist identified by their unique Spotify ID.The ID of the artist.  |\n",
    "| albums          | `string` | Get Spotify catalog information about an artist's albums.                                                        |"
   ],
   "metadata": {
    "collapsed": false,
    "pycharm": {
     "name": "#%% md\n"
    }
   }
  },
  {
   "cell_type": "markdown",
   "source": [
    "## Libraries\n",
    "Import the libraries I will need:"
   ],
   "metadata": {
    "collapsed": false,
    "pycharm": {
     "name": "#%% md\n"
    }
   }
  },
  {
   "cell_type": "code",
   "execution_count": 1,
   "metadata": {
    "collapsed": true,
    "pycharm": {
     "name": "#%%\n"
    }
   },
   "outputs": [],
   "source": [
    "from pandas import json_normalize\n",
    "import requests\n",
    "import plotly.express as px\n",
    "import plotly.io as pio\n",
    "pio.renderers.default = \"plotly_mimetype+notebook_connected\"\n",
    "import plotly.graph_objects as go\n",
    "from plotly.subplots import make_subplots\n",
    "import pandas as pd\n",
    "import numpy as np\n",
    "from pycountry_convert import country_alpha2_to_country_name, country_name_to_country_alpha3\n",
    "import plotly.offline as po\n",
    "import plotly.graph_objs as pg"
   ]
  },
  {
   "cell_type": "markdown",
   "source": [
    "This is the section of the authentication and generation of the token that was already explained in the first section"
   ],
   "metadata": {
    "collapsed": false,
    "pycharm": {
     "name": "#%% md\n"
    }
   }
  },
  {
   "cell_type": "code",
   "execution_count": 2,
   "outputs": [],
   "source": [
    "CLIENT_ID = '81e800e81ecf4997b5b9fb12efeb3ff2'\n",
    "CLIENT_SECRET = '0e4364f440f148779d8a9f17976ecf1b'\n",
    "def get_token():\n",
    "    url = 'https://accounts.spotify.com/api/token'\n",
    "    auth_response = requests.post(url, {\n",
    "        'grant_type': 'client_credentials',\n",
    "        'client_id': CLIENT_ID,\n",
    "        'client_secret': CLIENT_SECRET,\n",
    "    })\n",
    "    if auth_response.status_code != 200:\n",
    "        raise Exception('Error getting token')\n",
    "    else:\n",
    "        auth_response_data = auth_response.json()\n",
    "        return auth_response_data['access_token']\n",
    "access_token = get_token()\n",
    "header = {\n",
    "    'Authorization': 'Bearer {token}'.format(token=access_token),\n",
    "    'accept':'application/json'\n",
    "}\n",
    "base_url = 'https://api.spotify.com/v1/'"
   ],
   "metadata": {
    "collapsed": false,
    "pycharm": {
     "name": "#%%\n"
    }
   }
  },
  {
   "cell_type": "code",
   "execution_count": 3,
   "outputs": [
    {
     "name": "stdout",
     "output_type": "stream",
     "text": [
      "the artist name is:  Rush\n"
     ]
    }
   ],
   "source": [
    "#ask for user input for artist name\n",
    "artist_name = input('Enter artist name: ')\n",
    "print('the artist name is: ', artist_name)\n",
    "#get artist id\n",
    "artist_id = requests.get(base_url + 'search?q={}&type=artist'.format(artist_name), headers=header).json()['artists']['items'][0]['id']"
   ],
   "metadata": {
    "collapsed": false,
    "pycharm": {
     "name": "#%%\n"
    }
   }
  },
  {
   "cell_type": "markdown",
   "source": [
    "## Get the data"
   ],
   "metadata": {
    "collapsed": false,
    "pycharm": {
     "name": "#%% md\n"
    }
   }
  },
  {
   "cell_type": "markdown",
   "source": [
    "To get all the IDs and markets available for albums under the Rush name, I have to make a request to /albums.\n",
    "\n",
    "As in the previous sections I will remove some columns that I don't need and I will extract the year of publication in a separate column."
   ],
   "metadata": {
    "collapsed": false,
    "pycharm": {
     "name": "#%% md\n"
    }
   }
  },
  {
   "cell_type": "code",
   "execution_count": 4,
   "outputs": [
    {
     "data": {
      "text/plain": "  album_group                                  available_markets  \\\n0       album                                           [CA, JP]   \n1       album  [AD, AE, AG, AL, AM, AO, AR, AT, AU, AZ, BA, B...   \n2       album                                           [CA, JP]   \n3       album  [AD, AE, AG, AL, AM, AO, AR, AT, AU, AZ, BA, B...   \n4       album                                               [CA]   \n\n                       id                                             name  \\\n0  5nZ5I0gA3x6KEkIpHQWw4l               Moving Pictures (40th Anniversary)   \n1  2PBaIv21OWCmecNenZionV  Moving Pictures (40th Anniversary Super Deluxe)   \n2  3EUhoI6JRdxYzml9gHWzJI               Permanent Waves (40th Anniversary)   \n3  06hsxtm7Y1gDM5sNliCD5d               Permanent Waves (40th Anniversary)   \n4  0UQOn626iDanxtIZlnQyUK                   Hemispheres (40th Anniversary)   \n\n  release_date  total_tracks Release Date  \n0   2022-04-15            26         2022  \n1   2022-04-15            26         2022  \n2   2020-05-29            18         2020  \n3   2020-05-29            18         2020  \n4   2018-11-16            14         2018  ",
      "text/html": "<div>\n<style scoped>\n    .dataframe tbody tr th:only-of-type {\n        vertical-align: middle;\n    }\n\n    .dataframe tbody tr th {\n        vertical-align: top;\n    }\n\n    .dataframe thead th {\n        text-align: right;\n    }\n</style>\n<table border=\"1\" class=\"dataframe\">\n  <thead>\n    <tr style=\"text-align: right;\">\n      <th></th>\n      <th>album_group</th>\n      <th>available_markets</th>\n      <th>id</th>\n      <th>name</th>\n      <th>release_date</th>\n      <th>total_tracks</th>\n      <th>Release Date</th>\n    </tr>\n  </thead>\n  <tbody>\n    <tr>\n      <th>0</th>\n      <td>album</td>\n      <td>[CA, JP]</td>\n      <td>5nZ5I0gA3x6KEkIpHQWw4l</td>\n      <td>Moving Pictures (40th Anniversary)</td>\n      <td>2022-04-15</td>\n      <td>26</td>\n      <td>2022</td>\n    </tr>\n    <tr>\n      <th>1</th>\n      <td>album</td>\n      <td>[AD, AE, AG, AL, AM, AO, AR, AT, AU, AZ, BA, B...</td>\n      <td>2PBaIv21OWCmecNenZionV</td>\n      <td>Moving Pictures (40th Anniversary Super Deluxe)</td>\n      <td>2022-04-15</td>\n      <td>26</td>\n      <td>2022</td>\n    </tr>\n    <tr>\n      <th>2</th>\n      <td>album</td>\n      <td>[CA, JP]</td>\n      <td>3EUhoI6JRdxYzml9gHWzJI</td>\n      <td>Permanent Waves (40th Anniversary)</td>\n      <td>2020-05-29</td>\n      <td>18</td>\n      <td>2020</td>\n    </tr>\n    <tr>\n      <th>3</th>\n      <td>album</td>\n      <td>[AD, AE, AG, AL, AM, AO, AR, AT, AU, AZ, BA, B...</td>\n      <td>06hsxtm7Y1gDM5sNliCD5d</td>\n      <td>Permanent Waves (40th Anniversary)</td>\n      <td>2020-05-29</td>\n      <td>18</td>\n      <td>2020</td>\n    </tr>\n    <tr>\n      <th>4</th>\n      <td>album</td>\n      <td>[CA]</td>\n      <td>0UQOn626iDanxtIZlnQyUK</td>\n      <td>Hemispheres (40th Anniversary)</td>\n      <td>2018-11-16</td>\n      <td>14</td>\n      <td>2018</td>\n    </tr>\n  </tbody>\n</table>\n</div>"
     },
     "execution_count": 4,
     "metadata": {},
     "output_type": "execute_result"
    }
   ],
   "source": [
    "#extract all albums of artist\n",
    "r_albums = requests.get(base_url + 'artists/' + artist_id + '/albums', headers=header, params={'limit':50, 'include_groups':'album'})\n",
    "r_albums=r_albums.json()\n",
    "df_albums=json_normalize(r_albums['items'])\n",
    "#get next page\n",
    "while r_albums['next']:\n",
    "    r_albums = requests.get(r_albums['next'], headers=header)\n",
    "    r_albums=r_albums.json()\n",
    "    df_albums=df_albums.append(json_normalize(r_albums['items']))\n",
    "df_albums=df_albums.drop(['album_type',\n",
    "                          'artists',\n",
    "                          'href',\n",
    "                          'images',\n",
    "                          'release_date_precision',\n",
    "                          'external_urls.spotify',\n",
    "                          'uri',\n",
    "                          'type'],axis=1)\n",
    "df_albums['Release Date'] = df_albums['release_date'].apply(lambda x: x[:4])\n",
    "df_albums.head(5)"
   ],
   "metadata": {
    "collapsed": false,
    "pycharm": {
     "name": "#%%\n"
    }
   }
  },
  {
   "cell_type": "markdown",
   "source": [],
   "metadata": {
    "collapsed": false,
    "pycharm": {
     "name": "#%% md\n"
    }
   }
  },
  {
   "cell_type": "markdown",
   "source": [
    "## How many markets can each album have?"
   ],
   "metadata": {
    "collapsed": false,
    "pycharm": {
     "name": "#%% md\n"
    }
   }
  },
  {
   "cell_type": "code",
   "execution_count": 5,
   "outputs": [
    {
     "data": {
      "text/plain": "  album_group                                  available_markets  \\\n0       album  [AD, AE, AL, AM, AO, AR, AT, AU, AZ, BA, BD, B...   \n1       album                                               [JP]   \n2       album                                               [CA]   \n3       album  [AD, AE, AG, AL, AM, AO, AR, AT, AU, AZ, BA, B...   \n4       album                                               [JP]   \n\n                       id                name release_date  total_tracks  \\\n0  43OvqHDAEOUKfHNFPCgsvf  The First Us Tours         1974            23   \n1  5foiAR3bxvhZ2660J8Nntg                Rush   1974-03-01             8   \n2  0lZRCf7prVEVVYjH5Im0TS                Rush   1974-01-01             8   \n3  57ystaP7WpAOxvCxKFxByS                Rush   1974-01-01             8   \n4  4FZkxs4KHgwYJQ94cWMFqz        Fly by Night   1975-02-15             8   \n\n  Release Date  count_available_markets  \n0         1974                      161  \n1         1974                        1  \n2         1974                        1  \n3         1974                      178  \n4         1975                        1  ",
      "text/html": "<div>\n<style scoped>\n    .dataframe tbody tr th:only-of-type {\n        vertical-align: middle;\n    }\n\n    .dataframe tbody tr th {\n        vertical-align: top;\n    }\n\n    .dataframe thead th {\n        text-align: right;\n    }\n</style>\n<table border=\"1\" class=\"dataframe\">\n  <thead>\n    <tr style=\"text-align: right;\">\n      <th></th>\n      <th>album_group</th>\n      <th>available_markets</th>\n      <th>id</th>\n      <th>name</th>\n      <th>release_date</th>\n      <th>total_tracks</th>\n      <th>Release Date</th>\n      <th>count_available_markets</th>\n    </tr>\n  </thead>\n  <tbody>\n    <tr>\n      <th>0</th>\n      <td>album</td>\n      <td>[AD, AE, AL, AM, AO, AR, AT, AU, AZ, BA, BD, B...</td>\n      <td>43OvqHDAEOUKfHNFPCgsvf</td>\n      <td>The First Us Tours</td>\n      <td>1974</td>\n      <td>23</td>\n      <td>1974</td>\n      <td>161</td>\n    </tr>\n    <tr>\n      <th>1</th>\n      <td>album</td>\n      <td>[JP]</td>\n      <td>5foiAR3bxvhZ2660J8Nntg</td>\n      <td>Rush</td>\n      <td>1974-03-01</td>\n      <td>8</td>\n      <td>1974</td>\n      <td>1</td>\n    </tr>\n    <tr>\n      <th>2</th>\n      <td>album</td>\n      <td>[CA]</td>\n      <td>0lZRCf7prVEVVYjH5Im0TS</td>\n      <td>Rush</td>\n      <td>1974-01-01</td>\n      <td>8</td>\n      <td>1974</td>\n      <td>1</td>\n    </tr>\n    <tr>\n      <th>3</th>\n      <td>album</td>\n      <td>[AD, AE, AG, AL, AM, AO, AR, AT, AU, AZ, BA, B...</td>\n      <td>57ystaP7WpAOxvCxKFxByS</td>\n      <td>Rush</td>\n      <td>1974-01-01</td>\n      <td>8</td>\n      <td>1974</td>\n      <td>178</td>\n    </tr>\n    <tr>\n      <th>4</th>\n      <td>album</td>\n      <td>[JP]</td>\n      <td>4FZkxs4KHgwYJQ94cWMFqz</td>\n      <td>Fly by Night</td>\n      <td>1975-02-15</td>\n      <td>8</td>\n      <td>1975</td>\n      <td>1</td>\n    </tr>\n  </tbody>\n</table>\n</div>"
     },
     "execution_count": 5,
     "metadata": {},
     "output_type": "execute_result"
    }
   ],
   "source": [
    "#COUNT NUMBER OF ALBUMS AVAILABLE per MARKET\n",
    "df_albums['count_available_markets'] = df_albums['available_markets'].apply(lambda x: len(x))\n",
    "#sort count_available_markets\n",
    "df_albums = df_albums.sort_values(by=['Release Date'], ascending=True)\n",
    "df_albums = df_albums.reset_index(drop=True)\n",
    "df_albums.head(5)"
   ],
   "metadata": {
    "collapsed": false,
    "pycharm": {
     "name": "#%%\n"
    }
   }
  },
  {
   "cell_type": "markdown",
   "source": [
    "The following graph shows:\n",
    "\n",
    "- How many releases are there for each album\n",
    "- In how many markets is it available\n",
    "\n",
    "They are organized by year of release"
   ],
   "metadata": {
    "collapsed": false,
    "pycharm": {
     "name": "#%% md\n"
    }
   }
  },
  {
   "cell_type": "code",
   "execution_count": 6,
   "outputs": [
    {
     "data": {
      "text/html": "        <script type=\"text/javascript\">\n        window.PlotlyConfig = {MathJaxConfig: 'local'};\n        if (window.MathJax && window.MathJax.Hub && window.MathJax.Hub.Config) {window.MathJax.Hub.Config({SVG: {font: \"STIX-Web\"}});}\n        if (typeof require !== 'undefined') {\n        require.undef(\"plotly\");\n        requirejs.config({\n            paths: {\n                'plotly': ['https://cdn.plot.ly/plotly-2.14.0.min']\n            }\n        });\n        require(['plotly'], function(Plotly) {\n            window._Plotly = Plotly;\n        });\n        }\n        </script>\n        "
     },
     "metadata": {},
     "output_type": "display_data"
    },
    {
     "data": {
      "application/vnd.plotly.v1+json": {
       "data": [
        {
         "coloraxis": "coloraxis",
         "hovertemplate": "name=%{x}<br>count_available_markets=%{y}<br>count=%{z}<extra></extra>",
         "name": "",
         "x": [
          "The First Us Tours",
          "Rush",
          "Rush",
          "Rush",
          "Fly by Night",
          "Fly By Night",
          "Fly By Night",
          "Caress of Steel",
          "Caress Of Steel",
          "Caress Of Steel",
          "All The World's A Stage",
          "All the World's a Stage (Live)",
          "All The World's A Stage",
          "2112",
          "2112 (Remastered)",
          "2112",
          "2112",
          "A Farewell to Kings",
          "A Farewell To Kings",
          "A Farewell To Kings",
          "Hemispheres",
          "Hemispheres",
          "Hemispheres",
          "Permanent Waves",
          "Permanent Waves",
          "Permanent Waves",
          "Exit ... Stage Left",
          "Exit...Stage Left",
          "Exit ... Stage Left",
          "Moving Pictures",
          "Moving Pictures (2011 Remaster)",
          "Exit... Stage Left (Live)",
          "Moving Pictures",
          "Moving Pictures (2011 Remaster)",
          "Signals",
          "Signals",
          "Grace Under Pressure",
          "Grace Under Pressure",
          "Power Windows",
          "Power Windows",
          "Power Windows",
          "Hold Your Fire",
          "Hold Your Fire",
          "Hold Your Fire",
          "A Show of Hands (Live)",
          "A Show Of Hands",
          "A Show Of Hands",
          "Presto",
          "Presto",
          "Chronicles",
          "Roll The Bones",
          "Roll the Bones (2004 Remaster)",
          "Counterparts (2004 Remaster)",
          "Counterparts",
          "Test For Echo",
          "Test For Echo",
          "Test for Echo (2004 Remaster)",
          "Different Stages (Live)",
          "Different Stages",
          "Vapor Trails (2013 Remix)",
          "Vapor Trails",
          "Rush in Rio (Live)",
          "Feedback",
          "Feedback",
          "Rush in Rio (Live)",
          "R30 (Live)",
          "R30",
          "Grace Under Pressure Tour Live (Live - Grace Under Pressure Tour)",
          "Snakes & Arrows",
          "Snakes & Arrows",
          "Snakes & Arrows",
          "Snakes & Arrows Live",
          "Snakes & Arrows Live",
          "Retrospective III",
          "Moving Pictures: Live 2011",
          "Moving Pictures: Live 2011",
          "Time Machine 2011: Live In Cleveland",
          "Time Machine 2011: Live in Cleveland",
          "Time Machine 2011: Live in Cleveland",
          "Time Machine: Live in Cleveland",
          "Clockwork Angels",
          "Clockwork Angels",
          "Clockwork Angels Tour",
          "Clockwork Angels Tour",
          "Clockwork Angels Tour",
          "R40 Live (Live At Air Canada Centre, Toronto, Canada / June 2015)",
          "R40 Live",
          "2112 - 40 Years Closer: A Q&A With Alex Lifeson And Terry Brown Commentary",
          "2112 (40 Anniversary)",
          "2112 (40th Anniversary)",
          "2112 (40th Anniversary/Pt. 2)",
          "2112 (40th Anniversary/Pt. 1)",
          "2112 (40th Anniversary)",
          "A Farewell to Kings (40th Anniversary) [Deluxe Edition]",
          "A Farewell To Kings (40th Anniversary/Deluxe Edition)",
          "A Farewell To Kings (40th Anniversary Deluxe Edition)",
          "Hemispheres (40th Anniversary)",
          "Hemispheres (40th Anniversary)",
          "Hemispheres (40th Anniversary)",
          "Permanent Waves (40th Anniversary)",
          "Permanent Waves (40th Anniversary)",
          "Moving Pictures (40th Anniversary Super Deluxe)",
          "Moving Pictures (40th Anniversary)"
         ],
         "xaxis": "x",
         "xbingroup": "x",
         "y": [
          161,
          1,
          1,
          178,
          1,
          178,
          1,
          1,
          1,
          181,
          1,
          1,
          176,
          15,
          176,
          1,
          176,
          1,
          1,
          176,
          1,
          176,
          1,
          176,
          1,
          1,
          2,
          1,
          176,
          19,
          182,
          1,
          1,
          1,
          176,
          1,
          176,
          1,
          176,
          1,
          1,
          1,
          1,
          178,
          1,
          1,
          176,
          182,
          1,
          1,
          1,
          182,
          182,
          1,
          1,
          1,
          182,
          1,
          182,
          182,
          1,
          1,
          182,
          1,
          182,
          1,
          182,
          177,
          1,
          182,
          1,
          1,
          182,
          1,
          182,
          1,
          182,
          1,
          1,
          1,
          1,
          182,
          1,
          1,
          169,
          182,
          1,
          1,
          181,
          1,
          1,
          1,
          1,
          1,
          1,
          181,
          1,
          181,
          1,
          181,
          2,
          180,
          2
         ],
         "yaxis": "y",
         "ybingroup": "y",
         "type": "histogram2d"
        },
        {
         "alignmentgroup": "True",
         "bingroup": "x",
         "hovertemplate": "name=%{x}<br>count=%{y}<extra></extra>",
         "legendgroup": "",
         "marker": {
          "color": "rgb(20,44,66)"
         },
         "name": "",
         "offsetgroup": "",
         "opacity": 0.5,
         "showlegend": false,
         "x": [
          "The First Us Tours",
          "Rush",
          "Rush",
          "Rush",
          "Fly by Night",
          "Fly By Night",
          "Fly By Night",
          "Caress of Steel",
          "Caress Of Steel",
          "Caress Of Steel",
          "All The World's A Stage",
          "All the World's a Stage (Live)",
          "All The World's A Stage",
          "2112",
          "2112 (Remastered)",
          "2112",
          "2112",
          "A Farewell to Kings",
          "A Farewell To Kings",
          "A Farewell To Kings",
          "Hemispheres",
          "Hemispheres",
          "Hemispheres",
          "Permanent Waves",
          "Permanent Waves",
          "Permanent Waves",
          "Exit ... Stage Left",
          "Exit...Stage Left",
          "Exit ... Stage Left",
          "Moving Pictures",
          "Moving Pictures (2011 Remaster)",
          "Exit... Stage Left (Live)",
          "Moving Pictures",
          "Moving Pictures (2011 Remaster)",
          "Signals",
          "Signals",
          "Grace Under Pressure",
          "Grace Under Pressure",
          "Power Windows",
          "Power Windows",
          "Power Windows",
          "Hold Your Fire",
          "Hold Your Fire",
          "Hold Your Fire",
          "A Show of Hands (Live)",
          "A Show Of Hands",
          "A Show Of Hands",
          "Presto",
          "Presto",
          "Chronicles",
          "Roll The Bones",
          "Roll the Bones (2004 Remaster)",
          "Counterparts (2004 Remaster)",
          "Counterparts",
          "Test For Echo",
          "Test For Echo",
          "Test for Echo (2004 Remaster)",
          "Different Stages (Live)",
          "Different Stages",
          "Vapor Trails (2013 Remix)",
          "Vapor Trails",
          "Rush in Rio (Live)",
          "Feedback",
          "Feedback",
          "Rush in Rio (Live)",
          "R30 (Live)",
          "R30",
          "Grace Under Pressure Tour Live (Live - Grace Under Pressure Tour)",
          "Snakes & Arrows",
          "Snakes & Arrows",
          "Snakes & Arrows",
          "Snakes & Arrows Live",
          "Snakes & Arrows Live",
          "Retrospective III",
          "Moving Pictures: Live 2011",
          "Moving Pictures: Live 2011",
          "Time Machine 2011: Live In Cleveland",
          "Time Machine 2011: Live in Cleveland",
          "Time Machine 2011: Live in Cleveland",
          "Time Machine: Live in Cleveland",
          "Clockwork Angels",
          "Clockwork Angels",
          "Clockwork Angels Tour",
          "Clockwork Angels Tour",
          "Clockwork Angels Tour",
          "R40 Live (Live At Air Canada Centre, Toronto, Canada / June 2015)",
          "R40 Live",
          "2112 - 40 Years Closer: A Q&A With Alex Lifeson And Terry Brown Commentary",
          "2112 (40 Anniversary)",
          "2112 (40th Anniversary)",
          "2112 (40th Anniversary/Pt. 2)",
          "2112 (40th Anniversary/Pt. 1)",
          "2112 (40th Anniversary)",
          "A Farewell to Kings (40th Anniversary) [Deluxe Edition]",
          "A Farewell To Kings (40th Anniversary/Deluxe Edition)",
          "A Farewell To Kings (40th Anniversary Deluxe Edition)",
          "Hemispheres (40th Anniversary)",
          "Hemispheres (40th Anniversary)",
          "Hemispheres (40th Anniversary)",
          "Permanent Waves (40th Anniversary)",
          "Permanent Waves (40th Anniversary)",
          "Moving Pictures (40th Anniversary Super Deluxe)",
          "Moving Pictures (40th Anniversary)"
         ],
         "xaxis": "x2",
         "yaxis": "y2",
         "type": "histogram"
        }
       ],
       "layout": {
        "template": {
         "data": {
          "barpolar": [
           {
            "marker": {
             "line": {
              "color": "rgb(237,237,237)",
              "width": 0.5
             },
             "pattern": {
              "fillmode": "overlay",
              "size": 10,
              "solidity": 0.2
             }
            },
            "type": "barpolar"
           }
          ],
          "bar": [
           {
            "error_x": {
             "color": "rgb(51,51,51)"
            },
            "error_y": {
             "color": "rgb(51,51,51)"
            },
            "marker": {
             "line": {
              "color": "rgb(237,237,237)",
              "width": 0.5
             },
             "pattern": {
              "fillmode": "overlay",
              "size": 10,
              "solidity": 0.2
             }
            },
            "type": "bar"
           }
          ],
          "carpet": [
           {
            "aaxis": {
             "endlinecolor": "rgb(51,51,51)",
             "gridcolor": "white",
             "linecolor": "white",
             "minorgridcolor": "white",
             "startlinecolor": "rgb(51,51,51)"
            },
            "baxis": {
             "endlinecolor": "rgb(51,51,51)",
             "gridcolor": "white",
             "linecolor": "white",
             "minorgridcolor": "white",
             "startlinecolor": "rgb(51,51,51)"
            },
            "type": "carpet"
           }
          ],
          "choropleth": [
           {
            "colorbar": {
             "outlinewidth": 0,
             "tickcolor": "rgb(237,237,237)",
             "ticklen": 6,
             "ticks": "inside"
            },
            "type": "choropleth"
           }
          ],
          "contourcarpet": [
           {
            "colorbar": {
             "outlinewidth": 0,
             "tickcolor": "rgb(237,237,237)",
             "ticklen": 6,
             "ticks": "inside"
            },
            "type": "contourcarpet"
           }
          ],
          "contour": [
           {
            "colorbar": {
             "outlinewidth": 0,
             "tickcolor": "rgb(237,237,237)",
             "ticklen": 6,
             "ticks": "inside"
            },
            "colorscale": [
             [
              0,
              "rgb(20,44,66)"
             ],
             [
              1,
              "rgb(90,179,244)"
             ]
            ],
            "type": "contour"
           }
          ],
          "heatmapgl": [
           {
            "colorbar": {
             "outlinewidth": 0,
             "tickcolor": "rgb(237,237,237)",
             "ticklen": 6,
             "ticks": "inside"
            },
            "colorscale": [
             [
              0,
              "rgb(20,44,66)"
             ],
             [
              1,
              "rgb(90,179,244)"
             ]
            ],
            "type": "heatmapgl"
           }
          ],
          "heatmap": [
           {
            "colorbar": {
             "outlinewidth": 0,
             "tickcolor": "rgb(237,237,237)",
             "ticklen": 6,
             "ticks": "inside"
            },
            "colorscale": [
             [
              0,
              "rgb(20,44,66)"
             ],
             [
              1,
              "rgb(90,179,244)"
             ]
            ],
            "type": "heatmap"
           }
          ],
          "histogram2dcontour": [
           {
            "colorbar": {
             "outlinewidth": 0,
             "tickcolor": "rgb(237,237,237)",
             "ticklen": 6,
             "ticks": "inside"
            },
            "colorscale": [
             [
              0,
              "rgb(20,44,66)"
             ],
             [
              1,
              "rgb(90,179,244)"
             ]
            ],
            "type": "histogram2dcontour"
           }
          ],
          "histogram2d": [
           {
            "colorbar": {
             "outlinewidth": 0,
             "tickcolor": "rgb(237,237,237)",
             "ticklen": 6,
             "ticks": "inside"
            },
            "colorscale": [
             [
              0,
              "rgb(20,44,66)"
             ],
             [
              1,
              "rgb(90,179,244)"
             ]
            ],
            "type": "histogram2d"
           }
          ],
          "histogram": [
           {
            "marker": {
             "pattern": {
              "fillmode": "overlay",
              "size": 10,
              "solidity": 0.2
             }
            },
            "type": "histogram"
           }
          ],
          "mesh3d": [
           {
            "colorbar": {
             "outlinewidth": 0,
             "tickcolor": "rgb(237,237,237)",
             "ticklen": 6,
             "ticks": "inside"
            },
            "type": "mesh3d"
           }
          ],
          "parcoords": [
           {
            "line": {
             "colorbar": {
              "outlinewidth": 0,
              "tickcolor": "rgb(237,237,237)",
              "ticklen": 6,
              "ticks": "inside"
             }
            },
            "type": "parcoords"
           }
          ],
          "pie": [
           {
            "automargin": true,
            "type": "pie"
           }
          ],
          "scatter3d": [
           {
            "line": {
             "colorbar": {
              "outlinewidth": 0,
              "tickcolor": "rgb(237,237,237)",
              "ticklen": 6,
              "ticks": "inside"
             }
            },
            "marker": {
             "colorbar": {
              "outlinewidth": 0,
              "tickcolor": "rgb(237,237,237)",
              "ticklen": 6,
              "ticks": "inside"
             }
            },
            "type": "scatter3d"
           }
          ],
          "scattercarpet": [
           {
            "marker": {
             "colorbar": {
              "outlinewidth": 0,
              "tickcolor": "rgb(237,237,237)",
              "ticklen": 6,
              "ticks": "inside"
             }
            },
            "type": "scattercarpet"
           }
          ],
          "scattergeo": [
           {
            "marker": {
             "colorbar": {
              "outlinewidth": 0,
              "tickcolor": "rgb(237,237,237)",
              "ticklen": 6,
              "ticks": "inside"
             }
            },
            "type": "scattergeo"
           }
          ],
          "scattergl": [
           {
            "marker": {
             "colorbar": {
              "outlinewidth": 0,
              "tickcolor": "rgb(237,237,237)",
              "ticklen": 6,
              "ticks": "inside"
             }
            },
            "type": "scattergl"
           }
          ],
          "scattermapbox": [
           {
            "marker": {
             "colorbar": {
              "outlinewidth": 0,
              "tickcolor": "rgb(237,237,237)",
              "ticklen": 6,
              "ticks": "inside"
             }
            },
            "type": "scattermapbox"
           }
          ],
          "scatterpolargl": [
           {
            "marker": {
             "colorbar": {
              "outlinewidth": 0,
              "tickcolor": "rgb(237,237,237)",
              "ticklen": 6,
              "ticks": "inside"
             }
            },
            "type": "scatterpolargl"
           }
          ],
          "scatterpolar": [
           {
            "marker": {
             "colorbar": {
              "outlinewidth": 0,
              "tickcolor": "rgb(237,237,237)",
              "ticklen": 6,
              "ticks": "inside"
             }
            },
            "type": "scatterpolar"
           }
          ],
          "scatter": [
           {
            "fillpattern": {
             "fillmode": "overlay",
             "size": 10,
             "solidity": 0.2
            },
            "type": "scatter"
           }
          ],
          "scatterternary": [
           {
            "marker": {
             "colorbar": {
              "outlinewidth": 0,
              "tickcolor": "rgb(237,237,237)",
              "ticklen": 6,
              "ticks": "inside"
             }
            },
            "type": "scatterternary"
           }
          ],
          "surface": [
           {
            "colorbar": {
             "outlinewidth": 0,
             "tickcolor": "rgb(237,237,237)",
             "ticklen": 6,
             "ticks": "inside"
            },
            "colorscale": [
             [
              0,
              "rgb(20,44,66)"
             ],
             [
              1,
              "rgb(90,179,244)"
             ]
            ],
            "type": "surface"
           }
          ],
          "table": [
           {
            "cells": {
             "fill": {
              "color": "rgb(237,237,237)"
             },
             "line": {
              "color": "white"
             }
            },
            "header": {
             "fill": {
              "color": "rgb(217,217,217)"
             },
             "line": {
              "color": "white"
             }
            },
            "type": "table"
           }
          ]
         },
         "layout": {
          "annotationdefaults": {
           "arrowhead": 0,
           "arrowwidth": 1
          },
          "autotypenumbers": "strict",
          "coloraxis": {
           "colorbar": {
            "outlinewidth": 0,
            "tickcolor": "rgb(237,237,237)",
            "ticklen": 6,
            "ticks": "inside"
           }
          },
          "colorscale": {
           "sequential": [
            [
             0,
             "rgb(20,44,66)"
            ],
            [
             1,
             "rgb(90,179,244)"
            ]
           ],
           "sequentialminus": [
            [
             0,
             "rgb(20,44,66)"
            ],
            [
             1,
             "rgb(90,179,244)"
            ]
           ]
          },
          "colorway": [
           "#F8766D",
           "#A3A500",
           "#00BF7D",
           "#00B0F6",
           "#E76BF3"
          ],
          "font": {
           "color": "rgb(51,51,51)"
          },
          "geo": {
           "bgcolor": "white",
           "lakecolor": "white",
           "landcolor": "rgb(237,237,237)",
           "showlakes": true,
           "showland": true,
           "subunitcolor": "white"
          },
          "hoverlabel": {
           "align": "left"
          },
          "hovermode": "closest",
          "paper_bgcolor": "white",
          "plot_bgcolor": "rgb(237,237,237)",
          "polar": {
           "angularaxis": {
            "gridcolor": "white",
            "linecolor": "white",
            "showgrid": true,
            "tickcolor": "rgb(51,51,51)",
            "ticks": "outside"
           },
           "bgcolor": "rgb(237,237,237)",
           "radialaxis": {
            "gridcolor": "white",
            "linecolor": "white",
            "showgrid": true,
            "tickcolor": "rgb(51,51,51)",
            "ticks": "outside"
           }
          },
          "scene": {
           "xaxis": {
            "backgroundcolor": "rgb(237,237,237)",
            "gridcolor": "white",
            "gridwidth": 2,
            "linecolor": "white",
            "showbackground": true,
            "showgrid": true,
            "tickcolor": "rgb(51,51,51)",
            "ticks": "outside",
            "zerolinecolor": "white"
           },
           "yaxis": {
            "backgroundcolor": "rgb(237,237,237)",
            "gridcolor": "white",
            "gridwidth": 2,
            "linecolor": "white",
            "showbackground": true,
            "showgrid": true,
            "tickcolor": "rgb(51,51,51)",
            "ticks": "outside",
            "zerolinecolor": "white"
           },
           "zaxis": {
            "backgroundcolor": "rgb(237,237,237)",
            "gridcolor": "white",
            "gridwidth": 2,
            "linecolor": "white",
            "showbackground": true,
            "showgrid": true,
            "tickcolor": "rgb(51,51,51)",
            "ticks": "outside",
            "zerolinecolor": "white"
           }
          },
          "shapedefaults": {
           "fillcolor": "black",
           "line": {
            "width": 0
           },
           "opacity": 0.3
          },
          "ternary": {
           "aaxis": {
            "gridcolor": "white",
            "linecolor": "white",
            "showgrid": true,
            "tickcolor": "rgb(51,51,51)",
            "ticks": "outside"
           },
           "baxis": {
            "gridcolor": "white",
            "linecolor": "white",
            "showgrid": true,
            "tickcolor": "rgb(51,51,51)",
            "ticks": "outside"
           },
           "bgcolor": "rgb(237,237,237)",
           "caxis": {
            "gridcolor": "white",
            "linecolor": "white",
            "showgrid": true,
            "tickcolor": "rgb(51,51,51)",
            "ticks": "outside"
           }
          },
          "xaxis": {
           "automargin": true,
           "gridcolor": "white",
           "linecolor": "white",
           "showgrid": true,
           "tickcolor": "rgb(51,51,51)",
           "ticks": "outside",
           "title": {
            "standoff": 15
           },
           "zerolinecolor": "white"
          },
          "yaxis": {
           "automargin": true,
           "gridcolor": "white",
           "linecolor": "white",
           "showgrid": true,
           "tickcolor": "rgb(51,51,51)",
           "ticks": "outside",
           "title": {
            "standoff": 15
           },
           "zerolinecolor": "white"
          }
         }
        },
        "xaxis": {
         "anchor": "y",
         "domain": [
          0.0,
          1.0
         ],
         "title": {
          "text": "Albums"
         }
        },
        "yaxis": {
         "anchor": "x",
         "domain": [
          0.0,
          0.7326
         ],
         "title": {
          "text": "Number of Available Markets"
         }
        },
        "xaxis2": {
         "anchor": "y2",
         "domain": [
          0.0,
          1.0
         ],
         "matches": "x",
         "showticklabels": false
        },
        "yaxis2": {
         "anchor": "x2",
         "domain": [
          0.7426,
          1.0
         ],
         "matches": "y2",
         "showticklabels": false,
         "showline": false,
         "ticks": ""
        },
        "coloraxis": {
         "colorbar": {
          "title": {
           "text": "count"
          }
         },
         "colorscale": [
          [
           0.0,
           "rgb(20,44,66)"
          ],
          [
           1.0,
           "rgb(90,179,244)"
          ]
         ]
        },
        "legend": {
         "tracegroupgap": 0
        },
        "margin": {
         "t": 60
        },
        "barmode": "overlay",
        "title": {
         "text": "Top Tracks and Albums of Rush"
        },
        "width": 700,
        "height": 600
       },
       "config": {
        "plotlyServerURL": "https://plot.ly"
       }
      },
      "text/html": "<div>                            <div id=\"10be0622-f671-4a03-9694-7daa33cc11c2\" class=\"plotly-graph-div\" style=\"height:600px; width:700px;\"></div>            <script type=\"text/javascript\">                require([\"plotly\"], function(Plotly) {                    window.PLOTLYENV=window.PLOTLYENV || {};                                    if (document.getElementById(\"10be0622-f671-4a03-9694-7daa33cc11c2\")) {                    Plotly.newPlot(                        \"10be0622-f671-4a03-9694-7daa33cc11c2\",                        [{\"coloraxis\":\"coloraxis\",\"hovertemplate\":\"name=%{x}<br>count_available_markets=%{y}<br>count=%{z}<extra></extra>\",\"name\":\"\",\"x\":[\"The First Us Tours\",\"Rush\",\"Rush\",\"Rush\",\"Fly by Night\",\"Fly By Night\",\"Fly By Night\",\"Caress of Steel\",\"Caress Of Steel\",\"Caress Of Steel\",\"All The World's A Stage\",\"All the World's a Stage (Live)\",\"All The World's A Stage\",\"2112\",\"2112 (Remastered)\",\"2112\",\"2112\",\"A Farewell to Kings\",\"A Farewell To Kings\",\"A Farewell To Kings\",\"Hemispheres\",\"Hemispheres\",\"Hemispheres\",\"Permanent Waves\",\"Permanent Waves\",\"Permanent Waves\",\"Exit ... Stage Left\",\"Exit...Stage Left\",\"Exit ... Stage Left\",\"Moving Pictures\",\"Moving Pictures (2011 Remaster)\",\"Exit... Stage Left (Live)\",\"Moving Pictures\",\"Moving Pictures (2011 Remaster)\",\"Signals\",\"Signals\",\"Grace Under Pressure\",\"Grace Under Pressure\",\"Power Windows\",\"Power Windows\",\"Power Windows\",\"Hold Your Fire\",\"Hold Your Fire\",\"Hold Your Fire\",\"A Show of Hands (Live)\",\"A Show Of Hands\",\"A Show Of Hands\",\"Presto\",\"Presto\",\"Chronicles\",\"Roll The Bones\",\"Roll the Bones (2004 Remaster)\",\"Counterparts (2004 Remaster)\",\"Counterparts\",\"Test For Echo\",\"Test For Echo\",\"Test for Echo (2004 Remaster)\",\"Different Stages (Live)\",\"Different Stages\",\"Vapor Trails (2013 Remix)\",\"Vapor Trails\",\"Rush in Rio (Live)\",\"Feedback\",\"Feedback\",\"Rush in Rio (Live)\",\"R30 (Live)\",\"R30\",\"Grace Under Pressure Tour Live (Live - Grace Under Pressure Tour)\",\"Snakes & Arrows\",\"Snakes & Arrows\",\"Snakes & Arrows\",\"Snakes & Arrows Live\",\"Snakes & Arrows Live\",\"Retrospective III\",\"Moving Pictures: Live 2011\",\"Moving Pictures: Live 2011\",\"Time Machine 2011: Live In Cleveland\",\"Time Machine 2011: Live in Cleveland\",\"Time Machine 2011: Live in Cleveland\",\"Time Machine: Live in Cleveland\",\"Clockwork Angels\",\"Clockwork Angels\",\"Clockwork Angels Tour\",\"Clockwork Angels Tour\",\"Clockwork Angels Tour\",\"R40 Live (Live At Air Canada Centre, Toronto, Canada / June 2015)\",\"R40 Live\",\"2112 - 40 Years Closer: A Q&A With Alex Lifeson And Terry Brown Commentary\",\"2112 (40 Anniversary)\",\"2112 (40th Anniversary)\",\"2112 (40th Anniversary/Pt. 2)\",\"2112 (40th Anniversary/Pt. 1)\",\"2112 (40th Anniversary)\",\"A Farewell to Kings (40th Anniversary) [Deluxe Edition]\",\"A Farewell To Kings (40th Anniversary/Deluxe Edition)\",\"A Farewell To Kings (40th Anniversary Deluxe Edition)\",\"Hemispheres (40th Anniversary)\",\"Hemispheres (40th Anniversary)\",\"Hemispheres (40th Anniversary)\",\"Permanent Waves (40th Anniversary)\",\"Permanent Waves (40th Anniversary)\",\"Moving Pictures (40th Anniversary Super Deluxe)\",\"Moving Pictures (40th Anniversary)\"],\"xaxis\":\"x\",\"xbingroup\":\"x\",\"y\":[161,1,1,178,1,178,1,1,1,181,1,1,176,15,176,1,176,1,1,176,1,176,1,176,1,1,2,1,176,19,182,1,1,1,176,1,176,1,176,1,1,1,1,178,1,1,176,182,1,1,1,182,182,1,1,1,182,1,182,182,1,1,182,1,182,1,182,177,1,182,1,1,182,1,182,1,182,1,1,1,1,182,1,1,169,182,1,1,181,1,1,1,1,1,1,181,1,181,1,181,2,180,2],\"yaxis\":\"y\",\"ybingroup\":\"y\",\"type\":\"histogram2d\"},{\"alignmentgroup\":\"True\",\"bingroup\":\"x\",\"hovertemplate\":\"name=%{x}<br>count=%{y}<extra></extra>\",\"legendgroup\":\"\",\"marker\":{\"color\":\"rgb(20,44,66)\"},\"name\":\"\",\"offsetgroup\":\"\",\"opacity\":0.5,\"showlegend\":false,\"x\":[\"The First Us Tours\",\"Rush\",\"Rush\",\"Rush\",\"Fly by Night\",\"Fly By Night\",\"Fly By Night\",\"Caress of Steel\",\"Caress Of Steel\",\"Caress Of Steel\",\"All The World's A Stage\",\"All the World's a Stage (Live)\",\"All The World's A Stage\",\"2112\",\"2112 (Remastered)\",\"2112\",\"2112\",\"A Farewell to Kings\",\"A Farewell To Kings\",\"A Farewell To Kings\",\"Hemispheres\",\"Hemispheres\",\"Hemispheres\",\"Permanent Waves\",\"Permanent Waves\",\"Permanent Waves\",\"Exit ... Stage Left\",\"Exit...Stage Left\",\"Exit ... Stage Left\",\"Moving Pictures\",\"Moving Pictures (2011 Remaster)\",\"Exit... Stage Left (Live)\",\"Moving Pictures\",\"Moving Pictures (2011 Remaster)\",\"Signals\",\"Signals\",\"Grace Under Pressure\",\"Grace Under Pressure\",\"Power Windows\",\"Power Windows\",\"Power Windows\",\"Hold Your Fire\",\"Hold Your Fire\",\"Hold Your Fire\",\"A Show of Hands (Live)\",\"A Show Of Hands\",\"A Show Of Hands\",\"Presto\",\"Presto\",\"Chronicles\",\"Roll The Bones\",\"Roll the Bones (2004 Remaster)\",\"Counterparts (2004 Remaster)\",\"Counterparts\",\"Test For Echo\",\"Test For Echo\",\"Test for Echo (2004 Remaster)\",\"Different Stages (Live)\",\"Different Stages\",\"Vapor Trails (2013 Remix)\",\"Vapor Trails\",\"Rush in Rio (Live)\",\"Feedback\",\"Feedback\",\"Rush in Rio (Live)\",\"R30 (Live)\",\"R30\",\"Grace Under Pressure Tour Live (Live - Grace Under Pressure Tour)\",\"Snakes & Arrows\",\"Snakes & Arrows\",\"Snakes & Arrows\",\"Snakes & Arrows Live\",\"Snakes & Arrows Live\",\"Retrospective III\",\"Moving Pictures: Live 2011\",\"Moving Pictures: Live 2011\",\"Time Machine 2011: Live In Cleveland\",\"Time Machine 2011: Live in Cleveland\",\"Time Machine 2011: Live in Cleveland\",\"Time Machine: Live in Cleveland\",\"Clockwork Angels\",\"Clockwork Angels\",\"Clockwork Angels Tour\",\"Clockwork Angels Tour\",\"Clockwork Angels Tour\",\"R40 Live (Live At Air Canada Centre, Toronto, Canada / June 2015)\",\"R40 Live\",\"2112 - 40 Years Closer: A Q&A With Alex Lifeson And Terry Brown Commentary\",\"2112 (40 Anniversary)\",\"2112 (40th Anniversary)\",\"2112 (40th Anniversary/Pt. 2)\",\"2112 (40th Anniversary/Pt. 1)\",\"2112 (40th Anniversary)\",\"A Farewell to Kings (40th Anniversary) [Deluxe Edition]\",\"A Farewell To Kings (40th Anniversary/Deluxe Edition)\",\"A Farewell To Kings (40th Anniversary Deluxe Edition)\",\"Hemispheres (40th Anniversary)\",\"Hemispheres (40th Anniversary)\",\"Hemispheres (40th Anniversary)\",\"Permanent Waves (40th Anniversary)\",\"Permanent Waves (40th Anniversary)\",\"Moving Pictures (40th Anniversary Super Deluxe)\",\"Moving Pictures (40th Anniversary)\"],\"xaxis\":\"x2\",\"yaxis\":\"y2\",\"type\":\"histogram\"}],                        {\"template\":{\"data\":{\"barpolar\":[{\"marker\":{\"line\":{\"color\":\"rgb(237,237,237)\",\"width\":0.5},\"pattern\":{\"fillmode\":\"overlay\",\"size\":10,\"solidity\":0.2}},\"type\":\"barpolar\"}],\"bar\":[{\"error_x\":{\"color\":\"rgb(51,51,51)\"},\"error_y\":{\"color\":\"rgb(51,51,51)\"},\"marker\":{\"line\":{\"color\":\"rgb(237,237,237)\",\"width\":0.5},\"pattern\":{\"fillmode\":\"overlay\",\"size\":10,\"solidity\":0.2}},\"type\":\"bar\"}],\"carpet\":[{\"aaxis\":{\"endlinecolor\":\"rgb(51,51,51)\",\"gridcolor\":\"white\",\"linecolor\":\"white\",\"minorgridcolor\":\"white\",\"startlinecolor\":\"rgb(51,51,51)\"},\"baxis\":{\"endlinecolor\":\"rgb(51,51,51)\",\"gridcolor\":\"white\",\"linecolor\":\"white\",\"minorgridcolor\":\"white\",\"startlinecolor\":\"rgb(51,51,51)\"},\"type\":\"carpet\"}],\"choropleth\":[{\"colorbar\":{\"outlinewidth\":0,\"tickcolor\":\"rgb(237,237,237)\",\"ticklen\":6,\"ticks\":\"inside\"},\"type\":\"choropleth\"}],\"contourcarpet\":[{\"colorbar\":{\"outlinewidth\":0,\"tickcolor\":\"rgb(237,237,237)\",\"ticklen\":6,\"ticks\":\"inside\"},\"type\":\"contourcarpet\"}],\"contour\":[{\"colorbar\":{\"outlinewidth\":0,\"tickcolor\":\"rgb(237,237,237)\",\"ticklen\":6,\"ticks\":\"inside\"},\"colorscale\":[[0,\"rgb(20,44,66)\"],[1,\"rgb(90,179,244)\"]],\"type\":\"contour\"}],\"heatmapgl\":[{\"colorbar\":{\"outlinewidth\":0,\"tickcolor\":\"rgb(237,237,237)\",\"ticklen\":6,\"ticks\":\"inside\"},\"colorscale\":[[0,\"rgb(20,44,66)\"],[1,\"rgb(90,179,244)\"]],\"type\":\"heatmapgl\"}],\"heatmap\":[{\"colorbar\":{\"outlinewidth\":0,\"tickcolor\":\"rgb(237,237,237)\",\"ticklen\":6,\"ticks\":\"inside\"},\"colorscale\":[[0,\"rgb(20,44,66)\"],[1,\"rgb(90,179,244)\"]],\"type\":\"heatmap\"}],\"histogram2dcontour\":[{\"colorbar\":{\"outlinewidth\":0,\"tickcolor\":\"rgb(237,237,237)\",\"ticklen\":6,\"ticks\":\"inside\"},\"colorscale\":[[0,\"rgb(20,44,66)\"],[1,\"rgb(90,179,244)\"]],\"type\":\"histogram2dcontour\"}],\"histogram2d\":[{\"colorbar\":{\"outlinewidth\":0,\"tickcolor\":\"rgb(237,237,237)\",\"ticklen\":6,\"ticks\":\"inside\"},\"colorscale\":[[0,\"rgb(20,44,66)\"],[1,\"rgb(90,179,244)\"]],\"type\":\"histogram2d\"}],\"histogram\":[{\"marker\":{\"pattern\":{\"fillmode\":\"overlay\",\"size\":10,\"solidity\":0.2}},\"type\":\"histogram\"}],\"mesh3d\":[{\"colorbar\":{\"outlinewidth\":0,\"tickcolor\":\"rgb(237,237,237)\",\"ticklen\":6,\"ticks\":\"inside\"},\"type\":\"mesh3d\"}],\"parcoords\":[{\"line\":{\"colorbar\":{\"outlinewidth\":0,\"tickcolor\":\"rgb(237,237,237)\",\"ticklen\":6,\"ticks\":\"inside\"}},\"type\":\"parcoords\"}],\"pie\":[{\"automargin\":true,\"type\":\"pie\"}],\"scatter3d\":[{\"line\":{\"colorbar\":{\"outlinewidth\":0,\"tickcolor\":\"rgb(237,237,237)\",\"ticklen\":6,\"ticks\":\"inside\"}},\"marker\":{\"colorbar\":{\"outlinewidth\":0,\"tickcolor\":\"rgb(237,237,237)\",\"ticklen\":6,\"ticks\":\"inside\"}},\"type\":\"scatter3d\"}],\"scattercarpet\":[{\"marker\":{\"colorbar\":{\"outlinewidth\":0,\"tickcolor\":\"rgb(237,237,237)\",\"ticklen\":6,\"ticks\":\"inside\"}},\"type\":\"scattercarpet\"}],\"scattergeo\":[{\"marker\":{\"colorbar\":{\"outlinewidth\":0,\"tickcolor\":\"rgb(237,237,237)\",\"ticklen\":6,\"ticks\":\"inside\"}},\"type\":\"scattergeo\"}],\"scattergl\":[{\"marker\":{\"colorbar\":{\"outlinewidth\":0,\"tickcolor\":\"rgb(237,237,237)\",\"ticklen\":6,\"ticks\":\"inside\"}},\"type\":\"scattergl\"}],\"scattermapbox\":[{\"marker\":{\"colorbar\":{\"outlinewidth\":0,\"tickcolor\":\"rgb(237,237,237)\",\"ticklen\":6,\"ticks\":\"inside\"}},\"type\":\"scattermapbox\"}],\"scatterpolargl\":[{\"marker\":{\"colorbar\":{\"outlinewidth\":0,\"tickcolor\":\"rgb(237,237,237)\",\"ticklen\":6,\"ticks\":\"inside\"}},\"type\":\"scatterpolargl\"}],\"scatterpolar\":[{\"marker\":{\"colorbar\":{\"outlinewidth\":0,\"tickcolor\":\"rgb(237,237,237)\",\"ticklen\":6,\"ticks\":\"inside\"}},\"type\":\"scatterpolar\"}],\"scatter\":[{\"fillpattern\":{\"fillmode\":\"overlay\",\"size\":10,\"solidity\":0.2},\"type\":\"scatter\"}],\"scatterternary\":[{\"marker\":{\"colorbar\":{\"outlinewidth\":0,\"tickcolor\":\"rgb(237,237,237)\",\"ticklen\":6,\"ticks\":\"inside\"}},\"type\":\"scatterternary\"}],\"surface\":[{\"colorbar\":{\"outlinewidth\":0,\"tickcolor\":\"rgb(237,237,237)\",\"ticklen\":6,\"ticks\":\"inside\"},\"colorscale\":[[0,\"rgb(20,44,66)\"],[1,\"rgb(90,179,244)\"]],\"type\":\"surface\"}],\"table\":[{\"cells\":{\"fill\":{\"color\":\"rgb(237,237,237)\"},\"line\":{\"color\":\"white\"}},\"header\":{\"fill\":{\"color\":\"rgb(217,217,217)\"},\"line\":{\"color\":\"white\"}},\"type\":\"table\"}]},\"layout\":{\"annotationdefaults\":{\"arrowhead\":0,\"arrowwidth\":1},\"autotypenumbers\":\"strict\",\"coloraxis\":{\"colorbar\":{\"outlinewidth\":0,\"tickcolor\":\"rgb(237,237,237)\",\"ticklen\":6,\"ticks\":\"inside\"}},\"colorscale\":{\"sequential\":[[0,\"rgb(20,44,66)\"],[1,\"rgb(90,179,244)\"]],\"sequentialminus\":[[0,\"rgb(20,44,66)\"],[1,\"rgb(90,179,244)\"]]},\"colorway\":[\"#F8766D\",\"#A3A500\",\"#00BF7D\",\"#00B0F6\",\"#E76BF3\"],\"font\":{\"color\":\"rgb(51,51,51)\"},\"geo\":{\"bgcolor\":\"white\",\"lakecolor\":\"white\",\"landcolor\":\"rgb(237,237,237)\",\"showlakes\":true,\"showland\":true,\"subunitcolor\":\"white\"},\"hoverlabel\":{\"align\":\"left\"},\"hovermode\":\"closest\",\"paper_bgcolor\":\"white\",\"plot_bgcolor\":\"rgb(237,237,237)\",\"polar\":{\"angularaxis\":{\"gridcolor\":\"white\",\"linecolor\":\"white\",\"showgrid\":true,\"tickcolor\":\"rgb(51,51,51)\",\"ticks\":\"outside\"},\"bgcolor\":\"rgb(237,237,237)\",\"radialaxis\":{\"gridcolor\":\"white\",\"linecolor\":\"white\",\"showgrid\":true,\"tickcolor\":\"rgb(51,51,51)\",\"ticks\":\"outside\"}},\"scene\":{\"xaxis\":{\"backgroundcolor\":\"rgb(237,237,237)\",\"gridcolor\":\"white\",\"gridwidth\":2,\"linecolor\":\"white\",\"showbackground\":true,\"showgrid\":true,\"tickcolor\":\"rgb(51,51,51)\",\"ticks\":\"outside\",\"zerolinecolor\":\"white\"},\"yaxis\":{\"backgroundcolor\":\"rgb(237,237,237)\",\"gridcolor\":\"white\",\"gridwidth\":2,\"linecolor\":\"white\",\"showbackground\":true,\"showgrid\":true,\"tickcolor\":\"rgb(51,51,51)\",\"ticks\":\"outside\",\"zerolinecolor\":\"white\"},\"zaxis\":{\"backgroundcolor\":\"rgb(237,237,237)\",\"gridcolor\":\"white\",\"gridwidth\":2,\"linecolor\":\"white\",\"showbackground\":true,\"showgrid\":true,\"tickcolor\":\"rgb(51,51,51)\",\"ticks\":\"outside\",\"zerolinecolor\":\"white\"}},\"shapedefaults\":{\"fillcolor\":\"black\",\"line\":{\"width\":0},\"opacity\":0.3},\"ternary\":{\"aaxis\":{\"gridcolor\":\"white\",\"linecolor\":\"white\",\"showgrid\":true,\"tickcolor\":\"rgb(51,51,51)\",\"ticks\":\"outside\"},\"baxis\":{\"gridcolor\":\"white\",\"linecolor\":\"white\",\"showgrid\":true,\"tickcolor\":\"rgb(51,51,51)\",\"ticks\":\"outside\"},\"bgcolor\":\"rgb(237,237,237)\",\"caxis\":{\"gridcolor\":\"white\",\"linecolor\":\"white\",\"showgrid\":true,\"tickcolor\":\"rgb(51,51,51)\",\"ticks\":\"outside\"}},\"xaxis\":{\"automargin\":true,\"gridcolor\":\"white\",\"linecolor\":\"white\",\"showgrid\":true,\"tickcolor\":\"rgb(51,51,51)\",\"ticks\":\"outside\",\"title\":{\"standoff\":15},\"zerolinecolor\":\"white\"},\"yaxis\":{\"automargin\":true,\"gridcolor\":\"white\",\"linecolor\":\"white\",\"showgrid\":true,\"tickcolor\":\"rgb(51,51,51)\",\"ticks\":\"outside\",\"title\":{\"standoff\":15},\"zerolinecolor\":\"white\"}}},\"xaxis\":{\"anchor\":\"y\",\"domain\":[0.0,1.0],\"title\":{\"text\":\"Albums\"}},\"yaxis\":{\"anchor\":\"x\",\"domain\":[0.0,0.7326],\"title\":{\"text\":\"Number of Available Markets\"}},\"xaxis2\":{\"anchor\":\"y2\",\"domain\":[0.0,1.0],\"matches\":\"x\",\"showticklabels\":false},\"yaxis2\":{\"anchor\":\"x2\",\"domain\":[0.7426,1.0],\"matches\":\"y2\",\"showticklabels\":false,\"showline\":false,\"ticks\":\"\"},\"coloraxis\":{\"colorbar\":{\"title\":{\"text\":\"count\"}},\"colorscale\":[[0.0,\"rgb(20,44,66)\"],[1.0,\"rgb(90,179,244)\"]]},\"legend\":{\"tracegroupgap\":0},\"margin\":{\"t\":60},\"barmode\":\"overlay\",\"title\":{\"text\":\"Top Tracks and Albums of Rush\"},\"width\":700,\"height\":600},                        {\"responsive\": true}                    ).then(function(){\n                            \nvar gd = document.getElementById('10be0622-f671-4a03-9694-7daa33cc11c2');\nvar x = new MutationObserver(function (mutations, observer) {{\n        var display = window.getComputedStyle(gd).display;\n        if (!display || display === 'none') {{\n            console.log([gd, 'removed!']);\n            Plotly.purge(gd);\n            observer.disconnect();\n        }}\n}});\n\n// Listen for the removal of the full notebook cells\nvar notebookContainer = gd.closest('#notebook-container');\nif (notebookContainer) {{\n    x.observe(notebookContainer, {childList: true});\n}}\n\n// Listen for the clearing of the current output cell\nvar outputEl = gd.closest('.output');\nif (outputEl) {{\n    x.observe(outputEl, {childList: true});\n}}\n\n                        })                };                });            </script>        </div>"
     },
     "metadata": {},
     "output_type": "display_data"
    }
   ],
   "source": [
    "#density plot between release date and count_available_markets\n",
    "fig = px.density_heatmap(df_albums,\n",
    "                         x=\"name\",\n",
    "                         y=\"count_available_markets\",\n",
    "                         marginal_x=\"histogram\",\n",
    "                         template=\"ggplot2\")\n",
    "fig.update_layout(title='Top Tracks and Albums of {}'.format(artist_name),\n",
    "                  width=1500,\n",
    "                  height=800,\n",
    "                  xaxis_title='Albums',\n",
    "                  yaxis_title='Number of Available Markets')\n",
    "fig.update_layout(width=700, height=600)\n",
    "fig.show()"
   ],
   "metadata": {
    "collapsed": false,
    "pycharm": {
     "name": "#%%\n"
    }
   }
  },
  {
   "cell_type": "markdown",
   "source": [
    "## What is the market with more albums?\n",
    "\n",
    "There are several points here:\n",
    "I must take into account that Spotify returns me a list of countries per album, I must first extract that list and convert it into a dataframe. In the end I will have a line for each album and market available."
   ],
   "metadata": {
    "collapsed": false,
    "pycharm": {
     "name": "#%% md\n"
    }
   }
  },
  {
   "cell_type": "code",
   "execution_count": 7,
   "outputs": [
    {
     "data": {
      "text/plain": "   index available_markets          album_name\n0      0                AD  The First Us Tours\n1      0                AE  The First Us Tours\n2      0                AL  The First Us Tours\n3      0                AM  The First Us Tours\n4      0                AO  The First Us Tours",
      "text/html": "<div>\n<style scoped>\n    .dataframe tbody tr th:only-of-type {\n        vertical-align: middle;\n    }\n\n    .dataframe tbody tr th {\n        vertical-align: top;\n    }\n\n    .dataframe thead th {\n        text-align: right;\n    }\n</style>\n<table border=\"1\" class=\"dataframe\">\n  <thead>\n    <tr style=\"text-align: right;\">\n      <th></th>\n      <th>index</th>\n      <th>available_markets</th>\n      <th>album_name</th>\n    </tr>\n  </thead>\n  <tbody>\n    <tr>\n      <th>0</th>\n      <td>0</td>\n      <td>AD</td>\n      <td>The First Us Tours</td>\n    </tr>\n    <tr>\n      <th>1</th>\n      <td>0</td>\n      <td>AE</td>\n      <td>The First Us Tours</td>\n    </tr>\n    <tr>\n      <th>2</th>\n      <td>0</td>\n      <td>AL</td>\n      <td>The First Us Tours</td>\n    </tr>\n    <tr>\n      <th>3</th>\n      <td>0</td>\n      <td>AM</td>\n      <td>The First Us Tours</td>\n    </tr>\n    <tr>\n      <th>4</th>\n      <td>0</td>\n      <td>AO</td>\n      <td>The First Us Tours</td>\n    </tr>\n  </tbody>\n</table>\n</div>"
     },
     "execution_count": 7,
     "metadata": {},
     "output_type": "execute_result"
    }
   ],
   "source": [
    "df_available_markets=pd.DataFrame(df_albums['available_markets'].apply(lambda x: pd.Series(x)).stack().reset_index(level=1, drop=True), columns=['available_markets'])\n",
    "#add the album name to the dataframe\n",
    "df_available_markets['album_name'] = df_albums['name']\n",
    "df_available_markets=df_available_markets.reset_index()\n",
    "df_available_markets.head(5)"
   ],
   "metadata": {
    "collapsed": false,
    "pycharm": {
     "name": "#%%\n"
    }
   }
  },
  {
   "cell_type": "markdown",
   "source": [
    "Second point, to be able to work by market/country, I must group the data using this parameter."
   ],
   "metadata": {
    "collapsed": false,
    "pycharm": {
     "name": "#%% md\n"
    }
   }
  },
  {
   "cell_type": "code",
   "execution_count": 13,
   "outputs": [
    {
     "data": {
      "text/plain": "  available_markets  count\n0                CA     43\n1                DM     40\n2                GT     40\n3                TT     40\n4                NI     40",
      "text/html": "<div>\n<style scoped>\n    .dataframe tbody tr th:only-of-type {\n        vertical-align: middle;\n    }\n\n    .dataframe tbody tr th {\n        vertical-align: top;\n    }\n\n    .dataframe thead th {\n        text-align: right;\n    }\n</style>\n<table border=\"1\" class=\"dataframe\">\n  <thead>\n    <tr style=\"text-align: right;\">\n      <th></th>\n      <th>available_markets</th>\n      <th>count</th>\n    </tr>\n  </thead>\n  <tbody>\n    <tr>\n      <th>0</th>\n      <td>CA</td>\n      <td>43</td>\n    </tr>\n    <tr>\n      <th>1</th>\n      <td>DM</td>\n      <td>40</td>\n    </tr>\n    <tr>\n      <th>2</th>\n      <td>GT</td>\n      <td>40</td>\n    </tr>\n    <tr>\n      <th>3</th>\n      <td>TT</td>\n      <td>40</td>\n    </tr>\n    <tr>\n      <th>4</th>\n      <td>NI</td>\n      <td>40</td>\n    </tr>\n  </tbody>\n</table>\n</div>"
     },
     "execution_count": 13,
     "metadata": {},
     "output_type": "execute_result"
    }
   ],
   "source": [
    "#count number of albums per country\n",
    "df_country = df_available_markets.groupby(['available_markets']).count()\n",
    "df_country = df_country.reset_index()\n",
    "df_country = df_country.rename(columns={'index':'count'})\n",
    "df_country = df_country.sort_values(by=['count'], ascending=False)\n",
    "df_country = df_country.reset_index(drop=True)\n",
    "#drop album_name column\n",
    "df_country = df_country.drop(['album_name'], axis=1)\n",
    "df_country.head(5)"
   ],
   "metadata": {
    "collapsed": false,
    "pycharm": {
     "name": "#%%\n"
    }
   }
  },
  {
   "cell_type": "markdown",
   "source": [
    "Third point, Kosovo is a country recognized by Spotify, but not by the international standard which Plotly uses, so to avoid errors, I remove it."
   ],
   "metadata": {
    "collapsed": false,
    "pycharm": {
     "name": "#%% md\n"
    }
   }
  },
  {
   "cell_type": "code",
   "execution_count": 14,
   "outputs": [],
   "source": [
    "#drop the XK country\n",
    "df_country = df_country.drop(df_country[df_country['available_markets'] == 'XK'].index)\n",
    "df_country = df_country.reset_index(drop=True)"
   ],
   "metadata": {
    "collapsed": false,
    "pycharm": {
     "name": "#%%\n"
    }
   }
  },
  {
   "cell_type": "markdown",
   "source": [
    "And finally, Spotify delivers the countries in a two-letter standard, but Plotly works with a three-letter standard, to solve this problem I use the pycountry-convert library"
   ],
   "metadata": {
    "collapsed": false,
    "pycharm": {
     "name": "#%% md\n"
    }
   }
  },
  {
   "cell_type": "code",
   "execution_count": 15,
   "outputs": [
    {
     "data": {
      "text/plain": "  available_markets  count         country_name\n0                CA     43               Canada\n1                DM     40             Dominica\n2                GT     40            Guatemala\n3                TT     40  Trinidad and Tobago\n4                NI     40            Nicaragua",
      "text/html": "<div>\n<style scoped>\n    .dataframe tbody tr th:only-of-type {\n        vertical-align: middle;\n    }\n\n    .dataframe tbody tr th {\n        vertical-align: top;\n    }\n\n    .dataframe thead th {\n        text-align: right;\n    }\n</style>\n<table border=\"1\" class=\"dataframe\">\n  <thead>\n    <tr style=\"text-align: right;\">\n      <th></th>\n      <th>available_markets</th>\n      <th>count</th>\n      <th>country_name</th>\n    </tr>\n  </thead>\n  <tbody>\n    <tr>\n      <th>0</th>\n      <td>CA</td>\n      <td>43</td>\n      <td>Canada</td>\n    </tr>\n    <tr>\n      <th>1</th>\n      <td>DM</td>\n      <td>40</td>\n      <td>Dominica</td>\n    </tr>\n    <tr>\n      <th>2</th>\n      <td>GT</td>\n      <td>40</td>\n      <td>Guatemala</td>\n    </tr>\n    <tr>\n      <th>3</th>\n      <td>TT</td>\n      <td>40</td>\n      <td>Trinidad and Tobago</td>\n    </tr>\n    <tr>\n      <th>4</th>\n      <td>NI</td>\n      <td>40</td>\n      <td>Nicaragua</td>\n    </tr>\n  </tbody>\n</table>\n</div>"
     },
     "execution_count": 15,
     "metadata": {},
     "output_type": "execute_result"
    }
   ],
   "source": [
    "#add country name to dataframe\n",
    "df_country['country_name'] = df_country['available_markets'].apply(lambda x: country_alpha2_to_country_name(x))\n",
    "df_country.head(5)"
   ],
   "metadata": {
    "collapsed": false,
    "pycharm": {
     "name": "#%%\n"
    }
   }
  },
  {
   "cell_type": "code",
   "execution_count": 18,
   "outputs": [
    {
     "data": {
      "application/vnd.plotly.v1+json": {
       "data": [
        {
         "coloraxis": "coloraxis",
         "geo": "geo",
         "hovertemplate": "<b>%{hovertext}</b><br><br>country_code=%{location}<br>count=%{z}<extra></extra>",
         "hovertext": [
          "Canada",
          "Dominica",
          "Guatemala",
          "Trinidad and Tobago",
          "Nicaragua",
          "El Salvador",
          "Bahamas",
          "Barbados",
          "Honduras",
          "Dominican Republic",
          "Grenada",
          "Saint Kitts and Nevis",
          "Panama",
          "Belize",
          "Antigua and Barbuda",
          "Costa Rica",
          "Niger",
          "Mozambique",
          "Malaysia",
          "Namibia",
          "Andorra",
          "Nigeria",
          "Norway",
          "Nepal",
          "New Zealand",
          "Oman",
          "Peru",
          "Netherlands",
          "Malawi",
          "Mexico",
          "Moldova, Republic of",
          "Liechtenstein",
          "Sri Lanka",
          "Liberia",
          "Lesotho",
          "Lithuania",
          "Luxembourg",
          "Latvia",
          "Monaco",
          "Montenegro",
          "Philippines",
          "Madagascar",
          "North Macedonia",
          "Mali",
          "Mongolia",
          "Macao",
          "Mauritania",
          "Malta",
          "Mauritius",
          "Papua New Guinea",
          "Qatar",
          "Pakistan",
          "Poland",
          "Tajikistan",
          "Timor-Leste",
          "Tunisia",
          "Turkey",
          "Taiwan, Province of China",
          "Tanzania, United Republic of",
          "Ukraine",
          "Uganda",
          "United States",
          "Uruguay",
          "Uzbekistan",
          "Saint Vincent and the Grenadines",
          "Venezuela, Bolivarian Republic of",
          "Viet Nam",
          "South Africa",
          "Zambia",
          "Thailand",
          "Togo",
          "Chad",
          "Saudi Arabia",
          "Palestine, State of",
          "Portugal",
          "Paraguay",
          "United Arab Emirates",
          "Romania",
          "Serbia",
          "Rwanda",
          "Seychelles",
          "Eswatini",
          "Sweden",
          "Singapore",
          "Slovenia",
          "Slovakia",
          "Sierra Leone",
          "Senegal",
          "Sao Tome and Principe",
          "Saint Lucia",
          "Lebanon",
          "Lao People's Democratic Republic",
          "Congo, The Democratic Republic of the",
          "Switzerland",
          "Côte d'Ivoire",
          "Chile",
          "Cameroon",
          "Colombia",
          "Cabo Verde",
          "Curaçao",
          "Cyprus",
          "Czechia",
          "Germany",
          "Djibouti",
          "Denmark",
          "Algeria",
          "Ecuador",
          "Kazakhstan",
          "Estonia",
          "Egypt",
          "Congo",
          "Botswana",
          "Finland",
          "Brazil",
          "Albania",
          "Armenia",
          "Angola",
          "Argentina",
          "Austria",
          "Australia",
          "Azerbaijan",
          "Bosnia and Herzegovina",
          "Bangladesh",
          "Belgium",
          "Burkina Faso",
          "Bulgaria",
          "Bahrain",
          "Burundi",
          "Benin",
          "Brunei Darussalam",
          "Bolivia, Plurinational State of",
          "Spain",
          "Zimbabwe",
          "Fiji",
          "Jamaica",
          "Micronesia, Federated States of",
          "Israel",
          "India",
          "Iraq",
          "Iceland",
          "Italy",
          "Jordan",
          "Hungary",
          "Kenya",
          "Kyrgyzstan",
          "Cambodia",
          "Comoros",
          "Korea, Republic of",
          "Kuwait",
          "Indonesia",
          "Ireland",
          "Guinea",
          "France",
          "Gabon",
          "Croatia",
          "United Kingdom",
          "Hong Kong",
          "Guinea-Bissau",
          "Greece",
          "Equatorial Guinea",
          "Ghana",
          "Gambia",
          "Haiti",
          "Samoa",
          "Kiribati",
          "Nauru",
          "Japan",
          "Marshall Islands",
          "Suriname",
          "Tuvalu",
          "Solomon Islands",
          "Tonga",
          "Guyana",
          "Bhutan",
          "Belarus",
          "Maldives",
          "Palau",
          "Morocco",
          "Libya",
          "Georgia",
          "San Marino",
          "Vanuatu"
         ],
         "locations": [
          "CAN",
          "DMA",
          "GTM",
          "TTO",
          "NIC",
          "SLV",
          "BHS",
          "BRB",
          "HND",
          "DOM",
          "GRD",
          "KNA",
          "PAN",
          "BLZ",
          "ATG",
          "CRI",
          "NER",
          "MOZ",
          "MYS",
          "NAM",
          "AND",
          "NGA",
          "NOR",
          "NPL",
          "NZL",
          "OMN",
          "PER",
          "NLD",
          "MWI",
          "MEX",
          "MDA",
          "LIE",
          "LKA",
          "LBR",
          "LSO",
          "LTU",
          "LUX",
          "LVA",
          "MCO",
          "MNE",
          "PHL",
          "MDG",
          "MKD",
          "MLI",
          "MNG",
          "MAC",
          "MRT",
          "MLT",
          "MUS",
          "PNG",
          "QAT",
          "PAK",
          "POL",
          "TJK",
          "TLS",
          "TUN",
          "TUR",
          "TWN",
          "TZA",
          "UKR",
          "UGA",
          "USA",
          "URY",
          "UZB",
          "VCT",
          "VEN",
          "VNM",
          "ZAF",
          "ZMB",
          "THA",
          "TGO",
          "TCD",
          "SAU",
          "PSE",
          "PRT",
          "PRY",
          "ARE",
          "ROU",
          "SRB",
          "RWA",
          "SYC",
          "SWZ",
          "SWE",
          "SGP",
          "SVN",
          "SVK",
          "SLE",
          "SEN",
          "STP",
          "LCA",
          "LBN",
          "LAO",
          "COD",
          "CHE",
          "CIV",
          "CHL",
          "CMR",
          "COL",
          "CPV",
          "CUW",
          "CYP",
          "CZE",
          "DEU",
          "DJI",
          "DNK",
          "DZA",
          "ECU",
          "KAZ",
          "EST",
          "EGY",
          "COG",
          "BWA",
          "FIN",
          "BRA",
          "ALB",
          "ARM",
          "AGO",
          "ARG",
          "AUT",
          "AUS",
          "AZE",
          "BIH",
          "BGD",
          "BEL",
          "BFA",
          "BGR",
          "BHR",
          "BDI",
          "BEN",
          "BRN",
          "BOL",
          "ESP",
          "ZWE",
          "FJI",
          "JAM",
          "FSM",
          "ISR",
          "IND",
          "IRQ",
          "ISL",
          "ITA",
          "JOR",
          "HUN",
          "KEN",
          "KGZ",
          "KHM",
          "COM",
          "KOR",
          "KWT",
          "IDN",
          "IRL",
          "GIN",
          "FRA",
          "GAB",
          "HRV",
          "GBR",
          "HKG",
          "GNB",
          "GRC",
          "GNQ",
          "GHA",
          "GMB",
          "HTI",
          "WSM",
          "KIR",
          "NRU",
          "JPN",
          "MHL",
          "SUR",
          "TUV",
          "SLB",
          "TON",
          "GUY",
          "BTN",
          "BLR",
          "MDV",
          "PLW",
          "MAR",
          "LBY",
          "GEO",
          "SMR",
          "VUT"
         ],
         "name": "",
         "z": [
          43,
          40,
          40,
          40,
          40,
          40,
          40,
          40,
          40,
          40,
          40,
          40,
          40,
          40,
          40,
          40,
          39,
          39,
          39,
          39,
          39,
          39,
          39,
          39,
          39,
          39,
          39,
          39,
          39,
          39,
          39,
          39,
          39,
          39,
          39,
          39,
          39,
          39,
          39,
          39,
          39,
          39,
          39,
          39,
          39,
          39,
          39,
          39,
          39,
          39,
          39,
          39,
          39,
          39,
          39,
          39,
          39,
          39,
          39,
          39,
          39,
          39,
          39,
          39,
          39,
          39,
          39,
          39,
          39,
          39,
          39,
          39,
          39,
          39,
          39,
          39,
          39,
          39,
          39,
          39,
          39,
          39,
          39,
          39,
          39,
          39,
          39,
          39,
          39,
          39,
          39,
          39,
          39,
          39,
          39,
          39,
          39,
          39,
          39,
          39,
          39,
          39,
          39,
          39,
          39,
          39,
          39,
          39,
          39,
          39,
          39,
          39,
          39,
          39,
          39,
          39,
          39,
          39,
          39,
          39,
          39,
          39,
          39,
          39,
          39,
          39,
          39,
          39,
          39,
          39,
          39,
          39,
          39,
          39,
          39,
          39,
          39,
          39,
          39,
          39,
          39,
          39,
          39,
          39,
          39,
          39,
          39,
          39,
          39,
          39,
          39,
          39,
          39,
          39,
          39,
          39,
          39,
          39,
          39,
          39,
          39,
          39,
          38,
          38,
          38,
          38,
          38,
          38,
          38,
          38,
          38,
          38,
          38,
          38,
          38,
          38,
          38,
          28,
          28,
          24,
          24,
          23
         ],
         "type": "choropleth"
        }
       ],
       "layout": {
        "template": {
         "data": {
          "barpolar": [
           {
            "marker": {
             "line": {
              "color": "rgb(237,237,237)",
              "width": 0.5
             },
             "pattern": {
              "fillmode": "overlay",
              "size": 10,
              "solidity": 0.2
             }
            },
            "type": "barpolar"
           }
          ],
          "bar": [
           {
            "error_x": {
             "color": "rgb(51,51,51)"
            },
            "error_y": {
             "color": "rgb(51,51,51)"
            },
            "marker": {
             "line": {
              "color": "rgb(237,237,237)",
              "width": 0.5
             },
             "pattern": {
              "fillmode": "overlay",
              "size": 10,
              "solidity": 0.2
             }
            },
            "type": "bar"
           }
          ],
          "carpet": [
           {
            "aaxis": {
             "endlinecolor": "rgb(51,51,51)",
             "gridcolor": "white",
             "linecolor": "white",
             "minorgridcolor": "white",
             "startlinecolor": "rgb(51,51,51)"
            },
            "baxis": {
             "endlinecolor": "rgb(51,51,51)",
             "gridcolor": "white",
             "linecolor": "white",
             "minorgridcolor": "white",
             "startlinecolor": "rgb(51,51,51)"
            },
            "type": "carpet"
           }
          ],
          "choropleth": [
           {
            "colorbar": {
             "outlinewidth": 0,
             "tickcolor": "rgb(237,237,237)",
             "ticklen": 6,
             "ticks": "inside"
            },
            "type": "choropleth"
           }
          ],
          "contourcarpet": [
           {
            "colorbar": {
             "outlinewidth": 0,
             "tickcolor": "rgb(237,237,237)",
             "ticklen": 6,
             "ticks": "inside"
            },
            "type": "contourcarpet"
           }
          ],
          "contour": [
           {
            "colorbar": {
             "outlinewidth": 0,
             "tickcolor": "rgb(237,237,237)",
             "ticklen": 6,
             "ticks": "inside"
            },
            "colorscale": [
             [
              0,
              "rgb(20,44,66)"
             ],
             [
              1,
              "rgb(90,179,244)"
             ]
            ],
            "type": "contour"
           }
          ],
          "heatmapgl": [
           {
            "colorbar": {
             "outlinewidth": 0,
             "tickcolor": "rgb(237,237,237)",
             "ticklen": 6,
             "ticks": "inside"
            },
            "colorscale": [
             [
              0,
              "rgb(20,44,66)"
             ],
             [
              1,
              "rgb(90,179,244)"
             ]
            ],
            "type": "heatmapgl"
           }
          ],
          "heatmap": [
           {
            "colorbar": {
             "outlinewidth": 0,
             "tickcolor": "rgb(237,237,237)",
             "ticklen": 6,
             "ticks": "inside"
            },
            "colorscale": [
             [
              0,
              "rgb(20,44,66)"
             ],
             [
              1,
              "rgb(90,179,244)"
             ]
            ],
            "type": "heatmap"
           }
          ],
          "histogram2dcontour": [
           {
            "colorbar": {
             "outlinewidth": 0,
             "tickcolor": "rgb(237,237,237)",
             "ticklen": 6,
             "ticks": "inside"
            },
            "colorscale": [
             [
              0,
              "rgb(20,44,66)"
             ],
             [
              1,
              "rgb(90,179,244)"
             ]
            ],
            "type": "histogram2dcontour"
           }
          ],
          "histogram2d": [
           {
            "colorbar": {
             "outlinewidth": 0,
             "tickcolor": "rgb(237,237,237)",
             "ticklen": 6,
             "ticks": "inside"
            },
            "colorscale": [
             [
              0,
              "rgb(20,44,66)"
             ],
             [
              1,
              "rgb(90,179,244)"
             ]
            ],
            "type": "histogram2d"
           }
          ],
          "histogram": [
           {
            "marker": {
             "pattern": {
              "fillmode": "overlay",
              "size": 10,
              "solidity": 0.2
             }
            },
            "type": "histogram"
           }
          ],
          "mesh3d": [
           {
            "colorbar": {
             "outlinewidth": 0,
             "tickcolor": "rgb(237,237,237)",
             "ticklen": 6,
             "ticks": "inside"
            },
            "type": "mesh3d"
           }
          ],
          "parcoords": [
           {
            "line": {
             "colorbar": {
              "outlinewidth": 0,
              "tickcolor": "rgb(237,237,237)",
              "ticklen": 6,
              "ticks": "inside"
             }
            },
            "type": "parcoords"
           }
          ],
          "pie": [
           {
            "automargin": true,
            "type": "pie"
           }
          ],
          "scatter3d": [
           {
            "line": {
             "colorbar": {
              "outlinewidth": 0,
              "tickcolor": "rgb(237,237,237)",
              "ticklen": 6,
              "ticks": "inside"
             }
            },
            "marker": {
             "colorbar": {
              "outlinewidth": 0,
              "tickcolor": "rgb(237,237,237)",
              "ticklen": 6,
              "ticks": "inside"
             }
            },
            "type": "scatter3d"
           }
          ],
          "scattercarpet": [
           {
            "marker": {
             "colorbar": {
              "outlinewidth": 0,
              "tickcolor": "rgb(237,237,237)",
              "ticklen": 6,
              "ticks": "inside"
             }
            },
            "type": "scattercarpet"
           }
          ],
          "scattergeo": [
           {
            "marker": {
             "colorbar": {
              "outlinewidth": 0,
              "tickcolor": "rgb(237,237,237)",
              "ticklen": 6,
              "ticks": "inside"
             }
            },
            "type": "scattergeo"
           }
          ],
          "scattergl": [
           {
            "marker": {
             "colorbar": {
              "outlinewidth": 0,
              "tickcolor": "rgb(237,237,237)",
              "ticklen": 6,
              "ticks": "inside"
             }
            },
            "type": "scattergl"
           }
          ],
          "scattermapbox": [
           {
            "marker": {
             "colorbar": {
              "outlinewidth": 0,
              "tickcolor": "rgb(237,237,237)",
              "ticklen": 6,
              "ticks": "inside"
             }
            },
            "type": "scattermapbox"
           }
          ],
          "scatterpolargl": [
           {
            "marker": {
             "colorbar": {
              "outlinewidth": 0,
              "tickcolor": "rgb(237,237,237)",
              "ticklen": 6,
              "ticks": "inside"
             }
            },
            "type": "scatterpolargl"
           }
          ],
          "scatterpolar": [
           {
            "marker": {
             "colorbar": {
              "outlinewidth": 0,
              "tickcolor": "rgb(237,237,237)",
              "ticklen": 6,
              "ticks": "inside"
             }
            },
            "type": "scatterpolar"
           }
          ],
          "scatter": [
           {
            "fillpattern": {
             "fillmode": "overlay",
             "size": 10,
             "solidity": 0.2
            },
            "type": "scatter"
           }
          ],
          "scatterternary": [
           {
            "marker": {
             "colorbar": {
              "outlinewidth": 0,
              "tickcolor": "rgb(237,237,237)",
              "ticklen": 6,
              "ticks": "inside"
             }
            },
            "type": "scatterternary"
           }
          ],
          "surface": [
           {
            "colorbar": {
             "outlinewidth": 0,
             "tickcolor": "rgb(237,237,237)",
             "ticklen": 6,
             "ticks": "inside"
            },
            "colorscale": [
             [
              0,
              "rgb(20,44,66)"
             ],
             [
              1,
              "rgb(90,179,244)"
             ]
            ],
            "type": "surface"
           }
          ],
          "table": [
           {
            "cells": {
             "fill": {
              "color": "rgb(237,237,237)"
             },
             "line": {
              "color": "white"
             }
            },
            "header": {
             "fill": {
              "color": "rgb(217,217,217)"
             },
             "line": {
              "color": "white"
             }
            },
            "type": "table"
           }
          ]
         },
         "layout": {
          "annotationdefaults": {
           "arrowhead": 0,
           "arrowwidth": 1
          },
          "autotypenumbers": "strict",
          "coloraxis": {
           "colorbar": {
            "outlinewidth": 0,
            "tickcolor": "rgb(237,237,237)",
            "ticklen": 6,
            "ticks": "inside"
           }
          },
          "colorscale": {
           "sequential": [
            [
             0,
             "rgb(20,44,66)"
            ],
            [
             1,
             "rgb(90,179,244)"
            ]
           ],
           "sequentialminus": [
            [
             0,
             "rgb(20,44,66)"
            ],
            [
             1,
             "rgb(90,179,244)"
            ]
           ]
          },
          "colorway": [
           "#F8766D",
           "#A3A500",
           "#00BF7D",
           "#00B0F6",
           "#E76BF3"
          ],
          "font": {
           "color": "rgb(51,51,51)"
          },
          "geo": {
           "bgcolor": "white",
           "lakecolor": "white",
           "landcolor": "rgb(237,237,237)",
           "showlakes": true,
           "showland": true,
           "subunitcolor": "white"
          },
          "hoverlabel": {
           "align": "left"
          },
          "hovermode": "closest",
          "paper_bgcolor": "white",
          "plot_bgcolor": "rgb(237,237,237)",
          "polar": {
           "angularaxis": {
            "gridcolor": "white",
            "linecolor": "white",
            "showgrid": true,
            "tickcolor": "rgb(51,51,51)",
            "ticks": "outside"
           },
           "bgcolor": "rgb(237,237,237)",
           "radialaxis": {
            "gridcolor": "white",
            "linecolor": "white",
            "showgrid": true,
            "tickcolor": "rgb(51,51,51)",
            "ticks": "outside"
           }
          },
          "scene": {
           "xaxis": {
            "backgroundcolor": "rgb(237,237,237)",
            "gridcolor": "white",
            "gridwidth": 2,
            "linecolor": "white",
            "showbackground": true,
            "showgrid": true,
            "tickcolor": "rgb(51,51,51)",
            "ticks": "outside",
            "zerolinecolor": "white"
           },
           "yaxis": {
            "backgroundcolor": "rgb(237,237,237)",
            "gridcolor": "white",
            "gridwidth": 2,
            "linecolor": "white",
            "showbackground": true,
            "showgrid": true,
            "tickcolor": "rgb(51,51,51)",
            "ticks": "outside",
            "zerolinecolor": "white"
           },
           "zaxis": {
            "backgroundcolor": "rgb(237,237,237)",
            "gridcolor": "white",
            "gridwidth": 2,
            "linecolor": "white",
            "showbackground": true,
            "showgrid": true,
            "tickcolor": "rgb(51,51,51)",
            "ticks": "outside",
            "zerolinecolor": "white"
           }
          },
          "shapedefaults": {
           "fillcolor": "black",
           "line": {
            "width": 0
           },
           "opacity": 0.3
          },
          "ternary": {
           "aaxis": {
            "gridcolor": "white",
            "linecolor": "white",
            "showgrid": true,
            "tickcolor": "rgb(51,51,51)",
            "ticks": "outside"
           },
           "baxis": {
            "gridcolor": "white",
            "linecolor": "white",
            "showgrid": true,
            "tickcolor": "rgb(51,51,51)",
            "ticks": "outside"
           },
           "bgcolor": "rgb(237,237,237)",
           "caxis": {
            "gridcolor": "white",
            "linecolor": "white",
            "showgrid": true,
            "tickcolor": "rgb(51,51,51)",
            "ticks": "outside"
           }
          },
          "xaxis": {
           "automargin": true,
           "gridcolor": "white",
           "linecolor": "white",
           "showgrid": true,
           "tickcolor": "rgb(51,51,51)",
           "ticks": "outside",
           "title": {
            "standoff": 15
           },
           "zerolinecolor": "white"
          },
          "yaxis": {
           "automargin": true,
           "gridcolor": "white",
           "linecolor": "white",
           "showgrid": true,
           "tickcolor": "rgb(51,51,51)",
           "ticks": "outside",
           "title": {
            "standoff": 15
           },
           "zerolinecolor": "white"
          }
         }
        },
        "geo": {
         "domain": {
          "x": [
           0.0,
           1.0
          ],
          "y": [
           0.0,
           1.0
          ]
         },
         "center": {}
        },
        "coloraxis": {
         "colorbar": {
          "title": {
           "text": "count"
          }
         },
         "colorscale": [
          [
           0.0,
           "#0d0887"
          ],
          [
           0.1111111111111111,
           "#46039f"
          ],
          [
           0.2222222222222222,
           "#7201a8"
          ],
          [
           0.3333333333333333,
           "#9c179e"
          ],
          [
           0.4444444444444444,
           "#bd3786"
          ],
          [
           0.5555555555555556,
           "#d8576b"
          ],
          [
           0.6666666666666666,
           "#ed7953"
          ],
          [
           0.7777777777777778,
           "#fb9f3a"
          ],
          [
           0.8888888888888888,
           "#fdca26"
          ],
          [
           1.0,
           "#f0f921"
          ]
         ]
        },
        "legend": {
         "tracegroupgap": 0
        },
        "margin": {
         "t": 60
        },
        "title": {
         "text": "Country distribution by Rush"
        },
        "width": 700,
        "height": 600
       },
       "config": {
        "plotlyServerURL": "https://plot.ly"
       }
      },
      "text/html": "<div>                            <div id=\"0bf124a3-c5b2-4e14-8cc5-a76711aae541\" class=\"plotly-graph-div\" style=\"height:600px; width:700px;\"></div>            <script type=\"text/javascript\">                require([\"plotly\"], function(Plotly) {                    window.PLOTLYENV=window.PLOTLYENV || {};                                    if (document.getElementById(\"0bf124a3-c5b2-4e14-8cc5-a76711aae541\")) {                    Plotly.newPlot(                        \"0bf124a3-c5b2-4e14-8cc5-a76711aae541\",                        [{\"coloraxis\":\"coloraxis\",\"geo\":\"geo\",\"hovertemplate\":\"<b>%{hovertext}</b><br><br>country_code=%{location}<br>count=%{z}<extra></extra>\",\"hovertext\":[\"Canada\",\"Dominica\",\"Guatemala\",\"Trinidad and Tobago\",\"Nicaragua\",\"El Salvador\",\"Bahamas\",\"Barbados\",\"Honduras\",\"Dominican Republic\",\"Grenada\",\"Saint Kitts and Nevis\",\"Panama\",\"Belize\",\"Antigua and Barbuda\",\"Costa Rica\",\"Niger\",\"Mozambique\",\"Malaysia\",\"Namibia\",\"Andorra\",\"Nigeria\",\"Norway\",\"Nepal\",\"New Zealand\",\"Oman\",\"Peru\",\"Netherlands\",\"Malawi\",\"Mexico\",\"Moldova, Republic of\",\"Liechtenstein\",\"Sri Lanka\",\"Liberia\",\"Lesotho\",\"Lithuania\",\"Luxembourg\",\"Latvia\",\"Monaco\",\"Montenegro\",\"Philippines\",\"Madagascar\",\"North Macedonia\",\"Mali\",\"Mongolia\",\"Macao\",\"Mauritania\",\"Malta\",\"Mauritius\",\"Papua New Guinea\",\"Qatar\",\"Pakistan\",\"Poland\",\"Tajikistan\",\"Timor-Leste\",\"Tunisia\",\"Turkey\",\"Taiwan, Province of China\",\"Tanzania, United Republic of\",\"Ukraine\",\"Uganda\",\"United States\",\"Uruguay\",\"Uzbekistan\",\"Saint Vincent and the Grenadines\",\"Venezuela, Bolivarian Republic of\",\"Viet Nam\",\"South Africa\",\"Zambia\",\"Thailand\",\"Togo\",\"Chad\",\"Saudi Arabia\",\"Palestine, State of\",\"Portugal\",\"Paraguay\",\"United Arab Emirates\",\"Romania\",\"Serbia\",\"Rwanda\",\"Seychelles\",\"Eswatini\",\"Sweden\",\"Singapore\",\"Slovenia\",\"Slovakia\",\"Sierra Leone\",\"Senegal\",\"Sao Tome and Principe\",\"Saint Lucia\",\"Lebanon\",\"Lao People's Democratic Republic\",\"Congo, The Democratic Republic of the\",\"Switzerland\",\"C\\u00f4te d'Ivoire\",\"Chile\",\"Cameroon\",\"Colombia\",\"Cabo Verde\",\"Cura\\u00e7ao\",\"Cyprus\",\"Czechia\",\"Germany\",\"Djibouti\",\"Denmark\",\"Algeria\",\"Ecuador\",\"Kazakhstan\",\"Estonia\",\"Egypt\",\"Congo\",\"Botswana\",\"Finland\",\"Brazil\",\"Albania\",\"Armenia\",\"Angola\",\"Argentina\",\"Austria\",\"Australia\",\"Azerbaijan\",\"Bosnia and Herzegovina\",\"Bangladesh\",\"Belgium\",\"Burkina Faso\",\"Bulgaria\",\"Bahrain\",\"Burundi\",\"Benin\",\"Brunei Darussalam\",\"Bolivia, Plurinational State of\",\"Spain\",\"Zimbabwe\",\"Fiji\",\"Jamaica\",\"Micronesia, Federated States of\",\"Israel\",\"India\",\"Iraq\",\"Iceland\",\"Italy\",\"Jordan\",\"Hungary\",\"Kenya\",\"Kyrgyzstan\",\"Cambodia\",\"Comoros\",\"Korea, Republic of\",\"Kuwait\",\"Indonesia\",\"Ireland\",\"Guinea\",\"France\",\"Gabon\",\"Croatia\",\"United Kingdom\",\"Hong Kong\",\"Guinea-Bissau\",\"Greece\",\"Equatorial Guinea\",\"Ghana\",\"Gambia\",\"Haiti\",\"Samoa\",\"Kiribati\",\"Nauru\",\"Japan\",\"Marshall Islands\",\"Suriname\",\"Tuvalu\",\"Solomon Islands\",\"Tonga\",\"Guyana\",\"Bhutan\",\"Belarus\",\"Maldives\",\"Palau\",\"Morocco\",\"Libya\",\"Georgia\",\"San Marino\",\"Vanuatu\"],\"locations\":[\"CAN\",\"DMA\",\"GTM\",\"TTO\",\"NIC\",\"SLV\",\"BHS\",\"BRB\",\"HND\",\"DOM\",\"GRD\",\"KNA\",\"PAN\",\"BLZ\",\"ATG\",\"CRI\",\"NER\",\"MOZ\",\"MYS\",\"NAM\",\"AND\",\"NGA\",\"NOR\",\"NPL\",\"NZL\",\"OMN\",\"PER\",\"NLD\",\"MWI\",\"MEX\",\"MDA\",\"LIE\",\"LKA\",\"LBR\",\"LSO\",\"LTU\",\"LUX\",\"LVA\",\"MCO\",\"MNE\",\"PHL\",\"MDG\",\"MKD\",\"MLI\",\"MNG\",\"MAC\",\"MRT\",\"MLT\",\"MUS\",\"PNG\",\"QAT\",\"PAK\",\"POL\",\"TJK\",\"TLS\",\"TUN\",\"TUR\",\"TWN\",\"TZA\",\"UKR\",\"UGA\",\"USA\",\"URY\",\"UZB\",\"VCT\",\"VEN\",\"VNM\",\"ZAF\",\"ZMB\",\"THA\",\"TGO\",\"TCD\",\"SAU\",\"PSE\",\"PRT\",\"PRY\",\"ARE\",\"ROU\",\"SRB\",\"RWA\",\"SYC\",\"SWZ\",\"SWE\",\"SGP\",\"SVN\",\"SVK\",\"SLE\",\"SEN\",\"STP\",\"LCA\",\"LBN\",\"LAO\",\"COD\",\"CHE\",\"CIV\",\"CHL\",\"CMR\",\"COL\",\"CPV\",\"CUW\",\"CYP\",\"CZE\",\"DEU\",\"DJI\",\"DNK\",\"DZA\",\"ECU\",\"KAZ\",\"EST\",\"EGY\",\"COG\",\"BWA\",\"FIN\",\"BRA\",\"ALB\",\"ARM\",\"AGO\",\"ARG\",\"AUT\",\"AUS\",\"AZE\",\"BIH\",\"BGD\",\"BEL\",\"BFA\",\"BGR\",\"BHR\",\"BDI\",\"BEN\",\"BRN\",\"BOL\",\"ESP\",\"ZWE\",\"FJI\",\"JAM\",\"FSM\",\"ISR\",\"IND\",\"IRQ\",\"ISL\",\"ITA\",\"JOR\",\"HUN\",\"KEN\",\"KGZ\",\"KHM\",\"COM\",\"KOR\",\"KWT\",\"IDN\",\"IRL\",\"GIN\",\"FRA\",\"GAB\",\"HRV\",\"GBR\",\"HKG\",\"GNB\",\"GRC\",\"GNQ\",\"GHA\",\"GMB\",\"HTI\",\"WSM\",\"KIR\",\"NRU\",\"JPN\",\"MHL\",\"SUR\",\"TUV\",\"SLB\",\"TON\",\"GUY\",\"BTN\",\"BLR\",\"MDV\",\"PLW\",\"MAR\",\"LBY\",\"GEO\",\"SMR\",\"VUT\"],\"name\":\"\",\"z\":[43,40,40,40,40,40,40,40,40,40,40,40,40,40,40,40,39,39,39,39,39,39,39,39,39,39,39,39,39,39,39,39,39,39,39,39,39,39,39,39,39,39,39,39,39,39,39,39,39,39,39,39,39,39,39,39,39,39,39,39,39,39,39,39,39,39,39,39,39,39,39,39,39,39,39,39,39,39,39,39,39,39,39,39,39,39,39,39,39,39,39,39,39,39,39,39,39,39,39,39,39,39,39,39,39,39,39,39,39,39,39,39,39,39,39,39,39,39,39,39,39,39,39,39,39,39,39,39,39,39,39,39,39,39,39,39,39,39,39,39,39,39,39,39,39,39,39,39,39,39,39,39,39,39,39,39,39,39,39,39,39,39,38,38,38,38,38,38,38,38,38,38,38,38,38,38,38,28,28,24,24,23],\"type\":\"choropleth\"}],                        {\"template\":{\"data\":{\"barpolar\":[{\"marker\":{\"line\":{\"color\":\"rgb(237,237,237)\",\"width\":0.5},\"pattern\":{\"fillmode\":\"overlay\",\"size\":10,\"solidity\":0.2}},\"type\":\"barpolar\"}],\"bar\":[{\"error_x\":{\"color\":\"rgb(51,51,51)\"},\"error_y\":{\"color\":\"rgb(51,51,51)\"},\"marker\":{\"line\":{\"color\":\"rgb(237,237,237)\",\"width\":0.5},\"pattern\":{\"fillmode\":\"overlay\",\"size\":10,\"solidity\":0.2}},\"type\":\"bar\"}],\"carpet\":[{\"aaxis\":{\"endlinecolor\":\"rgb(51,51,51)\",\"gridcolor\":\"white\",\"linecolor\":\"white\",\"minorgridcolor\":\"white\",\"startlinecolor\":\"rgb(51,51,51)\"},\"baxis\":{\"endlinecolor\":\"rgb(51,51,51)\",\"gridcolor\":\"white\",\"linecolor\":\"white\",\"minorgridcolor\":\"white\",\"startlinecolor\":\"rgb(51,51,51)\"},\"type\":\"carpet\"}],\"choropleth\":[{\"colorbar\":{\"outlinewidth\":0,\"tickcolor\":\"rgb(237,237,237)\",\"ticklen\":6,\"ticks\":\"inside\"},\"type\":\"choropleth\"}],\"contourcarpet\":[{\"colorbar\":{\"outlinewidth\":0,\"tickcolor\":\"rgb(237,237,237)\",\"ticklen\":6,\"ticks\":\"inside\"},\"type\":\"contourcarpet\"}],\"contour\":[{\"colorbar\":{\"outlinewidth\":0,\"tickcolor\":\"rgb(237,237,237)\",\"ticklen\":6,\"ticks\":\"inside\"},\"colorscale\":[[0,\"rgb(20,44,66)\"],[1,\"rgb(90,179,244)\"]],\"type\":\"contour\"}],\"heatmapgl\":[{\"colorbar\":{\"outlinewidth\":0,\"tickcolor\":\"rgb(237,237,237)\",\"ticklen\":6,\"ticks\":\"inside\"},\"colorscale\":[[0,\"rgb(20,44,66)\"],[1,\"rgb(90,179,244)\"]],\"type\":\"heatmapgl\"}],\"heatmap\":[{\"colorbar\":{\"outlinewidth\":0,\"tickcolor\":\"rgb(237,237,237)\",\"ticklen\":6,\"ticks\":\"inside\"},\"colorscale\":[[0,\"rgb(20,44,66)\"],[1,\"rgb(90,179,244)\"]],\"type\":\"heatmap\"}],\"histogram2dcontour\":[{\"colorbar\":{\"outlinewidth\":0,\"tickcolor\":\"rgb(237,237,237)\",\"ticklen\":6,\"ticks\":\"inside\"},\"colorscale\":[[0,\"rgb(20,44,66)\"],[1,\"rgb(90,179,244)\"]],\"type\":\"histogram2dcontour\"}],\"histogram2d\":[{\"colorbar\":{\"outlinewidth\":0,\"tickcolor\":\"rgb(237,237,237)\",\"ticklen\":6,\"ticks\":\"inside\"},\"colorscale\":[[0,\"rgb(20,44,66)\"],[1,\"rgb(90,179,244)\"]],\"type\":\"histogram2d\"}],\"histogram\":[{\"marker\":{\"pattern\":{\"fillmode\":\"overlay\",\"size\":10,\"solidity\":0.2}},\"type\":\"histogram\"}],\"mesh3d\":[{\"colorbar\":{\"outlinewidth\":0,\"tickcolor\":\"rgb(237,237,237)\",\"ticklen\":6,\"ticks\":\"inside\"},\"type\":\"mesh3d\"}],\"parcoords\":[{\"line\":{\"colorbar\":{\"outlinewidth\":0,\"tickcolor\":\"rgb(237,237,237)\",\"ticklen\":6,\"ticks\":\"inside\"}},\"type\":\"parcoords\"}],\"pie\":[{\"automargin\":true,\"type\":\"pie\"}],\"scatter3d\":[{\"line\":{\"colorbar\":{\"outlinewidth\":0,\"tickcolor\":\"rgb(237,237,237)\",\"ticklen\":6,\"ticks\":\"inside\"}},\"marker\":{\"colorbar\":{\"outlinewidth\":0,\"tickcolor\":\"rgb(237,237,237)\",\"ticklen\":6,\"ticks\":\"inside\"}},\"type\":\"scatter3d\"}],\"scattercarpet\":[{\"marker\":{\"colorbar\":{\"outlinewidth\":0,\"tickcolor\":\"rgb(237,237,237)\",\"ticklen\":6,\"ticks\":\"inside\"}},\"type\":\"scattercarpet\"}],\"scattergeo\":[{\"marker\":{\"colorbar\":{\"outlinewidth\":0,\"tickcolor\":\"rgb(237,237,237)\",\"ticklen\":6,\"ticks\":\"inside\"}},\"type\":\"scattergeo\"}],\"scattergl\":[{\"marker\":{\"colorbar\":{\"outlinewidth\":0,\"tickcolor\":\"rgb(237,237,237)\",\"ticklen\":6,\"ticks\":\"inside\"}},\"type\":\"scattergl\"}],\"scattermapbox\":[{\"marker\":{\"colorbar\":{\"outlinewidth\":0,\"tickcolor\":\"rgb(237,237,237)\",\"ticklen\":6,\"ticks\":\"inside\"}},\"type\":\"scattermapbox\"}],\"scatterpolargl\":[{\"marker\":{\"colorbar\":{\"outlinewidth\":0,\"tickcolor\":\"rgb(237,237,237)\",\"ticklen\":6,\"ticks\":\"inside\"}},\"type\":\"scatterpolargl\"}],\"scatterpolar\":[{\"marker\":{\"colorbar\":{\"outlinewidth\":0,\"tickcolor\":\"rgb(237,237,237)\",\"ticklen\":6,\"ticks\":\"inside\"}},\"type\":\"scatterpolar\"}],\"scatter\":[{\"fillpattern\":{\"fillmode\":\"overlay\",\"size\":10,\"solidity\":0.2},\"type\":\"scatter\"}],\"scatterternary\":[{\"marker\":{\"colorbar\":{\"outlinewidth\":0,\"tickcolor\":\"rgb(237,237,237)\",\"ticklen\":6,\"ticks\":\"inside\"}},\"type\":\"scatterternary\"}],\"surface\":[{\"colorbar\":{\"outlinewidth\":0,\"tickcolor\":\"rgb(237,237,237)\",\"ticklen\":6,\"ticks\":\"inside\"},\"colorscale\":[[0,\"rgb(20,44,66)\"],[1,\"rgb(90,179,244)\"]],\"type\":\"surface\"}],\"table\":[{\"cells\":{\"fill\":{\"color\":\"rgb(237,237,237)\"},\"line\":{\"color\":\"white\"}},\"header\":{\"fill\":{\"color\":\"rgb(217,217,217)\"},\"line\":{\"color\":\"white\"}},\"type\":\"table\"}]},\"layout\":{\"annotationdefaults\":{\"arrowhead\":0,\"arrowwidth\":1},\"autotypenumbers\":\"strict\",\"coloraxis\":{\"colorbar\":{\"outlinewidth\":0,\"tickcolor\":\"rgb(237,237,237)\",\"ticklen\":6,\"ticks\":\"inside\"}},\"colorscale\":{\"sequential\":[[0,\"rgb(20,44,66)\"],[1,\"rgb(90,179,244)\"]],\"sequentialminus\":[[0,\"rgb(20,44,66)\"],[1,\"rgb(90,179,244)\"]]},\"colorway\":[\"#F8766D\",\"#A3A500\",\"#00BF7D\",\"#00B0F6\",\"#E76BF3\"],\"font\":{\"color\":\"rgb(51,51,51)\"},\"geo\":{\"bgcolor\":\"white\",\"lakecolor\":\"white\",\"landcolor\":\"rgb(237,237,237)\",\"showlakes\":true,\"showland\":true,\"subunitcolor\":\"white\"},\"hoverlabel\":{\"align\":\"left\"},\"hovermode\":\"closest\",\"paper_bgcolor\":\"white\",\"plot_bgcolor\":\"rgb(237,237,237)\",\"polar\":{\"angularaxis\":{\"gridcolor\":\"white\",\"linecolor\":\"white\",\"showgrid\":true,\"tickcolor\":\"rgb(51,51,51)\",\"ticks\":\"outside\"},\"bgcolor\":\"rgb(237,237,237)\",\"radialaxis\":{\"gridcolor\":\"white\",\"linecolor\":\"white\",\"showgrid\":true,\"tickcolor\":\"rgb(51,51,51)\",\"ticks\":\"outside\"}},\"scene\":{\"xaxis\":{\"backgroundcolor\":\"rgb(237,237,237)\",\"gridcolor\":\"white\",\"gridwidth\":2,\"linecolor\":\"white\",\"showbackground\":true,\"showgrid\":true,\"tickcolor\":\"rgb(51,51,51)\",\"ticks\":\"outside\",\"zerolinecolor\":\"white\"},\"yaxis\":{\"backgroundcolor\":\"rgb(237,237,237)\",\"gridcolor\":\"white\",\"gridwidth\":2,\"linecolor\":\"white\",\"showbackground\":true,\"showgrid\":true,\"tickcolor\":\"rgb(51,51,51)\",\"ticks\":\"outside\",\"zerolinecolor\":\"white\"},\"zaxis\":{\"backgroundcolor\":\"rgb(237,237,237)\",\"gridcolor\":\"white\",\"gridwidth\":2,\"linecolor\":\"white\",\"showbackground\":true,\"showgrid\":true,\"tickcolor\":\"rgb(51,51,51)\",\"ticks\":\"outside\",\"zerolinecolor\":\"white\"}},\"shapedefaults\":{\"fillcolor\":\"black\",\"line\":{\"width\":0},\"opacity\":0.3},\"ternary\":{\"aaxis\":{\"gridcolor\":\"white\",\"linecolor\":\"white\",\"showgrid\":true,\"tickcolor\":\"rgb(51,51,51)\",\"ticks\":\"outside\"},\"baxis\":{\"gridcolor\":\"white\",\"linecolor\":\"white\",\"showgrid\":true,\"tickcolor\":\"rgb(51,51,51)\",\"ticks\":\"outside\"},\"bgcolor\":\"rgb(237,237,237)\",\"caxis\":{\"gridcolor\":\"white\",\"linecolor\":\"white\",\"showgrid\":true,\"tickcolor\":\"rgb(51,51,51)\",\"ticks\":\"outside\"}},\"xaxis\":{\"automargin\":true,\"gridcolor\":\"white\",\"linecolor\":\"white\",\"showgrid\":true,\"tickcolor\":\"rgb(51,51,51)\",\"ticks\":\"outside\",\"title\":{\"standoff\":15},\"zerolinecolor\":\"white\"},\"yaxis\":{\"automargin\":true,\"gridcolor\":\"white\",\"linecolor\":\"white\",\"showgrid\":true,\"tickcolor\":\"rgb(51,51,51)\",\"ticks\":\"outside\",\"title\":{\"standoff\":15},\"zerolinecolor\":\"white\"}}},\"geo\":{\"domain\":{\"x\":[0.0,1.0],\"y\":[0.0,1.0]},\"center\":{}},\"coloraxis\":{\"colorbar\":{\"title\":{\"text\":\"count\"}},\"colorscale\":[[0.0,\"#0d0887\"],[0.1111111111111111,\"#46039f\"],[0.2222222222222222,\"#7201a8\"],[0.3333333333333333,\"#9c179e\"],[0.4444444444444444,\"#bd3786\"],[0.5555555555555556,\"#d8576b\"],[0.6666666666666666,\"#ed7953\"],[0.7777777777777778,\"#fb9f3a\"],[0.8888888888888888,\"#fdca26\"],[1.0,\"#f0f921\"]]},\"legend\":{\"tracegroupgap\":0},\"margin\":{\"t\":60},\"title\":{\"text\":\"Country distribution by Rush\"},\"width\":700,\"height\":600},                        {\"responsive\": true}                    ).then(function(){\n                            \nvar gd = document.getElementById('0bf124a3-c5b2-4e14-8cc5-a76711aae541');\nvar x = new MutationObserver(function (mutations, observer) {{\n        var display = window.getComputedStyle(gd).display;\n        if (!display || display === 'none') {{\n            console.log([gd, 'removed!']);\n            Plotly.purge(gd);\n            observer.disconnect();\n        }}\n}});\n\n// Listen for the removal of the full notebook cells\nvar notebookContainer = gd.closest('#notebook-container');\nif (notebookContainer) {{\n    x.observe(notebookContainer, {childList: true});\n}}\n\n// Listen for the clearing of the current output cell\nvar outputEl = gd.closest('.output');\nif (outputEl) {{\n    x.observe(outputEl, {childList: true});\n}}\n\n                        })                };                });            </script>        </div>"
     },
     "metadata": {},
     "output_type": "display_data"
    }
   ],
   "source": [
    "#graph\n",
    "fig = px.choropleth(df_country, locations=\"country_code\",\n",
    "                    color=\"count\", # lifeExp is a column of gapminder\n",
    "                    hover_name=\"country_name\", # column to add to hover information\n",
    "                    color_continuous_scale=px.colors.sequential.Plasma,\n",
    "                    template=\"ggplot2\")\n",
    "fig.update_layout(title='Country distribution by {}'.format(artist_name))\n",
    "fig.update_layout(width=700, height=600)\n",
    "fig.show()"
   ],
   "metadata": {
    "collapsed": false,
    "pycharm": {
     "name": "#%%\n"
    }
   }
  },
  {
   "cell_type": "markdown",
   "source": [
    "The graph above shows several things:\n",
    "\n",
    "- The country with the most albums available is Canada, it's not surprising given that Rush is a Canadian band.\n",
    "- Most countries have the same number of albums.\n",
    "- And apparently Spotify is not present in certain countries where the account is 0.\n",
    "\n"
   ],
   "metadata": {
    "collapsed": false,
    "pycharm": {
     "name": "#%% md\n"
    }
   }
  }
 ],
 "metadata": {
  "kernelspec": {
   "display_name": "Python 3",
   "language": "python",
   "name": "python3"
  },
  "language_info": {
   "codemirror_mode": {
    "name": "ipython",
    "version": 2
   },
   "file_extension": ".py",
   "mimetype": "text/x-python",
   "name": "python",
   "nbconvert_exporter": "python",
   "pygments_lexer": "ipython2",
   "version": "2.7.6"
  }
 },
 "nbformat": 4,
 "nbformat_minor": 0
}