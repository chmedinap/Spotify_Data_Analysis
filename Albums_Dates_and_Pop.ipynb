{
 "cells": [
  {
   "cell_type": "markdown",
   "source": [
    "# Albums, dates and popularity"
   ],
   "metadata": {
    "collapsed": false,
    "pycharm": {
     "name": "#%% md\n"
    }
   }
  },
  {
   "cell_type": "markdown",
   "source": [
    "In this part I'm going to work with the `/albums/{id}` API section which return all the information Spotify has of an album. I use this data to answer questions like:\n",
    "\n",
    "- Does the era affect the amount of tracks that an album had?\n",
    "- The popularity of an album is it affected by the era?\n",
    "- The number of tracks it's related to the popularity of the album?\n",
    "\n",
    "\n",
    "Remember that the analysis of the first part was done with a small sample of artist data, so far we have the following partial conclusions:\n",
    "\n",
    "\n",
    "- The most popular year for Rush was 1981 and this popularity is related to the fact that it was the time when they released the most albums.\n",
    "\n",
    "- Most Rush tracks exceed 5 minutes in length and are not as popular as the shorter ones.\n",
    "\n",
    "- As of 2020 Rush continued to release albums, but none of these had the popularity of Moving Pictures in 1981."
   ],
   "metadata": {
    "collapsed": false,
    "pycharm": {
     "name": "#%% md\n"
    }
   }
  },
  {
   "cell_type": "markdown",
   "source": [
    "## API\n",
    "A small summary of the functionalities that I will use:"
   ],
   "metadata": {
    "collapsed": false,
    "pycharm": {
     "name": "#%% md\n"
    }
   }
  },
  {
   "cell_type": "markdown",
   "source": [
    "    GET /albums/{id}/albums?market=US\n"
   ],
   "metadata": {
    "collapsed": false,
    "pycharm": {
     "name": "#%% md\n"
    }
   }
  },
  {
   "cell_type": "markdown",
   "source": [
    "\n",
    "\n",
    "| Parameter         | Type     | Description         |\n",
    "|:------------------|:---------|:--------------------|\n",
    "| id (required)     | `string` | The ID of the album |"
   ],
   "metadata": {
    "collapsed": false,
    "pycharm": {
     "name": "#%% md\n"
    }
   }
  },
  {
   "cell_type": "markdown",
   "source": [
    "## Libraries\n",
    "Import the libraries I will need:"
   ],
   "metadata": {
    "collapsed": false,
    "pycharm": {
     "name": "#%% md\n"
    }
   }
  },
  {
   "cell_type": "code",
   "execution_count": 1,
   "outputs": [],
   "source": [
    "from pandas import json_normalize\n",
    "import requests\n",
    "import plotly.express as px\n",
    "import plotly.io as pio\n",
    "pio.renderers.default = \"plotly_mimetype+notebook_connected\"\n",
    "import base64\n",
    "from IPython.display import Image, display\n",
    "\n",
    "def mm(graph):\n",
    "    graphbytes = graph.encode(\"ascii\")\n",
    "    base64_bytes = base64.b64encode(graphbytes)\n",
    "    base64_string = base64_bytes.decode(\"ascii\")\n",
    "    display(Image(url=\"https://mermaid.ink/img/\" + base64_string))"
   ],
   "metadata": {
    "collapsed": false,
    "pycharm": {
     "name": "#%%\n"
    }
   }
  },
  {
   "cell_type": "markdown",
   "source": [
    "This is the section of the authentication and generation of the token that was already explained in the first section"
   ],
   "metadata": {
    "collapsed": false,
    "pycharm": {
     "name": "#%% md\n"
    }
   }
  },
  {
   "cell_type": "code",
   "execution_count": 2,
   "outputs": [],
   "source": [
    "CLIENT_ID = '81e800e81ecf4997b5b9fb12efeb3ff2'\n",
    "CLIENT_SECRET = '0e4364f440f148779d8a9f17976ecf1b'\n",
    "def get_token():\n",
    "    url = 'https://accounts.spotify.com/api/token'\n",
    "    auth_response = requests.post(url, {\n",
    "        'grant_type': 'client_credentials',\n",
    "        'client_id': CLIENT_ID,\n",
    "        'client_secret': CLIENT_SECRET,\n",
    "    })\n",
    "    if auth_response.status_code != 200:\n",
    "        raise Exception('Error getting token')\n",
    "    else:\n",
    "        auth_response_data = auth_response.json()\n",
    "        return auth_response_data['access_token']\n",
    "access_token = get_token()\n",
    "header = {\n",
    "    'Authorization': 'Bearer {token}'.format(token=access_token),\n",
    "    'accept':'application/json'\n",
    "}\n",
    "base_url = 'https://api.spotify.com/v1/'"
   ],
   "metadata": {
    "collapsed": false,
    "pycharm": {
     "name": "#%%\n"
    }
   }
  },
  {
   "cell_type": "markdown",
   "source": [
    "To obtain a dataframe with the albums of an artist, a few previous steps must first be carried out:\n",
    "\n",
    "1- Ask the user for the artists.\n",
    "2- Get the artist ID\n",
    "3- Extract all the albums of the artist.\n",
    "\n",
    "Steps one and two were already explained in the first section:\n"
   ],
   "metadata": {
    "collapsed": false,
    "pycharm": {
     "name": "#%% md\n"
    }
   }
  },
  {
   "cell_type": "code",
   "execution_count": 3,
   "outputs": [
    {
     "name": "stdout",
     "output_type": "stream",
     "text": [
      "the artist name is:  Rush\n"
     ]
    }
   ],
   "source": [
    "#ask for user input for artist name\n",
    "artist_name = input('Enter artist name: ')\n",
    "print('the artist name is: ', artist_name)\n",
    "#get artist id\n",
    "artist_id = requests.get(base_url + 'search?q={}&type=artist'.format(artist_name), headers=header).json()['artists']['items'][0]['id']"
   ],
   "metadata": {
    "collapsed": false,
    "pycharm": {
     "name": "#%%\n"
    }
   }
  },
  {
   "cell_type": "markdown",
   "source": [
    "## Workflow\n",
    "\n",
    "The workflow from when the user enters the name of the artist, the request to get all de details and then saved in the dataframes is represented in the following diagram:\n"
   ],
   "metadata": {
    "collapsed": false,
    "pycharm": {
     "name": "#%% md\n"
    }
   }
  },
  {
   "cell_type": "code",
   "execution_count": 3,
   "outputs": [
    {
     "data": {
      "text/html": "<img src=\"https://mermaid.ink/img/CmdyYXBoIFRECiAgICBBW3VzZXJfaW5wdXRdIC0tPnxTZWFyY2h8IEIoR0VUIGl0ZW0gMCkKICAgIEIgLS0+IHxzYXZlIGFydGlzdF9pZHwgRHtHRVQgcmVxdWVzdH0KICAgIEQgLS0+fC9hcnRpc3QvYXJ0aXN0X2lkL2FsYnVtc3wgRVtkZiBhbGJ1bSBsaXN0XQogICAgRCAtLT4gRltkZiBhbGJ1bXMgZGV0YWlsc10KICAgIEYgLS0+IEUgCiAgICBFIC0tPiB8L2FydGlzdC9hbGJ1bV9pZC98IEYK\"/>",
      "text/plain": "<IPython.core.display.Image object>"
     },
     "metadata": {},
     "output_type": "display_data"
    }
   ],
   "source": [
    "mm(\"\"\"\n",
    "graph TD\n",
    "    A[user_input] -->|Search| B(GET item 0)\n",
    "    B --> |save artist_id| D{GET request}\n",
    "    D -->|/artist/artist_id/albums| E[df album list]\n",
    "    D --> F[df albums details]\n",
    "    F --> E\n",
    "    E --> |/artist/album_id/| F\n",
    "\"\"\")"
   ],
   "metadata": {
    "collapsed": false,
    "pycharm": {
     "name": "#%%\n"
    }
   }
  },
  {
   "cell_type": "markdown",
   "source": [
    "## Albums\n",
    "In order to obtain the albums of an artist, I will use the `/artists/{id}/albums` API section. In the next part I use the API to get the info and a simple while loop for pagination. I will use the `limit` parameter to limit the number of albums per request to 50 and the `offset` parameter to move through the pages. I will also use the `include_groups` parameter to only get the albums and not the singles or compilations.\n",
    "\n",
    "The structure of the json object delivered by `/artists/{id}/albums` can be found at this link. [Link](https://developer.spotify.com/documentation/web-api/reference/#/operations/get-an-artists-albums)\n"
   ],
   "metadata": {
    "collapsed": false,
    "pycharm": {
     "name": "#%% md\n"
    }
   }
  },
  {
   "cell_type": "code",
   "execution_count": 4,
   "outputs": [
    {
     "data": {
      "text/plain": "  album_group                      id  \\\n0       album  2PBaIv21OWCmecNenZionV   \n1       album  06hsxtm7Y1gDM5sNliCD5d   \n2       album  5G0G9TLLWr8n1abpY4ihmy   \n3       album  3bMJQ8LQWi42IAhVPP0M9O   \n4       album  6q4SMJ8ggxBVrCzPSnDl7c   \n\n                                                name release_date  \\\n0    Moving Pictures (40th Anniversary Super Deluxe)   2022-04-15   \n1                 Permanent Waves (40th Anniversary)   2020-05-29   \n2                     Hemispheres (40th Anniversary)   2018-11-16   \n3  A Farewell To Kings (40th Anniversary Deluxe E...   2017-09-01   \n4                              2112 (40 Anniversary)   2016-12-09   \n\n   total_tracks Release Date  \n0            26         2022  \n1            18         2020  \n2            14         2018  \n3            26         2017  \n4            19         2016  ",
      "text/html": "<div>\n<style scoped>\n    .dataframe tbody tr th:only-of-type {\n        vertical-align: middle;\n    }\n\n    .dataframe tbody tr th {\n        vertical-align: top;\n    }\n\n    .dataframe thead th {\n        text-align: right;\n    }\n</style>\n<table border=\"1\" class=\"dataframe\">\n  <thead>\n    <tr style=\"text-align: right;\">\n      <th></th>\n      <th>album_group</th>\n      <th>id</th>\n      <th>name</th>\n      <th>release_date</th>\n      <th>total_tracks</th>\n      <th>Release Date</th>\n    </tr>\n  </thead>\n  <tbody>\n    <tr>\n      <th>0</th>\n      <td>album</td>\n      <td>2PBaIv21OWCmecNenZionV</td>\n      <td>Moving Pictures (40th Anniversary Super Deluxe)</td>\n      <td>2022-04-15</td>\n      <td>26</td>\n      <td>2022</td>\n    </tr>\n    <tr>\n      <th>1</th>\n      <td>album</td>\n      <td>06hsxtm7Y1gDM5sNliCD5d</td>\n      <td>Permanent Waves (40th Anniversary)</td>\n      <td>2020-05-29</td>\n      <td>18</td>\n      <td>2020</td>\n    </tr>\n    <tr>\n      <th>2</th>\n      <td>album</td>\n      <td>5G0G9TLLWr8n1abpY4ihmy</td>\n      <td>Hemispheres (40th Anniversary)</td>\n      <td>2018-11-16</td>\n      <td>14</td>\n      <td>2018</td>\n    </tr>\n    <tr>\n      <th>3</th>\n      <td>album</td>\n      <td>3bMJQ8LQWi42IAhVPP0M9O</td>\n      <td>A Farewell To Kings (40th Anniversary Deluxe E...</td>\n      <td>2017-09-01</td>\n      <td>26</td>\n      <td>2017</td>\n    </tr>\n    <tr>\n      <th>4</th>\n      <td>album</td>\n      <td>6q4SMJ8ggxBVrCzPSnDl7c</td>\n      <td>2112 (40 Anniversary)</td>\n      <td>2016-12-09</td>\n      <td>19</td>\n      <td>2016</td>\n    </tr>\n  </tbody>\n</table>\n</div>"
     },
     "execution_count": 4,
     "metadata": {},
     "output_type": "execute_result"
    }
   ],
   "source": [
    "#extract all albums of artist\n",
    "r_albums = requests.get(base_url + 'artists/' + artist_id + '/albums?market=US', headers=header, params={'limit':50, 'include_groups':'album'})\n",
    "r_albums=r_albums.json()\n",
    "df_albums=json_normalize(r_albums['items'])\n",
    "#get next page\n",
    "while r_albums['next']:\n",
    "    r_albums = requests.get(r_albums['next'], headers=header)\n",
    "    r_albums=r_albums.json()\n",
    "    df_albums=df_albums.append(json_normalize(r_albums['items']))\n",
    "df_albums=df_albums.drop(['album_type',\n",
    "                          'artists',\n",
    "                          'href',\n",
    "                          'images',\n",
    "                          'release_date_precision',\n",
    "                          'external_urls.spotify',\n",
    "                          'uri',\n",
    "                          'type'],axis=1)\n",
    "df_albums['Release Date'] = df_albums['release_date'].apply(lambda x: x[:4])\n",
    "df_albums.head(5)"
   ],
   "metadata": {
    "collapsed": false,
    "pycharm": {
     "name": "#%%\n"
    }
   }
  },
  {
   "cell_type": "markdown",
   "source": [
    "Despite having used `include_groups`, Spotify's response contains some live albums, anniversary editions and others that generate noise in the data.\n",
    "Since my goal is to get only the studio albums, the first step is to delete the albums I don't need."
   ],
   "metadata": {
    "collapsed": false,
    "pycharm": {
     "name": "#%% md\n"
    }
   }
  },
  {
   "cell_type": "code",
   "execution_count": 5,
   "outputs": [
    {
     "data": {
      "text/plain": "  album_group                      id                           name  \\\n0       album  744i0LypfMwHHrKhzsqAx0               clockwork angels   \n1       album  7hgcHQbB7xYr75qPPulfro                snakes & arrows   \n2       album  0mT6ezOOTIUucAF9csghFE                       feedback   \n3       album  5fwkYtHrckROAs4ALRJ2Cz  test for echo (2004 remaster)   \n4       album  6JNHWbFco4bnRP5ybKGriN   counterparts (2004 remaster)   \n\n  release_date  total_tracks Release Date  \n0   2012-06-11            12         2012  \n1   2007-04-27            13         2007  \n2   2004-06-29             8         2004  \n3   1996-09-06            11         1996  \n4   1993-09-28            11         1993  ",
      "text/html": "<div>\n<style scoped>\n    .dataframe tbody tr th:only-of-type {\n        vertical-align: middle;\n    }\n\n    .dataframe tbody tr th {\n        vertical-align: top;\n    }\n\n    .dataframe thead th {\n        text-align: right;\n    }\n</style>\n<table border=\"1\" class=\"dataframe\">\n  <thead>\n    <tr style=\"text-align: right;\">\n      <th></th>\n      <th>album_group</th>\n      <th>id</th>\n      <th>name</th>\n      <th>release_date</th>\n      <th>total_tracks</th>\n      <th>Release Date</th>\n    </tr>\n  </thead>\n  <tbody>\n    <tr>\n      <th>0</th>\n      <td>album</td>\n      <td>744i0LypfMwHHrKhzsqAx0</td>\n      <td>clockwork angels</td>\n      <td>2012-06-11</td>\n      <td>12</td>\n      <td>2012</td>\n    </tr>\n    <tr>\n      <th>1</th>\n      <td>album</td>\n      <td>7hgcHQbB7xYr75qPPulfro</td>\n      <td>snakes &amp; arrows</td>\n      <td>2007-04-27</td>\n      <td>13</td>\n      <td>2007</td>\n    </tr>\n    <tr>\n      <th>2</th>\n      <td>album</td>\n      <td>0mT6ezOOTIUucAF9csghFE</td>\n      <td>feedback</td>\n      <td>2004-06-29</td>\n      <td>8</td>\n      <td>2004</td>\n    </tr>\n    <tr>\n      <th>3</th>\n      <td>album</td>\n      <td>5fwkYtHrckROAs4ALRJ2Cz</td>\n      <td>test for echo (2004 remaster)</td>\n      <td>1996-09-06</td>\n      <td>11</td>\n      <td>1996</td>\n    </tr>\n    <tr>\n      <th>4</th>\n      <td>album</td>\n      <td>6JNHWbFco4bnRP5ybKGriN</td>\n      <td>counterparts (2004 remaster)</td>\n      <td>1993-09-28</td>\n      <td>11</td>\n      <td>1993</td>\n    </tr>\n  </tbody>\n</table>\n</div>"
     },
     "execution_count": 5,
     "metadata": {},
     "output_type": "execute_result"
    }
   ],
   "source": [
    "#delete live albums\n",
    "df_albums=df_albums[~df_albums['name'].str.contains('Live|Anniversary|Remix|Tour|Stage|Retrospective|Chronicles|R30|A Show Of Hands|Closer')]\n",
    "#loower case all names\n",
    "df_albums['name']=df_albums['name'].str.lower()\n",
    "df_albums.reset_index(drop=True, inplace=True)\n",
    "df_albums.head(5)"
   ],
   "metadata": {
    "collapsed": false,
    "pycharm": {
     "name": "#%%\n"
    }
   }
  },
  {
   "cell_type": "markdown",
   "source": [
    "## Popularity\n",
    "In order to get the popularity of every album, I use the `/albums/{id}` API section and to concatenate in the dataframe."
   ],
   "metadata": {
    "collapsed": false,
    "pycharm": {
     "name": "#%% md\n"
    }
   }
  },
  {
   "cell_type": "code",
   "execution_count": 6,
   "outputs": [
    {
     "data": {
      "text/plain": "  album_group                      id                           name  \\\n0       album  744i0LypfMwHHrKhzsqAx0               clockwork angels   \n1       album  7hgcHQbB7xYr75qPPulfro                snakes & arrows   \n2       album  0mT6ezOOTIUucAF9csghFE                       feedback   \n3       album  5fwkYtHrckROAs4ALRJ2Cz  test for echo (2004 remaster)   \n4       album  6JNHWbFco4bnRP5ybKGriN   counterparts (2004 remaster)   \n\n  release_date  total_tracks Release Date  popularity  \n0   2012-06-11            12         2012          37  \n1   2007-04-27            13         2007          34  \n2   2004-06-29             8         2004          28  \n3   1996-09-06            11         1996          33  \n4   1993-09-28            11         1993          41  ",
      "text/html": "<div>\n<style scoped>\n    .dataframe tbody tr th:only-of-type {\n        vertical-align: middle;\n    }\n\n    .dataframe tbody tr th {\n        vertical-align: top;\n    }\n\n    .dataframe thead th {\n        text-align: right;\n    }\n</style>\n<table border=\"1\" class=\"dataframe\">\n  <thead>\n    <tr style=\"text-align: right;\">\n      <th></th>\n      <th>album_group</th>\n      <th>id</th>\n      <th>name</th>\n      <th>release_date</th>\n      <th>total_tracks</th>\n      <th>Release Date</th>\n      <th>popularity</th>\n    </tr>\n  </thead>\n  <tbody>\n    <tr>\n      <th>0</th>\n      <td>album</td>\n      <td>744i0LypfMwHHrKhzsqAx0</td>\n      <td>clockwork angels</td>\n      <td>2012-06-11</td>\n      <td>12</td>\n      <td>2012</td>\n      <td>37</td>\n    </tr>\n    <tr>\n      <th>1</th>\n      <td>album</td>\n      <td>7hgcHQbB7xYr75qPPulfro</td>\n      <td>snakes &amp; arrows</td>\n      <td>2007-04-27</td>\n      <td>13</td>\n      <td>2007</td>\n      <td>34</td>\n    </tr>\n    <tr>\n      <th>2</th>\n      <td>album</td>\n      <td>0mT6ezOOTIUucAF9csghFE</td>\n      <td>feedback</td>\n      <td>2004-06-29</td>\n      <td>8</td>\n      <td>2004</td>\n      <td>28</td>\n    </tr>\n    <tr>\n      <th>3</th>\n      <td>album</td>\n      <td>5fwkYtHrckROAs4ALRJ2Cz</td>\n      <td>test for echo (2004 remaster)</td>\n      <td>1996-09-06</td>\n      <td>11</td>\n      <td>1996</td>\n      <td>33</td>\n    </tr>\n    <tr>\n      <th>4</th>\n      <td>album</td>\n      <td>6JNHWbFco4bnRP5ybKGriN</td>\n      <td>counterparts (2004 remaster)</td>\n      <td>1993-09-28</td>\n      <td>11</td>\n      <td>1993</td>\n      <td>41</td>\n    </tr>\n  </tbody>\n</table>\n</div>"
     },
     "execution_count": 6,
     "metadata": {},
     "output_type": "execute_result"
    }
   ],
   "source": [
    "#get the popularity of every album\n",
    "df_albums['popularity'] = df_albums['id'].apply(lambda x: requests.get(base_url + 'albums/' + x, headers=header).json()['popularity'])\n",
    "df_albums.head(5)"
   ],
   "metadata": {
    "collapsed": false,
    "pycharm": {
     "name": "#%%\n"
    }
   }
  },
  {
   "cell_type": "markdown",
   "source": [
    "## Graphs\n",
    "\n",
    "The first graph shows the number of albums per year and the number of tracks per album."
   ],
   "metadata": {
    "collapsed": false,
    "pycharm": {
     "name": "#%% md\n"
    }
   }
  },
  {
   "cell_type": "code",
   "execution_count": 7,
   "outputs": [
    {
     "data": {
      "text/html": "        <script type=\"text/javascript\">\n        window.PlotlyConfig = {MathJaxConfig: 'local'};\n        if (window.MathJax && window.MathJax.Hub && window.MathJax.Hub.Config) {window.MathJax.Hub.Config({SVG: {font: \"STIX-Web\"}});}\n        if (typeof require !== 'undefined') {\n        require.undef(\"plotly\");\n        requirejs.config({\n            paths: {\n                'plotly': ['https://cdn.plot.ly/plotly-2.14.0.min']\n            }\n        });\n        require(['plotly'], function(Plotly) {\n            window._Plotly = Plotly;\n        });\n        }\n        </script>\n        "
     },
     "metadata": {},
     "output_type": "display_data"
    },
    {
     "data": {
      "application/vnd.plotly.v1+json": {
       "data": [
        {
         "hovertemplate": "Release Date=%{x}<br>total_tracks=%{y}<extra></extra>",
         "legendgroup": "1974",
         "marker": {
          "color": "#F8766D",
          "symbol": "circle"
         },
         "mode": "markers",
         "name": "1974",
         "orientation": "v",
         "showlegend": true,
         "x": [
          "1974"
         ],
         "xaxis": "x",
         "y": [
          8
         ],
         "yaxis": "y",
         "type": "scatter"
        },
        {
         "alignmentgroup": "True",
         "bingroup": "x",
         "hovertemplate": "Release Date=%{x}<br>count=%{y}<extra></extra>",
         "legendgroup": "1974",
         "marker": {
          "color": "#F8766D"
         },
         "name": "1974",
         "offsetgroup": "1974",
         "opacity": 0.5,
         "showlegend": false,
         "x": [
          "1974"
         ],
         "xaxis": "x2",
         "yaxis": "y2",
         "type": "histogram"
        },
        {
         "hovertemplate": "Release Date=%{x}<br>total_tracks=%{y}<extra></extra>",
         "legendgroup": "1975",
         "marker": {
          "color": "#A3A500",
          "symbol": "circle"
         },
         "mode": "markers",
         "name": "1975",
         "orientation": "v",
         "showlegend": true,
         "x": [
          "1975",
          "1975"
         ],
         "xaxis": "x",
         "y": [
          5,
          8
         ],
         "yaxis": "y",
         "type": "scatter"
        },
        {
         "alignmentgroup": "True",
         "bingroup": "x",
         "hovertemplate": "Release Date=%{x}<br>count=%{y}<extra></extra>",
         "legendgroup": "1975",
         "marker": {
          "color": "#A3A500"
         },
         "name": "1975",
         "offsetgroup": "1975",
         "opacity": 0.5,
         "showlegend": false,
         "x": [
          "1975",
          "1975"
         ],
         "xaxis": "x2",
         "yaxis": "y2",
         "type": "histogram"
        },
        {
         "hovertemplate": "Release Date=%{x}<br>total_tracks=%{y}<extra></extra>",
         "legendgroup": "1976",
         "marker": {
          "color": "#00BF7D",
          "symbol": "circle"
         },
         "mode": "markers",
         "name": "1976",
         "orientation": "v",
         "showlegend": true,
         "x": [
          "1976",
          "1976"
         ],
         "xaxis": "x",
         "y": [
          9,
          6
         ],
         "yaxis": "y",
         "type": "scatter"
        },
        {
         "alignmentgroup": "True",
         "bingroup": "x",
         "hovertemplate": "Release Date=%{x}<br>count=%{y}<extra></extra>",
         "legendgroup": "1976",
         "marker": {
          "color": "#00BF7D"
         },
         "name": "1976",
         "offsetgroup": "1976",
         "opacity": 0.5,
         "showlegend": false,
         "x": [
          "1976",
          "1976"
         ],
         "xaxis": "x2",
         "yaxis": "y2",
         "type": "histogram"
        },
        {
         "hovertemplate": "Release Date=%{x}<br>total_tracks=%{y}<extra></extra>",
         "legendgroup": "1977",
         "marker": {
          "color": "#00B0F6",
          "symbol": "circle"
         },
         "mode": "markers",
         "name": "1977",
         "orientation": "v",
         "showlegend": true,
         "x": [
          "1977"
         ],
         "xaxis": "x",
         "y": [
          6
         ],
         "yaxis": "y",
         "type": "scatter"
        },
        {
         "alignmentgroup": "True",
         "bingroup": "x",
         "hovertemplate": "Release Date=%{x}<br>count=%{y}<extra></extra>",
         "legendgroup": "1977",
         "marker": {
          "color": "#00B0F6"
         },
         "name": "1977",
         "offsetgroup": "1977",
         "opacity": 0.5,
         "showlegend": false,
         "x": [
          "1977"
         ],
         "xaxis": "x2",
         "yaxis": "y2",
         "type": "histogram"
        },
        {
         "hovertemplate": "Release Date=%{x}<br>total_tracks=%{y}<extra></extra>",
         "legendgroup": "1978",
         "marker": {
          "color": "#E76BF3",
          "symbol": "circle"
         },
         "mode": "markers",
         "name": "1978",
         "orientation": "v",
         "showlegend": true,
         "x": [
          "1978"
         ],
         "xaxis": "x",
         "y": [
          4
         ],
         "yaxis": "y",
         "type": "scatter"
        },
        {
         "alignmentgroup": "True",
         "bingroup": "x",
         "hovertemplate": "Release Date=%{x}<br>count=%{y}<extra></extra>",
         "legendgroup": "1978",
         "marker": {
          "color": "#E76BF3"
         },
         "name": "1978",
         "offsetgroup": "1978",
         "opacity": 0.5,
         "showlegend": false,
         "x": [
          "1978"
         ],
         "xaxis": "x2",
         "yaxis": "y2",
         "type": "histogram"
        },
        {
         "hovertemplate": "Release Date=%{x}<br>total_tracks=%{y}<extra></extra>",
         "legendgroup": "1980",
         "marker": {
          "color": "#F8766D",
          "symbol": "circle"
         },
         "mode": "markers",
         "name": "1980",
         "orientation": "v",
         "showlegend": true,
         "x": [
          "1980"
         ],
         "xaxis": "x",
         "y": [
          6
         ],
         "yaxis": "y",
         "type": "scatter"
        },
        {
         "alignmentgroup": "True",
         "bingroup": "x",
         "hovertemplate": "Release Date=%{x}<br>count=%{y}<extra></extra>",
         "legendgroup": "1980",
         "marker": {
          "color": "#F8766D"
         },
         "name": "1980",
         "offsetgroup": "1980",
         "opacity": 0.5,
         "showlegend": false,
         "x": [
          "1980"
         ],
         "xaxis": "x2",
         "yaxis": "y2",
         "type": "histogram"
        },
        {
         "hovertemplate": "Release Date=%{x}<br>total_tracks=%{y}<extra></extra>",
         "legendgroup": "1981",
         "marker": {
          "color": "#A3A500",
          "symbol": "circle"
         },
         "mode": "markers",
         "name": "1981",
         "orientation": "v",
         "showlegend": true,
         "x": [
          "1981"
         ],
         "xaxis": "x",
         "y": [
          7
         ],
         "yaxis": "y",
         "type": "scatter"
        },
        {
         "alignmentgroup": "True",
         "bingroup": "x",
         "hovertemplate": "Release Date=%{x}<br>count=%{y}<extra></extra>",
         "legendgroup": "1981",
         "marker": {
          "color": "#A3A500"
         },
         "name": "1981",
         "offsetgroup": "1981",
         "opacity": 0.5,
         "showlegend": false,
         "x": [
          "1981"
         ],
         "xaxis": "x2",
         "yaxis": "y2",
         "type": "histogram"
        },
        {
         "hovertemplate": "Release Date=%{x}<br>total_tracks=%{y}<extra></extra>",
         "legendgroup": "1982",
         "marker": {
          "color": "#00BF7D",
          "symbol": "circle"
         },
         "mode": "markers",
         "name": "1982",
         "orientation": "v",
         "showlegend": true,
         "x": [
          "1982"
         ],
         "xaxis": "x",
         "y": [
          8
         ],
         "yaxis": "y",
         "type": "scatter"
        },
        {
         "alignmentgroup": "True",
         "bingroup": "x",
         "hovertemplate": "Release Date=%{x}<br>count=%{y}<extra></extra>",
         "legendgroup": "1982",
         "marker": {
          "color": "#00BF7D"
         },
         "name": "1982",
         "offsetgroup": "1982",
         "opacity": 0.5,
         "showlegend": false,
         "x": [
          "1982"
         ],
         "xaxis": "x2",
         "yaxis": "y2",
         "type": "histogram"
        },
        {
         "hovertemplate": "Release Date=%{x}<br>total_tracks=%{y}<extra></extra>",
         "legendgroup": "1984",
         "marker": {
          "color": "#00B0F6",
          "symbol": "circle"
         },
         "mode": "markers",
         "name": "1984",
         "orientation": "v",
         "showlegend": true,
         "x": [
          "1984"
         ],
         "xaxis": "x",
         "y": [
          8
         ],
         "yaxis": "y",
         "type": "scatter"
        },
        {
         "alignmentgroup": "True",
         "bingroup": "x",
         "hovertemplate": "Release Date=%{x}<br>count=%{y}<extra></extra>",
         "legendgroup": "1984",
         "marker": {
          "color": "#00B0F6"
         },
         "name": "1984",
         "offsetgroup": "1984",
         "opacity": 0.5,
         "showlegend": false,
         "x": [
          "1984"
         ],
         "xaxis": "x2",
         "yaxis": "y2",
         "type": "histogram"
        },
        {
         "hovertemplate": "Release Date=%{x}<br>total_tracks=%{y}<extra></extra>",
         "legendgroup": "1985",
         "marker": {
          "color": "#E76BF3",
          "symbol": "circle"
         },
         "mode": "markers",
         "name": "1985",
         "orientation": "v",
         "showlegend": true,
         "x": [
          "1985"
         ],
         "xaxis": "x",
         "y": [
          8
         ],
         "yaxis": "y",
         "type": "scatter"
        },
        {
         "alignmentgroup": "True",
         "bingroup": "x",
         "hovertemplate": "Release Date=%{x}<br>count=%{y}<extra></extra>",
         "legendgroup": "1985",
         "marker": {
          "color": "#E76BF3"
         },
         "name": "1985",
         "offsetgroup": "1985",
         "opacity": 0.5,
         "showlegend": false,
         "x": [
          "1985"
         ],
         "xaxis": "x2",
         "yaxis": "y2",
         "type": "histogram"
        },
        {
         "hovertemplate": "Release Date=%{x}<br>total_tracks=%{y}<extra></extra>",
         "legendgroup": "1987",
         "marker": {
          "color": "#F8766D",
          "symbol": "circle"
         },
         "mode": "markers",
         "name": "1987",
         "orientation": "v",
         "showlegend": true,
         "x": [
          "1987"
         ],
         "xaxis": "x",
         "y": [
          10
         ],
         "yaxis": "y",
         "type": "scatter"
        },
        {
         "alignmentgroup": "True",
         "bingroup": "x",
         "hovertemplate": "Release Date=%{x}<br>count=%{y}<extra></extra>",
         "legendgroup": "1987",
         "marker": {
          "color": "#F8766D"
         },
         "name": "1987",
         "offsetgroup": "1987",
         "opacity": 0.5,
         "showlegend": false,
         "x": [
          "1987"
         ],
         "xaxis": "x2",
         "yaxis": "y2",
         "type": "histogram"
        },
        {
         "hovertemplate": "Release Date=%{x}<br>total_tracks=%{y}<extra></extra>",
         "legendgroup": "1989",
         "marker": {
          "color": "#A3A500",
          "symbol": "circle"
         },
         "mode": "markers",
         "name": "1989",
         "orientation": "v",
         "showlegend": true,
         "x": [
          "1989"
         ],
         "xaxis": "x",
         "y": [
          11
         ],
         "yaxis": "y",
         "type": "scatter"
        },
        {
         "alignmentgroup": "True",
         "bingroup": "x",
         "hovertemplate": "Release Date=%{x}<br>count=%{y}<extra></extra>",
         "legendgroup": "1989",
         "marker": {
          "color": "#A3A500"
         },
         "name": "1989",
         "offsetgroup": "1989",
         "opacity": 0.5,
         "showlegend": false,
         "x": [
          "1989"
         ],
         "xaxis": "x2",
         "yaxis": "y2",
         "type": "histogram"
        },
        {
         "hovertemplate": "Release Date=%{x}<br>total_tracks=%{y}<extra></extra>",
         "legendgroup": "1991",
         "marker": {
          "color": "#00BF7D",
          "symbol": "circle"
         },
         "mode": "markers",
         "name": "1991",
         "orientation": "v",
         "showlegend": true,
         "x": [
          "1991"
         ],
         "xaxis": "x",
         "y": [
          10
         ],
         "yaxis": "y",
         "type": "scatter"
        },
        {
         "alignmentgroup": "True",
         "bingroup": "x",
         "hovertemplate": "Release Date=%{x}<br>count=%{y}<extra></extra>",
         "legendgroup": "1991",
         "marker": {
          "color": "#00BF7D"
         },
         "name": "1991",
         "offsetgroup": "1991",
         "opacity": 0.5,
         "showlegend": false,
         "x": [
          "1991"
         ],
         "xaxis": "x2",
         "yaxis": "y2",
         "type": "histogram"
        },
        {
         "hovertemplate": "Release Date=%{x}<br>total_tracks=%{y}<extra></extra>",
         "legendgroup": "1993",
         "marker": {
          "color": "#00B0F6",
          "symbol": "circle"
         },
         "mode": "markers",
         "name": "1993",
         "orientation": "v",
         "showlegend": true,
         "x": [
          "1993"
         ],
         "xaxis": "x",
         "y": [
          11
         ],
         "yaxis": "y",
         "type": "scatter"
        },
        {
         "alignmentgroup": "True",
         "bingroup": "x",
         "hovertemplate": "Release Date=%{x}<br>count=%{y}<extra></extra>",
         "legendgroup": "1993",
         "marker": {
          "color": "#00B0F6"
         },
         "name": "1993",
         "offsetgroup": "1993",
         "opacity": 0.5,
         "showlegend": false,
         "x": [
          "1993"
         ],
         "xaxis": "x2",
         "yaxis": "y2",
         "type": "histogram"
        },
        {
         "hovertemplate": "Release Date=%{x}<br>total_tracks=%{y}<extra></extra>",
         "legendgroup": "1996",
         "marker": {
          "color": "#E76BF3",
          "symbol": "circle"
         },
         "mode": "markers",
         "name": "1996",
         "orientation": "v",
         "showlegend": true,
         "x": [
          "1996"
         ],
         "xaxis": "x",
         "y": [
          11
         ],
         "yaxis": "y",
         "type": "scatter"
        },
        {
         "alignmentgroup": "True",
         "bingroup": "x",
         "hovertemplate": "Release Date=%{x}<br>count=%{y}<extra></extra>",
         "legendgroup": "1996",
         "marker": {
          "color": "#E76BF3"
         },
         "name": "1996",
         "offsetgroup": "1996",
         "opacity": 0.5,
         "showlegend": false,
         "x": [
          "1996"
         ],
         "xaxis": "x2",
         "yaxis": "y2",
         "type": "histogram"
        },
        {
         "hovertemplate": "Release Date=%{x}<br>total_tracks=%{y}<extra></extra>",
         "legendgroup": "2004",
         "marker": {
          "color": "#F8766D",
          "symbol": "circle"
         },
         "mode": "markers",
         "name": "2004",
         "orientation": "v",
         "showlegend": true,
         "x": [
          "2004"
         ],
         "xaxis": "x",
         "y": [
          8
         ],
         "yaxis": "y",
         "type": "scatter"
        },
        {
         "alignmentgroup": "True",
         "bingroup": "x",
         "hovertemplate": "Release Date=%{x}<br>count=%{y}<extra></extra>",
         "legendgroup": "2004",
         "marker": {
          "color": "#F8766D"
         },
         "name": "2004",
         "offsetgroup": "2004",
         "opacity": 0.5,
         "showlegend": false,
         "x": [
          "2004"
         ],
         "xaxis": "x2",
         "yaxis": "y2",
         "type": "histogram"
        },
        {
         "hovertemplate": "Release Date=%{x}<br>total_tracks=%{y}<extra></extra>",
         "legendgroup": "2007",
         "marker": {
          "color": "#A3A500",
          "symbol": "circle"
         },
         "mode": "markers",
         "name": "2007",
         "orientation": "v",
         "showlegend": true,
         "x": [
          "2007"
         ],
         "xaxis": "x",
         "y": [
          13
         ],
         "yaxis": "y",
         "type": "scatter"
        },
        {
         "alignmentgroup": "True",
         "bingroup": "x",
         "hovertemplate": "Release Date=%{x}<br>count=%{y}<extra></extra>",
         "legendgroup": "2007",
         "marker": {
          "color": "#A3A500"
         },
         "name": "2007",
         "offsetgroup": "2007",
         "opacity": 0.5,
         "showlegend": false,
         "x": [
          "2007"
         ],
         "xaxis": "x2",
         "yaxis": "y2",
         "type": "histogram"
        },
        {
         "hovertemplate": "Release Date=%{x}<br>total_tracks=%{y}<extra></extra>",
         "legendgroup": "2012",
         "marker": {
          "color": "#00BF7D",
          "symbol": "circle"
         },
         "mode": "markers",
         "name": "2012",
         "orientation": "v",
         "showlegend": true,
         "x": [
          "2012"
         ],
         "xaxis": "x",
         "y": [
          12
         ],
         "yaxis": "y",
         "type": "scatter"
        },
        {
         "alignmentgroup": "True",
         "bingroup": "x",
         "hovertemplate": "Release Date=%{x}<br>count=%{y}<extra></extra>",
         "legendgroup": "2012",
         "marker": {
          "color": "#00BF7D"
         },
         "name": "2012",
         "offsetgroup": "2012",
         "opacity": 0.5,
         "showlegend": false,
         "x": [
          "2012"
         ],
         "xaxis": "x2",
         "yaxis": "y2",
         "type": "histogram"
        }
       ],
       "layout": {
        "template": {
         "data": {
          "barpolar": [
           {
            "marker": {
             "line": {
              "color": "rgb(237,237,237)",
              "width": 0.5
             },
             "pattern": {
              "fillmode": "overlay",
              "size": 10,
              "solidity": 0.2
             }
            },
            "type": "barpolar"
           }
          ],
          "bar": [
           {
            "error_x": {
             "color": "rgb(51,51,51)"
            },
            "error_y": {
             "color": "rgb(51,51,51)"
            },
            "marker": {
             "line": {
              "color": "rgb(237,237,237)",
              "width": 0.5
             },
             "pattern": {
              "fillmode": "overlay",
              "size": 10,
              "solidity": 0.2
             }
            },
            "type": "bar"
           }
          ],
          "carpet": [
           {
            "aaxis": {
             "endlinecolor": "rgb(51,51,51)",
             "gridcolor": "white",
             "linecolor": "white",
             "minorgridcolor": "white",
             "startlinecolor": "rgb(51,51,51)"
            },
            "baxis": {
             "endlinecolor": "rgb(51,51,51)",
             "gridcolor": "white",
             "linecolor": "white",
             "minorgridcolor": "white",
             "startlinecolor": "rgb(51,51,51)"
            },
            "type": "carpet"
           }
          ],
          "choropleth": [
           {
            "colorbar": {
             "outlinewidth": 0,
             "tickcolor": "rgb(237,237,237)",
             "ticklen": 6,
             "ticks": "inside"
            },
            "type": "choropleth"
           }
          ],
          "contourcarpet": [
           {
            "colorbar": {
             "outlinewidth": 0,
             "tickcolor": "rgb(237,237,237)",
             "ticklen": 6,
             "ticks": "inside"
            },
            "type": "contourcarpet"
           }
          ],
          "contour": [
           {
            "colorbar": {
             "outlinewidth": 0,
             "tickcolor": "rgb(237,237,237)",
             "ticklen": 6,
             "ticks": "inside"
            },
            "colorscale": [
             [
              0,
              "rgb(20,44,66)"
             ],
             [
              1,
              "rgb(90,179,244)"
             ]
            ],
            "type": "contour"
           }
          ],
          "heatmapgl": [
           {
            "colorbar": {
             "outlinewidth": 0,
             "tickcolor": "rgb(237,237,237)",
             "ticklen": 6,
             "ticks": "inside"
            },
            "colorscale": [
             [
              0,
              "rgb(20,44,66)"
             ],
             [
              1,
              "rgb(90,179,244)"
             ]
            ],
            "type": "heatmapgl"
           }
          ],
          "heatmap": [
           {
            "colorbar": {
             "outlinewidth": 0,
             "tickcolor": "rgb(237,237,237)",
             "ticklen": 6,
             "ticks": "inside"
            },
            "colorscale": [
             [
              0,
              "rgb(20,44,66)"
             ],
             [
              1,
              "rgb(90,179,244)"
             ]
            ],
            "type": "heatmap"
           }
          ],
          "histogram2dcontour": [
           {
            "colorbar": {
             "outlinewidth": 0,
             "tickcolor": "rgb(237,237,237)",
             "ticklen": 6,
             "ticks": "inside"
            },
            "colorscale": [
             [
              0,
              "rgb(20,44,66)"
             ],
             [
              1,
              "rgb(90,179,244)"
             ]
            ],
            "type": "histogram2dcontour"
           }
          ],
          "histogram2d": [
           {
            "colorbar": {
             "outlinewidth": 0,
             "tickcolor": "rgb(237,237,237)",
             "ticklen": 6,
             "ticks": "inside"
            },
            "colorscale": [
             [
              0,
              "rgb(20,44,66)"
             ],
             [
              1,
              "rgb(90,179,244)"
             ]
            ],
            "type": "histogram2d"
           }
          ],
          "histogram": [
           {
            "marker": {
             "pattern": {
              "fillmode": "overlay",
              "size": 10,
              "solidity": 0.2
             }
            },
            "type": "histogram"
           }
          ],
          "mesh3d": [
           {
            "colorbar": {
             "outlinewidth": 0,
             "tickcolor": "rgb(237,237,237)",
             "ticklen": 6,
             "ticks": "inside"
            },
            "type": "mesh3d"
           }
          ],
          "parcoords": [
           {
            "line": {
             "colorbar": {
              "outlinewidth": 0,
              "tickcolor": "rgb(237,237,237)",
              "ticklen": 6,
              "ticks": "inside"
             }
            },
            "type": "parcoords"
           }
          ],
          "pie": [
           {
            "automargin": true,
            "type": "pie"
           }
          ],
          "scatter3d": [
           {
            "line": {
             "colorbar": {
              "outlinewidth": 0,
              "tickcolor": "rgb(237,237,237)",
              "ticklen": 6,
              "ticks": "inside"
             }
            },
            "marker": {
             "colorbar": {
              "outlinewidth": 0,
              "tickcolor": "rgb(237,237,237)",
              "ticklen": 6,
              "ticks": "inside"
             }
            },
            "type": "scatter3d"
           }
          ],
          "scattercarpet": [
           {
            "marker": {
             "colorbar": {
              "outlinewidth": 0,
              "tickcolor": "rgb(237,237,237)",
              "ticklen": 6,
              "ticks": "inside"
             }
            },
            "type": "scattercarpet"
           }
          ],
          "scattergeo": [
           {
            "marker": {
             "colorbar": {
              "outlinewidth": 0,
              "tickcolor": "rgb(237,237,237)",
              "ticklen": 6,
              "ticks": "inside"
             }
            },
            "type": "scattergeo"
           }
          ],
          "scattergl": [
           {
            "marker": {
             "colorbar": {
              "outlinewidth": 0,
              "tickcolor": "rgb(237,237,237)",
              "ticklen": 6,
              "ticks": "inside"
             }
            },
            "type": "scattergl"
           }
          ],
          "scattermapbox": [
           {
            "marker": {
             "colorbar": {
              "outlinewidth": 0,
              "tickcolor": "rgb(237,237,237)",
              "ticklen": 6,
              "ticks": "inside"
             }
            },
            "type": "scattermapbox"
           }
          ],
          "scatterpolargl": [
           {
            "marker": {
             "colorbar": {
              "outlinewidth": 0,
              "tickcolor": "rgb(237,237,237)",
              "ticklen": 6,
              "ticks": "inside"
             }
            },
            "type": "scatterpolargl"
           }
          ],
          "scatterpolar": [
           {
            "marker": {
             "colorbar": {
              "outlinewidth": 0,
              "tickcolor": "rgb(237,237,237)",
              "ticklen": 6,
              "ticks": "inside"
             }
            },
            "type": "scatterpolar"
           }
          ],
          "scatter": [
           {
            "fillpattern": {
             "fillmode": "overlay",
             "size": 10,
             "solidity": 0.2
            },
            "type": "scatter"
           }
          ],
          "scatterternary": [
           {
            "marker": {
             "colorbar": {
              "outlinewidth": 0,
              "tickcolor": "rgb(237,237,237)",
              "ticklen": 6,
              "ticks": "inside"
             }
            },
            "type": "scatterternary"
           }
          ],
          "surface": [
           {
            "colorbar": {
             "outlinewidth": 0,
             "tickcolor": "rgb(237,237,237)",
             "ticklen": 6,
             "ticks": "inside"
            },
            "colorscale": [
             [
              0,
              "rgb(20,44,66)"
             ],
             [
              1,
              "rgb(90,179,244)"
             ]
            ],
            "type": "surface"
           }
          ],
          "table": [
           {
            "cells": {
             "fill": {
              "color": "rgb(237,237,237)"
             },
             "line": {
              "color": "white"
             }
            },
            "header": {
             "fill": {
              "color": "rgb(217,217,217)"
             },
             "line": {
              "color": "white"
             }
            },
            "type": "table"
           }
          ]
         },
         "layout": {
          "annotationdefaults": {
           "arrowhead": 0,
           "arrowwidth": 1
          },
          "autotypenumbers": "strict",
          "coloraxis": {
           "colorbar": {
            "outlinewidth": 0,
            "tickcolor": "rgb(237,237,237)",
            "ticklen": 6,
            "ticks": "inside"
           }
          },
          "colorscale": {
           "sequential": [
            [
             0,
             "rgb(20,44,66)"
            ],
            [
             1,
             "rgb(90,179,244)"
            ]
           ],
           "sequentialminus": [
            [
             0,
             "rgb(20,44,66)"
            ],
            [
             1,
             "rgb(90,179,244)"
            ]
           ]
          },
          "colorway": [
           "#F8766D",
           "#A3A500",
           "#00BF7D",
           "#00B0F6",
           "#E76BF3"
          ],
          "font": {
           "color": "rgb(51,51,51)"
          },
          "geo": {
           "bgcolor": "white",
           "lakecolor": "white",
           "landcolor": "rgb(237,237,237)",
           "showlakes": true,
           "showland": true,
           "subunitcolor": "white"
          },
          "hoverlabel": {
           "align": "left"
          },
          "hovermode": "closest",
          "paper_bgcolor": "white",
          "plot_bgcolor": "rgb(237,237,237)",
          "polar": {
           "angularaxis": {
            "gridcolor": "white",
            "linecolor": "white",
            "showgrid": true,
            "tickcolor": "rgb(51,51,51)",
            "ticks": "outside"
           },
           "bgcolor": "rgb(237,237,237)",
           "radialaxis": {
            "gridcolor": "white",
            "linecolor": "white",
            "showgrid": true,
            "tickcolor": "rgb(51,51,51)",
            "ticks": "outside"
           }
          },
          "scene": {
           "xaxis": {
            "backgroundcolor": "rgb(237,237,237)",
            "gridcolor": "white",
            "gridwidth": 2,
            "linecolor": "white",
            "showbackground": true,
            "showgrid": true,
            "tickcolor": "rgb(51,51,51)",
            "ticks": "outside",
            "zerolinecolor": "white"
           },
           "yaxis": {
            "backgroundcolor": "rgb(237,237,237)",
            "gridcolor": "white",
            "gridwidth": 2,
            "linecolor": "white",
            "showbackground": true,
            "showgrid": true,
            "tickcolor": "rgb(51,51,51)",
            "ticks": "outside",
            "zerolinecolor": "white"
           },
           "zaxis": {
            "backgroundcolor": "rgb(237,237,237)",
            "gridcolor": "white",
            "gridwidth": 2,
            "linecolor": "white",
            "showbackground": true,
            "showgrid": true,
            "tickcolor": "rgb(51,51,51)",
            "ticks": "outside",
            "zerolinecolor": "white"
           }
          },
          "shapedefaults": {
           "fillcolor": "black",
           "line": {
            "width": 0
           },
           "opacity": 0.3
          },
          "ternary": {
           "aaxis": {
            "gridcolor": "white",
            "linecolor": "white",
            "showgrid": true,
            "tickcolor": "rgb(51,51,51)",
            "ticks": "outside"
           },
           "baxis": {
            "gridcolor": "white",
            "linecolor": "white",
            "showgrid": true,
            "tickcolor": "rgb(51,51,51)",
            "ticks": "outside"
           },
           "bgcolor": "rgb(237,237,237)",
           "caxis": {
            "gridcolor": "white",
            "linecolor": "white",
            "showgrid": true,
            "tickcolor": "rgb(51,51,51)",
            "ticks": "outside"
           }
          },
          "xaxis": {
           "automargin": true,
           "gridcolor": "white",
           "linecolor": "white",
           "showgrid": true,
           "tickcolor": "rgb(51,51,51)",
           "ticks": "outside",
           "title": {
            "standoff": 15
           },
           "zerolinecolor": "white"
          },
          "yaxis": {
           "automargin": true,
           "gridcolor": "white",
           "linecolor": "white",
           "showgrid": true,
           "tickcolor": "rgb(51,51,51)",
           "ticks": "outside",
           "title": {
            "standoff": 15
           },
           "zerolinecolor": "white"
          }
         }
        },
        "xaxis": {
         "anchor": "y",
         "domain": [
          0.0,
          1.0
         ],
         "categoryorder": "array",
         "categoryarray": [
          "1974",
          "1975",
          "1976",
          "1977",
          "1978",
          "1980",
          "1981",
          "1982",
          "1984",
          "1985",
          "1987",
          "1989",
          "1991",
          "1993",
          "1996",
          "2004",
          "2007",
          "2012"
         ],
         "title": {
          "text": "Release Date"
         }
        },
        "yaxis": {
         "anchor": "x",
         "domain": [
          0.0,
          0.7326
         ],
         "title": {
          "text": "total_tracks"
         }
        },
        "xaxis2": {
         "anchor": "y2",
         "domain": [
          0.0,
          1.0
         ],
         "matches": "x",
         "showticklabels": false
        },
        "yaxis2": {
         "anchor": "x2",
         "domain": [
          0.7426,
          1.0
         ],
         "matches": "y2",
         "showticklabels": false,
         "showline": false,
         "ticks": ""
        },
        "legend": {
         "title": {
          "text": "Release Date"
         },
         "tracegroupgap": 0
        },
        "margin": {
         "t": 60
        },
        "barmode": "overlay",
        "title": {
         "text": "Number of Tracks per Album"
        },
        "width": 700,
        "height": 600
       },
       "config": {
        "plotlyServerURL": "https://plot.ly"
       }
      },
      "text/html": "<div>                            <div id=\"caf64d8c-8872-4bb2-ad16-e42bd4b4d439\" class=\"plotly-graph-div\" style=\"height:600px; width:700px;\"></div>            <script type=\"text/javascript\">                require([\"plotly\"], function(Plotly) {                    window.PLOTLYENV=window.PLOTLYENV || {};                                    if (document.getElementById(\"caf64d8c-8872-4bb2-ad16-e42bd4b4d439\")) {                    Plotly.newPlot(                        \"caf64d8c-8872-4bb2-ad16-e42bd4b4d439\",                        [{\"hovertemplate\":\"Release Date=%{x}<br>total_tracks=%{y}<extra></extra>\",\"legendgroup\":\"1974\",\"marker\":{\"color\":\"#F8766D\",\"symbol\":\"circle\"},\"mode\":\"markers\",\"name\":\"1974\",\"orientation\":\"v\",\"showlegend\":true,\"x\":[\"1974\"],\"xaxis\":\"x\",\"y\":[8],\"yaxis\":\"y\",\"type\":\"scatter\"},{\"alignmentgroup\":\"True\",\"bingroup\":\"x\",\"hovertemplate\":\"Release Date=%{x}<br>count=%{y}<extra></extra>\",\"legendgroup\":\"1974\",\"marker\":{\"color\":\"#F8766D\"},\"name\":\"1974\",\"offsetgroup\":\"1974\",\"opacity\":0.5,\"showlegend\":false,\"x\":[\"1974\"],\"xaxis\":\"x2\",\"yaxis\":\"y2\",\"type\":\"histogram\"},{\"hovertemplate\":\"Release Date=%{x}<br>total_tracks=%{y}<extra></extra>\",\"legendgroup\":\"1975\",\"marker\":{\"color\":\"#A3A500\",\"symbol\":\"circle\"},\"mode\":\"markers\",\"name\":\"1975\",\"orientation\":\"v\",\"showlegend\":true,\"x\":[\"1975\",\"1975\"],\"xaxis\":\"x\",\"y\":[5,8],\"yaxis\":\"y\",\"type\":\"scatter\"},{\"alignmentgroup\":\"True\",\"bingroup\":\"x\",\"hovertemplate\":\"Release Date=%{x}<br>count=%{y}<extra></extra>\",\"legendgroup\":\"1975\",\"marker\":{\"color\":\"#A3A500\"},\"name\":\"1975\",\"offsetgroup\":\"1975\",\"opacity\":0.5,\"showlegend\":false,\"x\":[\"1975\",\"1975\"],\"xaxis\":\"x2\",\"yaxis\":\"y2\",\"type\":\"histogram\"},{\"hovertemplate\":\"Release Date=%{x}<br>total_tracks=%{y}<extra></extra>\",\"legendgroup\":\"1976\",\"marker\":{\"color\":\"#00BF7D\",\"symbol\":\"circle\"},\"mode\":\"markers\",\"name\":\"1976\",\"orientation\":\"v\",\"showlegend\":true,\"x\":[\"1976\",\"1976\"],\"xaxis\":\"x\",\"y\":[9,6],\"yaxis\":\"y\",\"type\":\"scatter\"},{\"alignmentgroup\":\"True\",\"bingroup\":\"x\",\"hovertemplate\":\"Release Date=%{x}<br>count=%{y}<extra></extra>\",\"legendgroup\":\"1976\",\"marker\":{\"color\":\"#00BF7D\"},\"name\":\"1976\",\"offsetgroup\":\"1976\",\"opacity\":0.5,\"showlegend\":false,\"x\":[\"1976\",\"1976\"],\"xaxis\":\"x2\",\"yaxis\":\"y2\",\"type\":\"histogram\"},{\"hovertemplate\":\"Release Date=%{x}<br>total_tracks=%{y}<extra></extra>\",\"legendgroup\":\"1977\",\"marker\":{\"color\":\"#00B0F6\",\"symbol\":\"circle\"},\"mode\":\"markers\",\"name\":\"1977\",\"orientation\":\"v\",\"showlegend\":true,\"x\":[\"1977\"],\"xaxis\":\"x\",\"y\":[6],\"yaxis\":\"y\",\"type\":\"scatter\"},{\"alignmentgroup\":\"True\",\"bingroup\":\"x\",\"hovertemplate\":\"Release Date=%{x}<br>count=%{y}<extra></extra>\",\"legendgroup\":\"1977\",\"marker\":{\"color\":\"#00B0F6\"},\"name\":\"1977\",\"offsetgroup\":\"1977\",\"opacity\":0.5,\"showlegend\":false,\"x\":[\"1977\"],\"xaxis\":\"x2\",\"yaxis\":\"y2\",\"type\":\"histogram\"},{\"hovertemplate\":\"Release Date=%{x}<br>total_tracks=%{y}<extra></extra>\",\"legendgroup\":\"1978\",\"marker\":{\"color\":\"#E76BF3\",\"symbol\":\"circle\"},\"mode\":\"markers\",\"name\":\"1978\",\"orientation\":\"v\",\"showlegend\":true,\"x\":[\"1978\"],\"xaxis\":\"x\",\"y\":[4],\"yaxis\":\"y\",\"type\":\"scatter\"},{\"alignmentgroup\":\"True\",\"bingroup\":\"x\",\"hovertemplate\":\"Release Date=%{x}<br>count=%{y}<extra></extra>\",\"legendgroup\":\"1978\",\"marker\":{\"color\":\"#E76BF3\"},\"name\":\"1978\",\"offsetgroup\":\"1978\",\"opacity\":0.5,\"showlegend\":false,\"x\":[\"1978\"],\"xaxis\":\"x2\",\"yaxis\":\"y2\",\"type\":\"histogram\"},{\"hovertemplate\":\"Release Date=%{x}<br>total_tracks=%{y}<extra></extra>\",\"legendgroup\":\"1980\",\"marker\":{\"color\":\"#F8766D\",\"symbol\":\"circle\"},\"mode\":\"markers\",\"name\":\"1980\",\"orientation\":\"v\",\"showlegend\":true,\"x\":[\"1980\"],\"xaxis\":\"x\",\"y\":[6],\"yaxis\":\"y\",\"type\":\"scatter\"},{\"alignmentgroup\":\"True\",\"bingroup\":\"x\",\"hovertemplate\":\"Release Date=%{x}<br>count=%{y}<extra></extra>\",\"legendgroup\":\"1980\",\"marker\":{\"color\":\"#F8766D\"},\"name\":\"1980\",\"offsetgroup\":\"1980\",\"opacity\":0.5,\"showlegend\":false,\"x\":[\"1980\"],\"xaxis\":\"x2\",\"yaxis\":\"y2\",\"type\":\"histogram\"},{\"hovertemplate\":\"Release Date=%{x}<br>total_tracks=%{y}<extra></extra>\",\"legendgroup\":\"1981\",\"marker\":{\"color\":\"#A3A500\",\"symbol\":\"circle\"},\"mode\":\"markers\",\"name\":\"1981\",\"orientation\":\"v\",\"showlegend\":true,\"x\":[\"1981\"],\"xaxis\":\"x\",\"y\":[7],\"yaxis\":\"y\",\"type\":\"scatter\"},{\"alignmentgroup\":\"True\",\"bingroup\":\"x\",\"hovertemplate\":\"Release Date=%{x}<br>count=%{y}<extra></extra>\",\"legendgroup\":\"1981\",\"marker\":{\"color\":\"#A3A500\"},\"name\":\"1981\",\"offsetgroup\":\"1981\",\"opacity\":0.5,\"showlegend\":false,\"x\":[\"1981\"],\"xaxis\":\"x2\",\"yaxis\":\"y2\",\"type\":\"histogram\"},{\"hovertemplate\":\"Release Date=%{x}<br>total_tracks=%{y}<extra></extra>\",\"legendgroup\":\"1982\",\"marker\":{\"color\":\"#00BF7D\",\"symbol\":\"circle\"},\"mode\":\"markers\",\"name\":\"1982\",\"orientation\":\"v\",\"showlegend\":true,\"x\":[\"1982\"],\"xaxis\":\"x\",\"y\":[8],\"yaxis\":\"y\",\"type\":\"scatter\"},{\"alignmentgroup\":\"True\",\"bingroup\":\"x\",\"hovertemplate\":\"Release Date=%{x}<br>count=%{y}<extra></extra>\",\"legendgroup\":\"1982\",\"marker\":{\"color\":\"#00BF7D\"},\"name\":\"1982\",\"offsetgroup\":\"1982\",\"opacity\":0.5,\"showlegend\":false,\"x\":[\"1982\"],\"xaxis\":\"x2\",\"yaxis\":\"y2\",\"type\":\"histogram\"},{\"hovertemplate\":\"Release Date=%{x}<br>total_tracks=%{y}<extra></extra>\",\"legendgroup\":\"1984\",\"marker\":{\"color\":\"#00B0F6\",\"symbol\":\"circle\"},\"mode\":\"markers\",\"name\":\"1984\",\"orientation\":\"v\",\"showlegend\":true,\"x\":[\"1984\"],\"xaxis\":\"x\",\"y\":[8],\"yaxis\":\"y\",\"type\":\"scatter\"},{\"alignmentgroup\":\"True\",\"bingroup\":\"x\",\"hovertemplate\":\"Release Date=%{x}<br>count=%{y}<extra></extra>\",\"legendgroup\":\"1984\",\"marker\":{\"color\":\"#00B0F6\"},\"name\":\"1984\",\"offsetgroup\":\"1984\",\"opacity\":0.5,\"showlegend\":false,\"x\":[\"1984\"],\"xaxis\":\"x2\",\"yaxis\":\"y2\",\"type\":\"histogram\"},{\"hovertemplate\":\"Release Date=%{x}<br>total_tracks=%{y}<extra></extra>\",\"legendgroup\":\"1985\",\"marker\":{\"color\":\"#E76BF3\",\"symbol\":\"circle\"},\"mode\":\"markers\",\"name\":\"1985\",\"orientation\":\"v\",\"showlegend\":true,\"x\":[\"1985\"],\"xaxis\":\"x\",\"y\":[8],\"yaxis\":\"y\",\"type\":\"scatter\"},{\"alignmentgroup\":\"True\",\"bingroup\":\"x\",\"hovertemplate\":\"Release Date=%{x}<br>count=%{y}<extra></extra>\",\"legendgroup\":\"1985\",\"marker\":{\"color\":\"#E76BF3\"},\"name\":\"1985\",\"offsetgroup\":\"1985\",\"opacity\":0.5,\"showlegend\":false,\"x\":[\"1985\"],\"xaxis\":\"x2\",\"yaxis\":\"y2\",\"type\":\"histogram\"},{\"hovertemplate\":\"Release Date=%{x}<br>total_tracks=%{y}<extra></extra>\",\"legendgroup\":\"1987\",\"marker\":{\"color\":\"#F8766D\",\"symbol\":\"circle\"},\"mode\":\"markers\",\"name\":\"1987\",\"orientation\":\"v\",\"showlegend\":true,\"x\":[\"1987\"],\"xaxis\":\"x\",\"y\":[10],\"yaxis\":\"y\",\"type\":\"scatter\"},{\"alignmentgroup\":\"True\",\"bingroup\":\"x\",\"hovertemplate\":\"Release Date=%{x}<br>count=%{y}<extra></extra>\",\"legendgroup\":\"1987\",\"marker\":{\"color\":\"#F8766D\"},\"name\":\"1987\",\"offsetgroup\":\"1987\",\"opacity\":0.5,\"showlegend\":false,\"x\":[\"1987\"],\"xaxis\":\"x2\",\"yaxis\":\"y2\",\"type\":\"histogram\"},{\"hovertemplate\":\"Release Date=%{x}<br>total_tracks=%{y}<extra></extra>\",\"legendgroup\":\"1989\",\"marker\":{\"color\":\"#A3A500\",\"symbol\":\"circle\"},\"mode\":\"markers\",\"name\":\"1989\",\"orientation\":\"v\",\"showlegend\":true,\"x\":[\"1989\"],\"xaxis\":\"x\",\"y\":[11],\"yaxis\":\"y\",\"type\":\"scatter\"},{\"alignmentgroup\":\"True\",\"bingroup\":\"x\",\"hovertemplate\":\"Release Date=%{x}<br>count=%{y}<extra></extra>\",\"legendgroup\":\"1989\",\"marker\":{\"color\":\"#A3A500\"},\"name\":\"1989\",\"offsetgroup\":\"1989\",\"opacity\":0.5,\"showlegend\":false,\"x\":[\"1989\"],\"xaxis\":\"x2\",\"yaxis\":\"y2\",\"type\":\"histogram\"},{\"hovertemplate\":\"Release Date=%{x}<br>total_tracks=%{y}<extra></extra>\",\"legendgroup\":\"1991\",\"marker\":{\"color\":\"#00BF7D\",\"symbol\":\"circle\"},\"mode\":\"markers\",\"name\":\"1991\",\"orientation\":\"v\",\"showlegend\":true,\"x\":[\"1991\"],\"xaxis\":\"x\",\"y\":[10],\"yaxis\":\"y\",\"type\":\"scatter\"},{\"alignmentgroup\":\"True\",\"bingroup\":\"x\",\"hovertemplate\":\"Release Date=%{x}<br>count=%{y}<extra></extra>\",\"legendgroup\":\"1991\",\"marker\":{\"color\":\"#00BF7D\"},\"name\":\"1991\",\"offsetgroup\":\"1991\",\"opacity\":0.5,\"showlegend\":false,\"x\":[\"1991\"],\"xaxis\":\"x2\",\"yaxis\":\"y2\",\"type\":\"histogram\"},{\"hovertemplate\":\"Release Date=%{x}<br>total_tracks=%{y}<extra></extra>\",\"legendgroup\":\"1993\",\"marker\":{\"color\":\"#00B0F6\",\"symbol\":\"circle\"},\"mode\":\"markers\",\"name\":\"1993\",\"orientation\":\"v\",\"showlegend\":true,\"x\":[\"1993\"],\"xaxis\":\"x\",\"y\":[11],\"yaxis\":\"y\",\"type\":\"scatter\"},{\"alignmentgroup\":\"True\",\"bingroup\":\"x\",\"hovertemplate\":\"Release Date=%{x}<br>count=%{y}<extra></extra>\",\"legendgroup\":\"1993\",\"marker\":{\"color\":\"#00B0F6\"},\"name\":\"1993\",\"offsetgroup\":\"1993\",\"opacity\":0.5,\"showlegend\":false,\"x\":[\"1993\"],\"xaxis\":\"x2\",\"yaxis\":\"y2\",\"type\":\"histogram\"},{\"hovertemplate\":\"Release Date=%{x}<br>total_tracks=%{y}<extra></extra>\",\"legendgroup\":\"1996\",\"marker\":{\"color\":\"#E76BF3\",\"symbol\":\"circle\"},\"mode\":\"markers\",\"name\":\"1996\",\"orientation\":\"v\",\"showlegend\":true,\"x\":[\"1996\"],\"xaxis\":\"x\",\"y\":[11],\"yaxis\":\"y\",\"type\":\"scatter\"},{\"alignmentgroup\":\"True\",\"bingroup\":\"x\",\"hovertemplate\":\"Release Date=%{x}<br>count=%{y}<extra></extra>\",\"legendgroup\":\"1996\",\"marker\":{\"color\":\"#E76BF3\"},\"name\":\"1996\",\"offsetgroup\":\"1996\",\"opacity\":0.5,\"showlegend\":false,\"x\":[\"1996\"],\"xaxis\":\"x2\",\"yaxis\":\"y2\",\"type\":\"histogram\"},{\"hovertemplate\":\"Release Date=%{x}<br>total_tracks=%{y}<extra></extra>\",\"legendgroup\":\"2004\",\"marker\":{\"color\":\"#F8766D\",\"symbol\":\"circle\"},\"mode\":\"markers\",\"name\":\"2004\",\"orientation\":\"v\",\"showlegend\":true,\"x\":[\"2004\"],\"xaxis\":\"x\",\"y\":[8],\"yaxis\":\"y\",\"type\":\"scatter\"},{\"alignmentgroup\":\"True\",\"bingroup\":\"x\",\"hovertemplate\":\"Release Date=%{x}<br>count=%{y}<extra></extra>\",\"legendgroup\":\"2004\",\"marker\":{\"color\":\"#F8766D\"},\"name\":\"2004\",\"offsetgroup\":\"2004\",\"opacity\":0.5,\"showlegend\":false,\"x\":[\"2004\"],\"xaxis\":\"x2\",\"yaxis\":\"y2\",\"type\":\"histogram\"},{\"hovertemplate\":\"Release Date=%{x}<br>total_tracks=%{y}<extra></extra>\",\"legendgroup\":\"2007\",\"marker\":{\"color\":\"#A3A500\",\"symbol\":\"circle\"},\"mode\":\"markers\",\"name\":\"2007\",\"orientation\":\"v\",\"showlegend\":true,\"x\":[\"2007\"],\"xaxis\":\"x\",\"y\":[13],\"yaxis\":\"y\",\"type\":\"scatter\"},{\"alignmentgroup\":\"True\",\"bingroup\":\"x\",\"hovertemplate\":\"Release Date=%{x}<br>count=%{y}<extra></extra>\",\"legendgroup\":\"2007\",\"marker\":{\"color\":\"#A3A500\"},\"name\":\"2007\",\"offsetgroup\":\"2007\",\"opacity\":0.5,\"showlegend\":false,\"x\":[\"2007\"],\"xaxis\":\"x2\",\"yaxis\":\"y2\",\"type\":\"histogram\"},{\"hovertemplate\":\"Release Date=%{x}<br>total_tracks=%{y}<extra></extra>\",\"legendgroup\":\"2012\",\"marker\":{\"color\":\"#00BF7D\",\"symbol\":\"circle\"},\"mode\":\"markers\",\"name\":\"2012\",\"orientation\":\"v\",\"showlegend\":true,\"x\":[\"2012\"],\"xaxis\":\"x\",\"y\":[12],\"yaxis\":\"y\",\"type\":\"scatter\"},{\"alignmentgroup\":\"True\",\"bingroup\":\"x\",\"hovertemplate\":\"Release Date=%{x}<br>count=%{y}<extra></extra>\",\"legendgroup\":\"2012\",\"marker\":{\"color\":\"#00BF7D\"},\"name\":\"2012\",\"offsetgroup\":\"2012\",\"opacity\":0.5,\"showlegend\":false,\"x\":[\"2012\"],\"xaxis\":\"x2\",\"yaxis\":\"y2\",\"type\":\"histogram\"}],                        {\"template\":{\"data\":{\"barpolar\":[{\"marker\":{\"line\":{\"color\":\"rgb(237,237,237)\",\"width\":0.5},\"pattern\":{\"fillmode\":\"overlay\",\"size\":10,\"solidity\":0.2}},\"type\":\"barpolar\"}],\"bar\":[{\"error_x\":{\"color\":\"rgb(51,51,51)\"},\"error_y\":{\"color\":\"rgb(51,51,51)\"},\"marker\":{\"line\":{\"color\":\"rgb(237,237,237)\",\"width\":0.5},\"pattern\":{\"fillmode\":\"overlay\",\"size\":10,\"solidity\":0.2}},\"type\":\"bar\"}],\"carpet\":[{\"aaxis\":{\"endlinecolor\":\"rgb(51,51,51)\",\"gridcolor\":\"white\",\"linecolor\":\"white\",\"minorgridcolor\":\"white\",\"startlinecolor\":\"rgb(51,51,51)\"},\"baxis\":{\"endlinecolor\":\"rgb(51,51,51)\",\"gridcolor\":\"white\",\"linecolor\":\"white\",\"minorgridcolor\":\"white\",\"startlinecolor\":\"rgb(51,51,51)\"},\"type\":\"carpet\"}],\"choropleth\":[{\"colorbar\":{\"outlinewidth\":0,\"tickcolor\":\"rgb(237,237,237)\",\"ticklen\":6,\"ticks\":\"inside\"},\"type\":\"choropleth\"}],\"contourcarpet\":[{\"colorbar\":{\"outlinewidth\":0,\"tickcolor\":\"rgb(237,237,237)\",\"ticklen\":6,\"ticks\":\"inside\"},\"type\":\"contourcarpet\"}],\"contour\":[{\"colorbar\":{\"outlinewidth\":0,\"tickcolor\":\"rgb(237,237,237)\",\"ticklen\":6,\"ticks\":\"inside\"},\"colorscale\":[[0,\"rgb(20,44,66)\"],[1,\"rgb(90,179,244)\"]],\"type\":\"contour\"}],\"heatmapgl\":[{\"colorbar\":{\"outlinewidth\":0,\"tickcolor\":\"rgb(237,237,237)\",\"ticklen\":6,\"ticks\":\"inside\"},\"colorscale\":[[0,\"rgb(20,44,66)\"],[1,\"rgb(90,179,244)\"]],\"type\":\"heatmapgl\"}],\"heatmap\":[{\"colorbar\":{\"outlinewidth\":0,\"tickcolor\":\"rgb(237,237,237)\",\"ticklen\":6,\"ticks\":\"inside\"},\"colorscale\":[[0,\"rgb(20,44,66)\"],[1,\"rgb(90,179,244)\"]],\"type\":\"heatmap\"}],\"histogram2dcontour\":[{\"colorbar\":{\"outlinewidth\":0,\"tickcolor\":\"rgb(237,237,237)\",\"ticklen\":6,\"ticks\":\"inside\"},\"colorscale\":[[0,\"rgb(20,44,66)\"],[1,\"rgb(90,179,244)\"]],\"type\":\"histogram2dcontour\"}],\"histogram2d\":[{\"colorbar\":{\"outlinewidth\":0,\"tickcolor\":\"rgb(237,237,237)\",\"ticklen\":6,\"ticks\":\"inside\"},\"colorscale\":[[0,\"rgb(20,44,66)\"],[1,\"rgb(90,179,244)\"]],\"type\":\"histogram2d\"}],\"histogram\":[{\"marker\":{\"pattern\":{\"fillmode\":\"overlay\",\"size\":10,\"solidity\":0.2}},\"type\":\"histogram\"}],\"mesh3d\":[{\"colorbar\":{\"outlinewidth\":0,\"tickcolor\":\"rgb(237,237,237)\",\"ticklen\":6,\"ticks\":\"inside\"},\"type\":\"mesh3d\"}],\"parcoords\":[{\"line\":{\"colorbar\":{\"outlinewidth\":0,\"tickcolor\":\"rgb(237,237,237)\",\"ticklen\":6,\"ticks\":\"inside\"}},\"type\":\"parcoords\"}],\"pie\":[{\"automargin\":true,\"type\":\"pie\"}],\"scatter3d\":[{\"line\":{\"colorbar\":{\"outlinewidth\":0,\"tickcolor\":\"rgb(237,237,237)\",\"ticklen\":6,\"ticks\":\"inside\"}},\"marker\":{\"colorbar\":{\"outlinewidth\":0,\"tickcolor\":\"rgb(237,237,237)\",\"ticklen\":6,\"ticks\":\"inside\"}},\"type\":\"scatter3d\"}],\"scattercarpet\":[{\"marker\":{\"colorbar\":{\"outlinewidth\":0,\"tickcolor\":\"rgb(237,237,237)\",\"ticklen\":6,\"ticks\":\"inside\"}},\"type\":\"scattercarpet\"}],\"scattergeo\":[{\"marker\":{\"colorbar\":{\"outlinewidth\":0,\"tickcolor\":\"rgb(237,237,237)\",\"ticklen\":6,\"ticks\":\"inside\"}},\"type\":\"scattergeo\"}],\"scattergl\":[{\"marker\":{\"colorbar\":{\"outlinewidth\":0,\"tickcolor\":\"rgb(237,237,237)\",\"ticklen\":6,\"ticks\":\"inside\"}},\"type\":\"scattergl\"}],\"scattermapbox\":[{\"marker\":{\"colorbar\":{\"outlinewidth\":0,\"tickcolor\":\"rgb(237,237,237)\",\"ticklen\":6,\"ticks\":\"inside\"}},\"type\":\"scattermapbox\"}],\"scatterpolargl\":[{\"marker\":{\"colorbar\":{\"outlinewidth\":0,\"tickcolor\":\"rgb(237,237,237)\",\"ticklen\":6,\"ticks\":\"inside\"}},\"type\":\"scatterpolargl\"}],\"scatterpolar\":[{\"marker\":{\"colorbar\":{\"outlinewidth\":0,\"tickcolor\":\"rgb(237,237,237)\",\"ticklen\":6,\"ticks\":\"inside\"}},\"type\":\"scatterpolar\"}],\"scatter\":[{\"fillpattern\":{\"fillmode\":\"overlay\",\"size\":10,\"solidity\":0.2},\"type\":\"scatter\"}],\"scatterternary\":[{\"marker\":{\"colorbar\":{\"outlinewidth\":0,\"tickcolor\":\"rgb(237,237,237)\",\"ticklen\":6,\"ticks\":\"inside\"}},\"type\":\"scatterternary\"}],\"surface\":[{\"colorbar\":{\"outlinewidth\":0,\"tickcolor\":\"rgb(237,237,237)\",\"ticklen\":6,\"ticks\":\"inside\"},\"colorscale\":[[0,\"rgb(20,44,66)\"],[1,\"rgb(90,179,244)\"]],\"type\":\"surface\"}],\"table\":[{\"cells\":{\"fill\":{\"color\":\"rgb(237,237,237)\"},\"line\":{\"color\":\"white\"}},\"header\":{\"fill\":{\"color\":\"rgb(217,217,217)\"},\"line\":{\"color\":\"white\"}},\"type\":\"table\"}]},\"layout\":{\"annotationdefaults\":{\"arrowhead\":0,\"arrowwidth\":1},\"autotypenumbers\":\"strict\",\"coloraxis\":{\"colorbar\":{\"outlinewidth\":0,\"tickcolor\":\"rgb(237,237,237)\",\"ticklen\":6,\"ticks\":\"inside\"}},\"colorscale\":{\"sequential\":[[0,\"rgb(20,44,66)\"],[1,\"rgb(90,179,244)\"]],\"sequentialminus\":[[0,\"rgb(20,44,66)\"],[1,\"rgb(90,179,244)\"]]},\"colorway\":[\"#F8766D\",\"#A3A500\",\"#00BF7D\",\"#00B0F6\",\"#E76BF3\"],\"font\":{\"color\":\"rgb(51,51,51)\"},\"geo\":{\"bgcolor\":\"white\",\"lakecolor\":\"white\",\"landcolor\":\"rgb(237,237,237)\",\"showlakes\":true,\"showland\":true,\"subunitcolor\":\"white\"},\"hoverlabel\":{\"align\":\"left\"},\"hovermode\":\"closest\",\"paper_bgcolor\":\"white\",\"plot_bgcolor\":\"rgb(237,237,237)\",\"polar\":{\"angularaxis\":{\"gridcolor\":\"white\",\"linecolor\":\"white\",\"showgrid\":true,\"tickcolor\":\"rgb(51,51,51)\",\"ticks\":\"outside\"},\"bgcolor\":\"rgb(237,237,237)\",\"radialaxis\":{\"gridcolor\":\"white\",\"linecolor\":\"white\",\"showgrid\":true,\"tickcolor\":\"rgb(51,51,51)\",\"ticks\":\"outside\"}},\"scene\":{\"xaxis\":{\"backgroundcolor\":\"rgb(237,237,237)\",\"gridcolor\":\"white\",\"gridwidth\":2,\"linecolor\":\"white\",\"showbackground\":true,\"showgrid\":true,\"tickcolor\":\"rgb(51,51,51)\",\"ticks\":\"outside\",\"zerolinecolor\":\"white\"},\"yaxis\":{\"backgroundcolor\":\"rgb(237,237,237)\",\"gridcolor\":\"white\",\"gridwidth\":2,\"linecolor\":\"white\",\"showbackground\":true,\"showgrid\":true,\"tickcolor\":\"rgb(51,51,51)\",\"ticks\":\"outside\",\"zerolinecolor\":\"white\"},\"zaxis\":{\"backgroundcolor\":\"rgb(237,237,237)\",\"gridcolor\":\"white\",\"gridwidth\":2,\"linecolor\":\"white\",\"showbackground\":true,\"showgrid\":true,\"tickcolor\":\"rgb(51,51,51)\",\"ticks\":\"outside\",\"zerolinecolor\":\"white\"}},\"shapedefaults\":{\"fillcolor\":\"black\",\"line\":{\"width\":0},\"opacity\":0.3},\"ternary\":{\"aaxis\":{\"gridcolor\":\"white\",\"linecolor\":\"white\",\"showgrid\":true,\"tickcolor\":\"rgb(51,51,51)\",\"ticks\":\"outside\"},\"baxis\":{\"gridcolor\":\"white\",\"linecolor\":\"white\",\"showgrid\":true,\"tickcolor\":\"rgb(51,51,51)\",\"ticks\":\"outside\"},\"bgcolor\":\"rgb(237,237,237)\",\"caxis\":{\"gridcolor\":\"white\",\"linecolor\":\"white\",\"showgrid\":true,\"tickcolor\":\"rgb(51,51,51)\",\"ticks\":\"outside\"}},\"xaxis\":{\"automargin\":true,\"gridcolor\":\"white\",\"linecolor\":\"white\",\"showgrid\":true,\"tickcolor\":\"rgb(51,51,51)\",\"ticks\":\"outside\",\"title\":{\"standoff\":15},\"zerolinecolor\":\"white\"},\"yaxis\":{\"automargin\":true,\"gridcolor\":\"white\",\"linecolor\":\"white\",\"showgrid\":true,\"tickcolor\":\"rgb(51,51,51)\",\"ticks\":\"outside\",\"title\":{\"standoff\":15},\"zerolinecolor\":\"white\"}}},\"xaxis\":{\"anchor\":\"y\",\"domain\":[0.0,1.0],\"categoryorder\":\"array\",\"categoryarray\":[\"1974\",\"1975\",\"1976\",\"1977\",\"1978\",\"1980\",\"1981\",\"1982\",\"1984\",\"1985\",\"1987\",\"1989\",\"1991\",\"1993\",\"1996\",\"2004\",\"2007\",\"2012\"],\"title\":{\"text\":\"Release Date\"}},\"yaxis\":{\"anchor\":\"x\",\"domain\":[0.0,0.7326],\"title\":{\"text\":\"total_tracks\"}},\"xaxis2\":{\"anchor\":\"y2\",\"domain\":[0.0,1.0],\"matches\":\"x\",\"showticklabels\":false},\"yaxis2\":{\"anchor\":\"x2\",\"domain\":[0.7426,1.0],\"matches\":\"y2\",\"showticklabels\":false,\"showline\":false,\"ticks\":\"\"},\"legend\":{\"title\":{\"text\":\"Release Date\"},\"tracegroupgap\":0},\"margin\":{\"t\":60},\"barmode\":\"overlay\",\"title\":{\"text\":\"Number of Tracks per Album\"},\"width\":700,\"height\":600},                        {\"responsive\": true}                    ).then(function(){\n                            \nvar gd = document.getElementById('caf64d8c-8872-4bb2-ad16-e42bd4b4d439');\nvar x = new MutationObserver(function (mutations, observer) {{\n        var display = window.getComputedStyle(gd).display;\n        if (!display || display === 'none') {{\n            console.log([gd, 'removed!']);\n            Plotly.purge(gd);\n            observer.disconnect();\n        }}\n}});\n\n// Listen for the removal of the full notebook cells\nvar notebookContainer = gd.closest('#notebook-container');\nif (notebookContainer) {{\n    x.observe(notebookContainer, {childList: true});\n}}\n\n// Listen for the clearing of the current output cell\nvar outputEl = gd.closest('.output');\nif (outputEl) {{\n    x.observe(outputEl, {childList: true});\n}}\n\n                        })                };                });            </script>        </div>"
     },
     "metadata": {},
     "output_type": "display_data"
    }
   ],
   "source": [
    "#group by name and release date\n",
    "df_tracks_and_year=df_albums.groupby(['name']).agg({'total_tracks':'first','Release Date':'first', 'popularity':'first'})\n",
    "#sort by release date\n",
    "df_tracks_and_year=df_tracks_and_year.sort_values(by=['Release Date'])\n",
    "#reset index\n",
    "df_tracks_and_year.reset_index(drop=True, inplace=True)\n",
    "#number of albums per year\n",
    "fig = px.scatter(df_tracks_and_year,\n",
    "                 x='Release Date',\n",
    "                 y='total_tracks',\n",
    "                 color='Release Date',\n",
    "                 color_continuous_scale='Viridis',\n",
    "                 marginal_x=\"histogram\",\n",
    "                 labels={'x':'Release year', 'y':'Number of Tracks'},\n",
    "                 template=\"ggplot2\" )\n",
    "fig.update_layout(title='Number of Tracks per Album',\n",
    "                  width=700,\n",
    "                  height=600)\n",
    "fig.show()"
   ],
   "metadata": {
    "collapsed": false,
    "pycharm": {
     "name": "#%%\n"
    }
   }
  },
  {
   "cell_type": "markdown",
   "source": [
    "- Does the era affect the amount of tracks that an album had?\n",
    "\n",
    "R:// Yes! The number of tracks per album has increased over time. The first album had 8 tracks and the last one 12 tracks."
   ],
   "metadata": {
    "collapsed": false,
    "pycharm": {
     "name": "#%% md\n"
    }
   }
  },
  {
   "cell_type": "code",
   "execution_count": 8,
   "outputs": [
    {
     "data": {
      "application/vnd.plotly.v1+json": {
       "data": [
        {
         "coloraxis": "coloraxis",
         "histfunc": "sum",
         "hovertemplate": "Release Date=%{x}<br>Popularity=%{y}<br>sum of Number of Tracks=%{z}<extra></extra>",
         "name": "",
         "x": [
          "1974",
          "1975",
          "1975",
          "1976",
          "1976",
          "1977",
          "1978",
          "1980",
          "1981",
          "1982",
          "1984",
          "1985",
          "1987",
          "1989",
          "1991",
          "1993",
          "1996",
          "2004",
          "2007",
          "2012"
         ],
         "xaxis": "x",
         "xbingroup": "x",
         "y": [
          50,
          35,
          51,
          37,
          45,
          51,
          45,
          55,
          64,
          47,
          40,
          40,
          43,
          36,
          40,
          41,
          33,
          28,
          34,
          37
         ],
         "yaxis": "y",
         "ybingroup": "y",
         "z": [
          8,
          5,
          8,
          6,
          9,
          6,
          4,
          6,
          7,
          8,
          8,
          8,
          10,
          11,
          10,
          11,
          11,
          8,
          13,
          12
         ],
         "type": "histogram2d"
        }
       ],
       "layout": {
        "template": {
         "data": {
          "barpolar": [
           {
            "marker": {
             "line": {
              "color": "rgb(237,237,237)",
              "width": 0.5
             },
             "pattern": {
              "fillmode": "overlay",
              "size": 10,
              "solidity": 0.2
             }
            },
            "type": "barpolar"
           }
          ],
          "bar": [
           {
            "error_x": {
             "color": "rgb(51,51,51)"
            },
            "error_y": {
             "color": "rgb(51,51,51)"
            },
            "marker": {
             "line": {
              "color": "rgb(237,237,237)",
              "width": 0.5
             },
             "pattern": {
              "fillmode": "overlay",
              "size": 10,
              "solidity": 0.2
             }
            },
            "type": "bar"
           }
          ],
          "carpet": [
           {
            "aaxis": {
             "endlinecolor": "rgb(51,51,51)",
             "gridcolor": "white",
             "linecolor": "white",
             "minorgridcolor": "white",
             "startlinecolor": "rgb(51,51,51)"
            },
            "baxis": {
             "endlinecolor": "rgb(51,51,51)",
             "gridcolor": "white",
             "linecolor": "white",
             "minorgridcolor": "white",
             "startlinecolor": "rgb(51,51,51)"
            },
            "type": "carpet"
           }
          ],
          "choropleth": [
           {
            "colorbar": {
             "outlinewidth": 0,
             "tickcolor": "rgb(237,237,237)",
             "ticklen": 6,
             "ticks": "inside"
            },
            "type": "choropleth"
           }
          ],
          "contourcarpet": [
           {
            "colorbar": {
             "outlinewidth": 0,
             "tickcolor": "rgb(237,237,237)",
             "ticklen": 6,
             "ticks": "inside"
            },
            "type": "contourcarpet"
           }
          ],
          "contour": [
           {
            "colorbar": {
             "outlinewidth": 0,
             "tickcolor": "rgb(237,237,237)",
             "ticklen": 6,
             "ticks": "inside"
            },
            "colorscale": [
             [
              0,
              "rgb(20,44,66)"
             ],
             [
              1,
              "rgb(90,179,244)"
             ]
            ],
            "type": "contour"
           }
          ],
          "heatmapgl": [
           {
            "colorbar": {
             "outlinewidth": 0,
             "tickcolor": "rgb(237,237,237)",
             "ticklen": 6,
             "ticks": "inside"
            },
            "colorscale": [
             [
              0,
              "rgb(20,44,66)"
             ],
             [
              1,
              "rgb(90,179,244)"
             ]
            ],
            "type": "heatmapgl"
           }
          ],
          "heatmap": [
           {
            "colorbar": {
             "outlinewidth": 0,
             "tickcolor": "rgb(237,237,237)",
             "ticklen": 6,
             "ticks": "inside"
            },
            "colorscale": [
             [
              0,
              "rgb(20,44,66)"
             ],
             [
              1,
              "rgb(90,179,244)"
             ]
            ],
            "type": "heatmap"
           }
          ],
          "histogram2dcontour": [
           {
            "colorbar": {
             "outlinewidth": 0,
             "tickcolor": "rgb(237,237,237)",
             "ticklen": 6,
             "ticks": "inside"
            },
            "colorscale": [
             [
              0,
              "rgb(20,44,66)"
             ],
             [
              1,
              "rgb(90,179,244)"
             ]
            ],
            "type": "histogram2dcontour"
           }
          ],
          "histogram2d": [
           {
            "colorbar": {
             "outlinewidth": 0,
             "tickcolor": "rgb(237,237,237)",
             "ticklen": 6,
             "ticks": "inside"
            },
            "colorscale": [
             [
              0,
              "rgb(20,44,66)"
             ],
             [
              1,
              "rgb(90,179,244)"
             ]
            ],
            "type": "histogram2d"
           }
          ],
          "histogram": [
           {
            "marker": {
             "pattern": {
              "fillmode": "overlay",
              "size": 10,
              "solidity": 0.2
             }
            },
            "type": "histogram"
           }
          ],
          "mesh3d": [
           {
            "colorbar": {
             "outlinewidth": 0,
             "tickcolor": "rgb(237,237,237)",
             "ticklen": 6,
             "ticks": "inside"
            },
            "type": "mesh3d"
           }
          ],
          "parcoords": [
           {
            "line": {
             "colorbar": {
              "outlinewidth": 0,
              "tickcolor": "rgb(237,237,237)",
              "ticklen": 6,
              "ticks": "inside"
             }
            },
            "type": "parcoords"
           }
          ],
          "pie": [
           {
            "automargin": true,
            "type": "pie"
           }
          ],
          "scatter3d": [
           {
            "line": {
             "colorbar": {
              "outlinewidth": 0,
              "tickcolor": "rgb(237,237,237)",
              "ticklen": 6,
              "ticks": "inside"
             }
            },
            "marker": {
             "colorbar": {
              "outlinewidth": 0,
              "tickcolor": "rgb(237,237,237)",
              "ticklen": 6,
              "ticks": "inside"
             }
            },
            "type": "scatter3d"
           }
          ],
          "scattercarpet": [
           {
            "marker": {
             "colorbar": {
              "outlinewidth": 0,
              "tickcolor": "rgb(237,237,237)",
              "ticklen": 6,
              "ticks": "inside"
             }
            },
            "type": "scattercarpet"
           }
          ],
          "scattergeo": [
           {
            "marker": {
             "colorbar": {
              "outlinewidth": 0,
              "tickcolor": "rgb(237,237,237)",
              "ticklen": 6,
              "ticks": "inside"
             }
            },
            "type": "scattergeo"
           }
          ],
          "scattergl": [
           {
            "marker": {
             "colorbar": {
              "outlinewidth": 0,
              "tickcolor": "rgb(237,237,237)",
              "ticklen": 6,
              "ticks": "inside"
             }
            },
            "type": "scattergl"
           }
          ],
          "scattermapbox": [
           {
            "marker": {
             "colorbar": {
              "outlinewidth": 0,
              "tickcolor": "rgb(237,237,237)",
              "ticklen": 6,
              "ticks": "inside"
             }
            },
            "type": "scattermapbox"
           }
          ],
          "scatterpolargl": [
           {
            "marker": {
             "colorbar": {
              "outlinewidth": 0,
              "tickcolor": "rgb(237,237,237)",
              "ticklen": 6,
              "ticks": "inside"
             }
            },
            "type": "scatterpolargl"
           }
          ],
          "scatterpolar": [
           {
            "marker": {
             "colorbar": {
              "outlinewidth": 0,
              "tickcolor": "rgb(237,237,237)",
              "ticklen": 6,
              "ticks": "inside"
             }
            },
            "type": "scatterpolar"
           }
          ],
          "scatter": [
           {
            "fillpattern": {
             "fillmode": "overlay",
             "size": 10,
             "solidity": 0.2
            },
            "type": "scatter"
           }
          ],
          "scatterternary": [
           {
            "marker": {
             "colorbar": {
              "outlinewidth": 0,
              "tickcolor": "rgb(237,237,237)",
              "ticklen": 6,
              "ticks": "inside"
             }
            },
            "type": "scatterternary"
           }
          ],
          "surface": [
           {
            "colorbar": {
             "outlinewidth": 0,
             "tickcolor": "rgb(237,237,237)",
             "ticklen": 6,
             "ticks": "inside"
            },
            "colorscale": [
             [
              0,
              "rgb(20,44,66)"
             ],
             [
              1,
              "rgb(90,179,244)"
             ]
            ],
            "type": "surface"
           }
          ],
          "table": [
           {
            "cells": {
             "fill": {
              "color": "rgb(237,237,237)"
             },
             "line": {
              "color": "white"
             }
            },
            "header": {
             "fill": {
              "color": "rgb(217,217,217)"
             },
             "line": {
              "color": "white"
             }
            },
            "type": "table"
           }
          ]
         },
         "layout": {
          "annotationdefaults": {
           "arrowhead": 0,
           "arrowwidth": 1
          },
          "autotypenumbers": "strict",
          "coloraxis": {
           "colorbar": {
            "outlinewidth": 0,
            "tickcolor": "rgb(237,237,237)",
            "ticklen": 6,
            "ticks": "inside"
           }
          },
          "colorscale": {
           "sequential": [
            [
             0,
             "rgb(20,44,66)"
            ],
            [
             1,
             "rgb(90,179,244)"
            ]
           ],
           "sequentialminus": [
            [
             0,
             "rgb(20,44,66)"
            ],
            [
             1,
             "rgb(90,179,244)"
            ]
           ]
          },
          "colorway": [
           "#F8766D",
           "#A3A500",
           "#00BF7D",
           "#00B0F6",
           "#E76BF3"
          ],
          "font": {
           "color": "rgb(51,51,51)"
          },
          "geo": {
           "bgcolor": "white",
           "lakecolor": "white",
           "landcolor": "rgb(237,237,237)",
           "showlakes": true,
           "showland": true,
           "subunitcolor": "white"
          },
          "hoverlabel": {
           "align": "left"
          },
          "hovermode": "closest",
          "paper_bgcolor": "white",
          "plot_bgcolor": "rgb(237,237,237)",
          "polar": {
           "angularaxis": {
            "gridcolor": "white",
            "linecolor": "white",
            "showgrid": true,
            "tickcolor": "rgb(51,51,51)",
            "ticks": "outside"
           },
           "bgcolor": "rgb(237,237,237)",
           "radialaxis": {
            "gridcolor": "white",
            "linecolor": "white",
            "showgrid": true,
            "tickcolor": "rgb(51,51,51)",
            "ticks": "outside"
           }
          },
          "scene": {
           "xaxis": {
            "backgroundcolor": "rgb(237,237,237)",
            "gridcolor": "white",
            "gridwidth": 2,
            "linecolor": "white",
            "showbackground": true,
            "showgrid": true,
            "tickcolor": "rgb(51,51,51)",
            "ticks": "outside",
            "zerolinecolor": "white"
           },
           "yaxis": {
            "backgroundcolor": "rgb(237,237,237)",
            "gridcolor": "white",
            "gridwidth": 2,
            "linecolor": "white",
            "showbackground": true,
            "showgrid": true,
            "tickcolor": "rgb(51,51,51)",
            "ticks": "outside",
            "zerolinecolor": "white"
           },
           "zaxis": {
            "backgroundcolor": "rgb(237,237,237)",
            "gridcolor": "white",
            "gridwidth": 2,
            "linecolor": "white",
            "showbackground": true,
            "showgrid": true,
            "tickcolor": "rgb(51,51,51)",
            "ticks": "outside",
            "zerolinecolor": "white"
           }
          },
          "shapedefaults": {
           "fillcolor": "black",
           "line": {
            "width": 0
           },
           "opacity": 0.3
          },
          "ternary": {
           "aaxis": {
            "gridcolor": "white",
            "linecolor": "white",
            "showgrid": true,
            "tickcolor": "rgb(51,51,51)",
            "ticks": "outside"
           },
           "baxis": {
            "gridcolor": "white",
            "linecolor": "white",
            "showgrid": true,
            "tickcolor": "rgb(51,51,51)",
            "ticks": "outside"
           },
           "bgcolor": "rgb(237,237,237)",
           "caxis": {
            "gridcolor": "white",
            "linecolor": "white",
            "showgrid": true,
            "tickcolor": "rgb(51,51,51)",
            "ticks": "outside"
           }
          },
          "xaxis": {
           "automargin": true,
           "gridcolor": "white",
           "linecolor": "white",
           "showgrid": true,
           "tickcolor": "rgb(51,51,51)",
           "ticks": "outside",
           "title": {
            "standoff": 15
           },
           "zerolinecolor": "white"
          },
          "yaxis": {
           "automargin": true,
           "gridcolor": "white",
           "linecolor": "white",
           "showgrid": true,
           "tickcolor": "rgb(51,51,51)",
           "ticks": "outside",
           "title": {
            "standoff": 15
           },
           "zerolinecolor": "white"
          }
         }
        },
        "xaxis": {
         "anchor": "y",
         "domain": [
          0.0,
          1.0
         ],
         "title": {
          "text": "Release Date"
         }
        },
        "yaxis": {
         "anchor": "x",
         "domain": [
          0.0,
          1.0
         ],
         "title": {
          "text": "Popularity"
         }
        },
        "coloraxis": {
         "colorbar": {
          "title": {
           "text": "Number of Tracks"
          }
         },
         "colorscale": [
          [
           0.0,
           "rgb(247,251,255)"
          ],
          [
           0.125,
           "rgb(222,235,247)"
          ],
          [
           0.25,
           "rgb(198,219,239)"
          ],
          [
           0.375,
           "rgb(158,202,225)"
          ],
          [
           0.5,
           "rgb(107,174,214)"
          ],
          [
           0.625,
           "rgb(66,146,198)"
          ],
          [
           0.75,
           "rgb(33,113,181)"
          ],
          [
           0.875,
           "rgb(8,81,156)"
          ],
          [
           1.0,
           "rgb(8,48,107)"
          ]
         ]
        },
        "legend": {
         "tracegroupgap": 0
        },
        "margin": {
         "t": 60
        },
        "title": {
         "text": "Heatmap: Release date, popularity and number of tracks per album"
        },
        "width": 700,
        "height": 600
       },
       "config": {
        "plotlyServerURL": "https://plot.ly"
       }
      },
      "text/html": "<div>                            <div id=\"1f353df7-db41-4cc0-a9a7-8e7d4158796c\" class=\"plotly-graph-div\" style=\"height:600px; width:700px;\"></div>            <script type=\"text/javascript\">                require([\"plotly\"], function(Plotly) {                    window.PLOTLYENV=window.PLOTLYENV || {};                                    if (document.getElementById(\"1f353df7-db41-4cc0-a9a7-8e7d4158796c\")) {                    Plotly.newPlot(                        \"1f353df7-db41-4cc0-a9a7-8e7d4158796c\",                        [{\"coloraxis\":\"coloraxis\",\"histfunc\":\"sum\",\"hovertemplate\":\"Release Date=%{x}<br>Popularity=%{y}<br>sum of Number of Tracks=%{z}<extra></extra>\",\"name\":\"\",\"x\":[\"1974\",\"1975\",\"1975\",\"1976\",\"1976\",\"1977\",\"1978\",\"1980\",\"1981\",\"1982\",\"1984\",\"1985\",\"1987\",\"1989\",\"1991\",\"1993\",\"1996\",\"2004\",\"2007\",\"2012\"],\"xaxis\":\"x\",\"xbingroup\":\"x\",\"y\":[50,35,51,37,45,51,45,55,64,47,40,40,43,36,40,41,33,28,34,37],\"yaxis\":\"y\",\"ybingroup\":\"y\",\"z\":[8,5,8,6,9,6,4,6,7,8,8,8,10,11,10,11,11,8,13,12],\"type\":\"histogram2d\"}],                        {\"template\":{\"data\":{\"barpolar\":[{\"marker\":{\"line\":{\"color\":\"rgb(237,237,237)\",\"width\":0.5},\"pattern\":{\"fillmode\":\"overlay\",\"size\":10,\"solidity\":0.2}},\"type\":\"barpolar\"}],\"bar\":[{\"error_x\":{\"color\":\"rgb(51,51,51)\"},\"error_y\":{\"color\":\"rgb(51,51,51)\"},\"marker\":{\"line\":{\"color\":\"rgb(237,237,237)\",\"width\":0.5},\"pattern\":{\"fillmode\":\"overlay\",\"size\":10,\"solidity\":0.2}},\"type\":\"bar\"}],\"carpet\":[{\"aaxis\":{\"endlinecolor\":\"rgb(51,51,51)\",\"gridcolor\":\"white\",\"linecolor\":\"white\",\"minorgridcolor\":\"white\",\"startlinecolor\":\"rgb(51,51,51)\"},\"baxis\":{\"endlinecolor\":\"rgb(51,51,51)\",\"gridcolor\":\"white\",\"linecolor\":\"white\",\"minorgridcolor\":\"white\",\"startlinecolor\":\"rgb(51,51,51)\"},\"type\":\"carpet\"}],\"choropleth\":[{\"colorbar\":{\"outlinewidth\":0,\"tickcolor\":\"rgb(237,237,237)\",\"ticklen\":6,\"ticks\":\"inside\"},\"type\":\"choropleth\"}],\"contourcarpet\":[{\"colorbar\":{\"outlinewidth\":0,\"tickcolor\":\"rgb(237,237,237)\",\"ticklen\":6,\"ticks\":\"inside\"},\"type\":\"contourcarpet\"}],\"contour\":[{\"colorbar\":{\"outlinewidth\":0,\"tickcolor\":\"rgb(237,237,237)\",\"ticklen\":6,\"ticks\":\"inside\"},\"colorscale\":[[0,\"rgb(20,44,66)\"],[1,\"rgb(90,179,244)\"]],\"type\":\"contour\"}],\"heatmapgl\":[{\"colorbar\":{\"outlinewidth\":0,\"tickcolor\":\"rgb(237,237,237)\",\"ticklen\":6,\"ticks\":\"inside\"},\"colorscale\":[[0,\"rgb(20,44,66)\"],[1,\"rgb(90,179,244)\"]],\"type\":\"heatmapgl\"}],\"heatmap\":[{\"colorbar\":{\"outlinewidth\":0,\"tickcolor\":\"rgb(237,237,237)\",\"ticklen\":6,\"ticks\":\"inside\"},\"colorscale\":[[0,\"rgb(20,44,66)\"],[1,\"rgb(90,179,244)\"]],\"type\":\"heatmap\"}],\"histogram2dcontour\":[{\"colorbar\":{\"outlinewidth\":0,\"tickcolor\":\"rgb(237,237,237)\",\"ticklen\":6,\"ticks\":\"inside\"},\"colorscale\":[[0,\"rgb(20,44,66)\"],[1,\"rgb(90,179,244)\"]],\"type\":\"histogram2dcontour\"}],\"histogram2d\":[{\"colorbar\":{\"outlinewidth\":0,\"tickcolor\":\"rgb(237,237,237)\",\"ticklen\":6,\"ticks\":\"inside\"},\"colorscale\":[[0,\"rgb(20,44,66)\"],[1,\"rgb(90,179,244)\"]],\"type\":\"histogram2d\"}],\"histogram\":[{\"marker\":{\"pattern\":{\"fillmode\":\"overlay\",\"size\":10,\"solidity\":0.2}},\"type\":\"histogram\"}],\"mesh3d\":[{\"colorbar\":{\"outlinewidth\":0,\"tickcolor\":\"rgb(237,237,237)\",\"ticklen\":6,\"ticks\":\"inside\"},\"type\":\"mesh3d\"}],\"parcoords\":[{\"line\":{\"colorbar\":{\"outlinewidth\":0,\"tickcolor\":\"rgb(237,237,237)\",\"ticklen\":6,\"ticks\":\"inside\"}},\"type\":\"parcoords\"}],\"pie\":[{\"automargin\":true,\"type\":\"pie\"}],\"scatter3d\":[{\"line\":{\"colorbar\":{\"outlinewidth\":0,\"tickcolor\":\"rgb(237,237,237)\",\"ticklen\":6,\"ticks\":\"inside\"}},\"marker\":{\"colorbar\":{\"outlinewidth\":0,\"tickcolor\":\"rgb(237,237,237)\",\"ticklen\":6,\"ticks\":\"inside\"}},\"type\":\"scatter3d\"}],\"scattercarpet\":[{\"marker\":{\"colorbar\":{\"outlinewidth\":0,\"tickcolor\":\"rgb(237,237,237)\",\"ticklen\":6,\"ticks\":\"inside\"}},\"type\":\"scattercarpet\"}],\"scattergeo\":[{\"marker\":{\"colorbar\":{\"outlinewidth\":0,\"tickcolor\":\"rgb(237,237,237)\",\"ticklen\":6,\"ticks\":\"inside\"}},\"type\":\"scattergeo\"}],\"scattergl\":[{\"marker\":{\"colorbar\":{\"outlinewidth\":0,\"tickcolor\":\"rgb(237,237,237)\",\"ticklen\":6,\"ticks\":\"inside\"}},\"type\":\"scattergl\"}],\"scattermapbox\":[{\"marker\":{\"colorbar\":{\"outlinewidth\":0,\"tickcolor\":\"rgb(237,237,237)\",\"ticklen\":6,\"ticks\":\"inside\"}},\"type\":\"scattermapbox\"}],\"scatterpolargl\":[{\"marker\":{\"colorbar\":{\"outlinewidth\":0,\"tickcolor\":\"rgb(237,237,237)\",\"ticklen\":6,\"ticks\":\"inside\"}},\"type\":\"scatterpolargl\"}],\"scatterpolar\":[{\"marker\":{\"colorbar\":{\"outlinewidth\":0,\"tickcolor\":\"rgb(237,237,237)\",\"ticklen\":6,\"ticks\":\"inside\"}},\"type\":\"scatterpolar\"}],\"scatter\":[{\"fillpattern\":{\"fillmode\":\"overlay\",\"size\":10,\"solidity\":0.2},\"type\":\"scatter\"}],\"scatterternary\":[{\"marker\":{\"colorbar\":{\"outlinewidth\":0,\"tickcolor\":\"rgb(237,237,237)\",\"ticklen\":6,\"ticks\":\"inside\"}},\"type\":\"scatterternary\"}],\"surface\":[{\"colorbar\":{\"outlinewidth\":0,\"tickcolor\":\"rgb(237,237,237)\",\"ticklen\":6,\"ticks\":\"inside\"},\"colorscale\":[[0,\"rgb(20,44,66)\"],[1,\"rgb(90,179,244)\"]],\"type\":\"surface\"}],\"table\":[{\"cells\":{\"fill\":{\"color\":\"rgb(237,237,237)\"},\"line\":{\"color\":\"white\"}},\"header\":{\"fill\":{\"color\":\"rgb(217,217,217)\"},\"line\":{\"color\":\"white\"}},\"type\":\"table\"}]},\"layout\":{\"annotationdefaults\":{\"arrowhead\":0,\"arrowwidth\":1},\"autotypenumbers\":\"strict\",\"coloraxis\":{\"colorbar\":{\"outlinewidth\":0,\"tickcolor\":\"rgb(237,237,237)\",\"ticklen\":6,\"ticks\":\"inside\"}},\"colorscale\":{\"sequential\":[[0,\"rgb(20,44,66)\"],[1,\"rgb(90,179,244)\"]],\"sequentialminus\":[[0,\"rgb(20,44,66)\"],[1,\"rgb(90,179,244)\"]]},\"colorway\":[\"#F8766D\",\"#A3A500\",\"#00BF7D\",\"#00B0F6\",\"#E76BF3\"],\"font\":{\"color\":\"rgb(51,51,51)\"},\"geo\":{\"bgcolor\":\"white\",\"lakecolor\":\"white\",\"landcolor\":\"rgb(237,237,237)\",\"showlakes\":true,\"showland\":true,\"subunitcolor\":\"white\"},\"hoverlabel\":{\"align\":\"left\"},\"hovermode\":\"closest\",\"paper_bgcolor\":\"white\",\"plot_bgcolor\":\"rgb(237,237,237)\",\"polar\":{\"angularaxis\":{\"gridcolor\":\"white\",\"linecolor\":\"white\",\"showgrid\":true,\"tickcolor\":\"rgb(51,51,51)\",\"ticks\":\"outside\"},\"bgcolor\":\"rgb(237,237,237)\",\"radialaxis\":{\"gridcolor\":\"white\",\"linecolor\":\"white\",\"showgrid\":true,\"tickcolor\":\"rgb(51,51,51)\",\"ticks\":\"outside\"}},\"scene\":{\"xaxis\":{\"backgroundcolor\":\"rgb(237,237,237)\",\"gridcolor\":\"white\",\"gridwidth\":2,\"linecolor\":\"white\",\"showbackground\":true,\"showgrid\":true,\"tickcolor\":\"rgb(51,51,51)\",\"ticks\":\"outside\",\"zerolinecolor\":\"white\"},\"yaxis\":{\"backgroundcolor\":\"rgb(237,237,237)\",\"gridcolor\":\"white\",\"gridwidth\":2,\"linecolor\":\"white\",\"showbackground\":true,\"showgrid\":true,\"tickcolor\":\"rgb(51,51,51)\",\"ticks\":\"outside\",\"zerolinecolor\":\"white\"},\"zaxis\":{\"backgroundcolor\":\"rgb(237,237,237)\",\"gridcolor\":\"white\",\"gridwidth\":2,\"linecolor\":\"white\",\"showbackground\":true,\"showgrid\":true,\"tickcolor\":\"rgb(51,51,51)\",\"ticks\":\"outside\",\"zerolinecolor\":\"white\"}},\"shapedefaults\":{\"fillcolor\":\"black\",\"line\":{\"width\":0},\"opacity\":0.3},\"ternary\":{\"aaxis\":{\"gridcolor\":\"white\",\"linecolor\":\"white\",\"showgrid\":true,\"tickcolor\":\"rgb(51,51,51)\",\"ticks\":\"outside\"},\"baxis\":{\"gridcolor\":\"white\",\"linecolor\":\"white\",\"showgrid\":true,\"tickcolor\":\"rgb(51,51,51)\",\"ticks\":\"outside\"},\"bgcolor\":\"rgb(237,237,237)\",\"caxis\":{\"gridcolor\":\"white\",\"linecolor\":\"white\",\"showgrid\":true,\"tickcolor\":\"rgb(51,51,51)\",\"ticks\":\"outside\"}},\"xaxis\":{\"automargin\":true,\"gridcolor\":\"white\",\"linecolor\":\"white\",\"showgrid\":true,\"tickcolor\":\"rgb(51,51,51)\",\"ticks\":\"outside\",\"title\":{\"standoff\":15},\"zerolinecolor\":\"white\"},\"yaxis\":{\"automargin\":true,\"gridcolor\":\"white\",\"linecolor\":\"white\",\"showgrid\":true,\"tickcolor\":\"rgb(51,51,51)\",\"ticks\":\"outside\",\"title\":{\"standoff\":15},\"zerolinecolor\":\"white\"}}},\"xaxis\":{\"anchor\":\"y\",\"domain\":[0.0,1.0],\"title\":{\"text\":\"Release Date\"}},\"yaxis\":{\"anchor\":\"x\",\"domain\":[0.0,1.0],\"title\":{\"text\":\"Popularity\"}},\"coloraxis\":{\"colorbar\":{\"title\":{\"text\":\"Number of Tracks\"}},\"colorscale\":[[0.0,\"rgb(247,251,255)\"],[0.125,\"rgb(222,235,247)\"],[0.25,\"rgb(198,219,239)\"],[0.375,\"rgb(158,202,225)\"],[0.5,\"rgb(107,174,214)\"],[0.625,\"rgb(66,146,198)\"],[0.75,\"rgb(33,113,181)\"],[0.875,\"rgb(8,81,156)\"],[1.0,\"rgb(8,48,107)\"]]},\"legend\":{\"tracegroupgap\":0},\"margin\":{\"t\":60},\"title\":{\"text\":\"Heatmap: Release date, popularity and number of tracks per album\"},\"width\":700,\"height\":600},                        {\"responsive\": true}                    ).then(function(){\n                            \nvar gd = document.getElementById('1f353df7-db41-4cc0-a9a7-8e7d4158796c');\nvar x = new MutationObserver(function (mutations, observer) {{\n        var display = window.getComputedStyle(gd).display;\n        if (!display || display === 'none') {{\n            console.log([gd, 'removed!']);\n            Plotly.purge(gd);\n            observer.disconnect();\n        }}\n}});\n\n// Listen for the removal of the full notebook cells\nvar notebookContainer = gd.closest('#notebook-container');\nif (notebookContainer) {{\n    x.observe(notebookContainer, {childList: true});\n}}\n\n// Listen for the clearing of the current output cell\nvar outputEl = gd.closest('.output');\nif (outputEl) {{\n    x.observe(outputEl, {childList: true});\n}}\n\n                        })                };                });            </script>        </div>"
     },
     "metadata": {},
     "output_type": "display_data"
    }
   ],
   "source": [
    "#sotring by release date\n",
    "df_albums=df_albums.sort_values(by=['Release Date'], ascending=True)\n",
    "#heatmap of popularity, release date and number of tracks\n",
    "fig = px.density_heatmap(df_albums,\n",
    "                         x=\"Release Date\",\n",
    "                         y=\"popularity\",\n",
    "                         z=\"total_tracks\",\n",
    "                         #histfunc=\"max\",\n",
    "                         color_continuous_scale=\"Blues\",\n",
    "                         labels={'popularity':'Popularity', 'Release Date':'Release Date', 'total_tracks':'Number of Tracks'},\n",
    "                         template=\"ggplot2\")\n",
    "fig.update_layout(title='Heatmap: Release date, popularity and number of tracks per album')\n",
    "fig.layout['coloraxis']['colorbar']['title'] = 'Number of Tracks'\n",
    "fig.update_layout(width=700, height=600)\n",
    "fig.show()\n"
   ],
   "metadata": {
    "collapsed": false,
    "pycharm": {
     "name": "#%%\n"
    }
   }
  },
  {
   "cell_type": "markdown",
   "source": [
    "- The popularity of an album is it affected by the era?\n",
    "R:// Yes! The popularity of an album is affected by the era. The most popular albums were released in the 70s.\n",
    "\n",
    "- The number of tracks it's related to the popularity of the album?\n",
    "R:// Yes! The more tracks an album has, the less popular it is.\n",
    "\n",
    "## Conclusion\n",
    "\n",
    "The most popular years of Rush were the 70s, in the beginning of the band. As time increased, the songs became shorter and the albums did not enjoy as much popularity.\n",
    "\n",
    "\n"
   ],
   "metadata": {
    "collapsed": false,
    "pycharm": {
     "name": "#%% md\n"
    }
   }
  }
 ],
 "metadata": {
  "kernelspec": {
   "display_name": "Python 3.9.7 ('base')",
   "language": "python",
   "name": "python3"
  },
  "language_info": {
   "codemirror_mode": {
    "name": "ipython",
    "version": 3
   },
   "file_extension": ".py",
   "mimetype": "text/x-python",
   "name": "python",
   "nbconvert_exporter": "python",
   "pygments_lexer": "ipython3",
   "version": "3.9.7"
  },
  "vscode": {
   "interpreter": {
    "hash": "80a029067f15b34fab7e2fe89f2d0d1bf86b98984ecb718f9fa9babe99b9cea0"
   }
  }
 },
 "nbformat": 4,
 "nbformat_minor": 0
}